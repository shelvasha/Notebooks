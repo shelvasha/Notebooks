{
  "nbformat": 4,
  "nbformat_minor": 0,
  "metadata": {
    "colab": {
      "name": "Modeling-Predicting_a_Stroke.ipynb",
      "provenance": [],
      "collapsed_sections": [
        "-o1M7Nzi-Dtu",
        "-MTGORiwrr33",
        "dY-e2I0TgZrI",
        "c5-6DCpVsLY2",
        "rZvu_S923JDL"
      ],
      "authorship_tag": "ABX9TyOdKVnkU/iLfhw+NoBHtOjQ",
      "include_colab_link": true
    },
    "kernelspec": {
      "name": "python3",
      "display_name": "Python 3"
    },
    "language_info": {
      "name": "python"
    }
  },
  "cells": [
    {
      "cell_type": "markdown",
      "metadata": {
        "id": "view-in-github",
        "colab_type": "text"
      },
      "source": [
        "<a href=\"https://colab.research.google.com/github/shelvasha/Notebooks/blob/main/Modeling_Predicting_a_Stroke.ipynb\" target=\"_parent\"><img src=\"https://colab.research.google.com/assets/colab-badge.svg\" alt=\"Open In Colab\"/></a>"
      ]
    },
    {
      "cell_type": "markdown",
      "metadata": {
        "id": "ATwYt481-Wlw"
      },
      "source": [
        "## Context\n",
        "* According to the World Health Organization (WHO) stroke is the 2nd leading cause of death globally, responsible for approximately 11% of total deaths.\n",
        "* This dataset is used to predict whether a patient is likely to get stroke based on the input parameters like gender, age, various diseases, and smoking status. Each row in the data provides relavant information about the patient.\n",
        "\n",
        "### Attribute Information\n",
        "1. id: unique identifier\n",
        "2. gender: \"Male\", \"Female\" or \"Other\"\n",
        "3. age: age of the patient\n",
        "4. hypertension: 0 if the patient doesn't have hypertension, 1 if the patient has hypertension\n",
        "5. heart_disease: 0 if the patient doesn't have any heart diseases, 1 if the patient has a heart disease\n",
        "6. ever_married: \"No\" or \"Yes\"\n",
        "7. work_type: \"children\", \"Govt_jov\", \"Never_worked\", \"Private\" or \"Self-employed\"\n",
        "8. Residence_type: \"Rural\" or \"Urban\"\n",
        "9. avg_glucose_level: average glucose level in blood\n",
        "10. bmi: body mass index\n",
        "11. smoking_status: \"formerly smoked\", \"never smoked\", \"smokes\" or \"Unknown\"*\n",
        "12. stroke: 1 if the patient had a stroke or 0 if not\n",
        "*Note: \"Unknown\" in smoking_status means that the information is unavailable for this patient\n",
        "\n",
        "###Acknowledgements\n",
        "(Confidential Source) - Use only for educational purposes\n",
        "If you use this dataset in your research, please credit the author."
      ]
    },
    {
      "cell_type": "code",
      "metadata": {
        "id": "S-kmON0KNpKU"
      },
      "source": [
        "# Import packages - TensorFlow, pandas and mathplotlib\n",
        "import tensorflow as tf\n",
        "import pandas as pd\n",
        "import matplotlib.pyplot as plt"
      ],
      "execution_count": 2,
      "outputs": []
    },
    {
      "cell_type": "code",
      "metadata": {
        "colab": {
          "base_uri": "https://localhost:8080/",
          "height": 204
        },
        "id": "1TuCTGWaOKui",
        "outputId": "190828cf-856a-4f74-8401-6d1140c74d5b"
      },
      "source": [
        "stroke = pd.read_csv('https://raw.githubusercontent.com/shelvasha/Notebooks/main/Datasets/healthcare-dataset-stroke-data.csv')\n",
        "stroke.head()"
      ],
      "execution_count": 3,
      "outputs": [
        {
          "output_type": "execute_result",
          "data": {
            "text/html": [
              "<div>\n",
              "<style scoped>\n",
              "    .dataframe tbody tr th:only-of-type {\n",
              "        vertical-align: middle;\n",
              "    }\n",
              "\n",
              "    .dataframe tbody tr th {\n",
              "        vertical-align: top;\n",
              "    }\n",
              "\n",
              "    .dataframe thead th {\n",
              "        text-align: right;\n",
              "    }\n",
              "</style>\n",
              "<table border=\"1\" class=\"dataframe\">\n",
              "  <thead>\n",
              "    <tr style=\"text-align: right;\">\n",
              "      <th></th>\n",
              "      <th>id</th>\n",
              "      <th>gender</th>\n",
              "      <th>age</th>\n",
              "      <th>hypertension</th>\n",
              "      <th>heart_disease</th>\n",
              "      <th>ever_married</th>\n",
              "      <th>work_type</th>\n",
              "      <th>Residence_type</th>\n",
              "      <th>avg_glucose_level</th>\n",
              "      <th>bmi</th>\n",
              "      <th>smoking_status</th>\n",
              "      <th>stroke</th>\n",
              "    </tr>\n",
              "  </thead>\n",
              "  <tbody>\n",
              "    <tr>\n",
              "      <th>0</th>\n",
              "      <td>9046</td>\n",
              "      <td>Male</td>\n",
              "      <td>67.0</td>\n",
              "      <td>0</td>\n",
              "      <td>1</td>\n",
              "      <td>Yes</td>\n",
              "      <td>Private</td>\n",
              "      <td>Urban</td>\n",
              "      <td>228.69</td>\n",
              "      <td>36.6</td>\n",
              "      <td>formerly smoked</td>\n",
              "      <td>1</td>\n",
              "    </tr>\n",
              "    <tr>\n",
              "      <th>1</th>\n",
              "      <td>51676</td>\n",
              "      <td>Female</td>\n",
              "      <td>61.0</td>\n",
              "      <td>0</td>\n",
              "      <td>0</td>\n",
              "      <td>Yes</td>\n",
              "      <td>Self-employed</td>\n",
              "      <td>Rural</td>\n",
              "      <td>202.21</td>\n",
              "      <td>NaN</td>\n",
              "      <td>never smoked</td>\n",
              "      <td>1</td>\n",
              "    </tr>\n",
              "    <tr>\n",
              "      <th>2</th>\n",
              "      <td>31112</td>\n",
              "      <td>Male</td>\n",
              "      <td>80.0</td>\n",
              "      <td>0</td>\n",
              "      <td>1</td>\n",
              "      <td>Yes</td>\n",
              "      <td>Private</td>\n",
              "      <td>Rural</td>\n",
              "      <td>105.92</td>\n",
              "      <td>32.5</td>\n",
              "      <td>never smoked</td>\n",
              "      <td>1</td>\n",
              "    </tr>\n",
              "    <tr>\n",
              "      <th>3</th>\n",
              "      <td>60182</td>\n",
              "      <td>Female</td>\n",
              "      <td>49.0</td>\n",
              "      <td>0</td>\n",
              "      <td>0</td>\n",
              "      <td>Yes</td>\n",
              "      <td>Private</td>\n",
              "      <td>Urban</td>\n",
              "      <td>171.23</td>\n",
              "      <td>34.4</td>\n",
              "      <td>smokes</td>\n",
              "      <td>1</td>\n",
              "    </tr>\n",
              "    <tr>\n",
              "      <th>4</th>\n",
              "      <td>1665</td>\n",
              "      <td>Female</td>\n",
              "      <td>79.0</td>\n",
              "      <td>1</td>\n",
              "      <td>0</td>\n",
              "      <td>Yes</td>\n",
              "      <td>Self-employed</td>\n",
              "      <td>Rural</td>\n",
              "      <td>174.12</td>\n",
              "      <td>24.0</td>\n",
              "      <td>never smoked</td>\n",
              "      <td>1</td>\n",
              "    </tr>\n",
              "  </tbody>\n",
              "</table>\n",
              "</div>"
            ],
            "text/plain": [
              "      id  gender   age  ...   bmi   smoking_status stroke\n",
              "0   9046    Male  67.0  ...  36.6  formerly smoked      1\n",
              "1  51676  Female  61.0  ...   NaN     never smoked      1\n",
              "2  31112    Male  80.0  ...  32.5     never smoked      1\n",
              "3  60182  Female  49.0  ...  34.4           smokes      1\n",
              "4   1665  Female  79.0  ...  24.0     never smoked      1\n",
              "\n",
              "[5 rows x 12 columns]"
            ]
          },
          "metadata": {
            "tags": []
          },
          "execution_count": 3
        }
      ]
    },
    {
      "cell_type": "markdown",
      "metadata": {
        "id": "-o1M7Nzi-Dtu"
      },
      "source": [
        "### EDA: profiling the data"
      ]
    },
    {
      "cell_type": "code",
      "metadata": {
        "colab": {
          "base_uri": "https://localhost:8080/",
          "height": 297
        },
        "id": "5s6tvA5OeuH3",
        "outputId": "ce67a398-045c-449e-b1af-0d1f2118b16c"
      },
      "source": [
        "fig, ((p1),(p2),(p3)) = plt.subplots(1,3)\n",
        "\n",
        "p1.hist(stroke['age'])\n",
        "p1.set_title('Age')\n",
        "\n",
        "p2.hist(stroke['bmi'])\n",
        "p2.set_title('BMI')\n",
        "\n",
        "p3.hist(stroke['avg_glucose_level'])\n",
        "p3.set_title('Avg. Glucose Lvl.')\n",
        "\n",
        "fig.tight_layout()\n",
        "plt.show()"
      ],
      "execution_count": 4,
      "outputs": [
        {
          "output_type": "display_data",
          "data": {
            "image/png": "[encoded data removed]",
            "text/plain": [
              "<Figure size 432x288 with 3 Axes>"
            ]
          },
          "metadata": {
            "tags": [],
            "needs_background": "light"
          }
        }
      ]
    },
    {
      "cell_type": "code",
      "metadata": {
        "colab": {
          "base_uri": "https://localhost:8080/",
          "height": 85
        },
        "id": "qLEO4pMRHA_u",
        "outputId": "d8a9a6cf-ff2a-4f2c-e031-01e44d43ed1f"
      },
      "source": [
        "fig, ((p1),(p2),(p3), (p4), (p5)) = plt.subplots(1,5)\n",
        "\n",
        "p1.pie(stroke['gender'].value_counts())\n",
        "p1.set_title('Age')\n",
        "\n",
        "p2.pie(stroke['ever_married'].value_counts())\n",
        "p2.set_title('Married')\n",
        "\n",
        "p3.pie(stroke['work_type'].value_counts())\n",
        "p3.set_title('Work Type')\n",
        "\n",
        "p4.pie(stroke['Residence_type'].value_counts())\n",
        "p4.set_title('Residence Type')\n",
        "\n",
        "p5.pie(stroke['smoking_status'].value_counts())\n",
        "p5.set_title('Smoking Status')\n",
        "\n",
        "fig.tight_layout()\n",
        "plt.show()"
      ],
      "execution_count": 84,
      "outputs": [
        {
          "output_type": "display_data",
          "data": {
            "image/png": "[encoded data removed]",
            "text/plain": [
              "<Figure size 432x288 with 5 Axes>"
            ]
          },
          "metadata": {
            "tags": []
          }
        }
      ]
    },
    {
      "cell_type": "code",
      "metadata": {
        "colab": {
          "base_uri": "https://localhost:8080/",
          "height": 297
        },
        "id": "Dz7MRKUfDbJJ",
        "outputId": "90bf19dd-7d2b-493b-81ec-b5e011e48084"
      },
      "source": [
        "stroke.describe()"
      ],
      "execution_count": 6,
      "outputs": [
        {
          "output_type": "execute_result",
          "data": {
            "text/html": [
              "<div>\n",
              "<style scoped>\n",
              "    .dataframe tbody tr th:only-of-type {\n",
              "        vertical-align: middle;\n",
              "    }\n",
              "\n",
              "    .dataframe tbody tr th {\n",
              "        vertical-align: top;\n",
              "    }\n",
              "\n",
              "    .dataframe thead th {\n",
              "        text-align: right;\n",
              "    }\n",
              "</style>\n",
              "<table border=\"1\" class=\"dataframe\">\n",
              "  <thead>\n",
              "    <tr style=\"text-align: right;\">\n",
              "      <th></th>\n",
              "      <th>id</th>\n",
              "      <th>age</th>\n",
              "      <th>hypertension</th>\n",
              "      <th>heart_disease</th>\n",
              "      <th>avg_glucose_level</th>\n",
              "      <th>bmi</th>\n",
              "      <th>stroke</th>\n",
              "    </tr>\n",
              "  </thead>\n",
              "  <tbody>\n",
              "    <tr>\n",
              "      <th>count</th>\n",
              "      <td>5110.000000</td>\n",
              "      <td>5110.000000</td>\n",
              "      <td>5110.000000</td>\n",
              "      <td>5110.000000</td>\n",
              "      <td>5110.000000</td>\n",
              "      <td>4909.000000</td>\n",
              "      <td>5110.000000</td>\n",
              "    </tr>\n",
              "    <tr>\n",
              "      <th>mean</th>\n",
              "      <td>36517.829354</td>\n",
              "      <td>43.226614</td>\n",
              "      <td>0.097456</td>\n",
              "      <td>0.054012</td>\n",
              "      <td>106.147677</td>\n",
              "      <td>28.893237</td>\n",
              "      <td>0.048728</td>\n",
              "    </tr>\n",
              "    <tr>\n",
              "      <th>std</th>\n",
              "      <td>21161.721625</td>\n",
              "      <td>22.612647</td>\n",
              "      <td>0.296607</td>\n",
              "      <td>0.226063</td>\n",
              "      <td>45.283560</td>\n",
              "      <td>7.854067</td>\n",
              "      <td>0.215320</td>\n",
              "    </tr>\n",
              "    <tr>\n",
              "      <th>min</th>\n",
              "      <td>67.000000</td>\n",
              "      <td>0.080000</td>\n",
              "      <td>0.000000</td>\n",
              "      <td>0.000000</td>\n",
              "      <td>55.120000</td>\n",
              "      <td>10.300000</td>\n",
              "      <td>0.000000</td>\n",
              "    </tr>\n",
              "    <tr>\n",
              "      <th>25%</th>\n",
              "      <td>17741.250000</td>\n",
              "      <td>25.000000</td>\n",
              "      <td>0.000000</td>\n",
              "      <td>0.000000</td>\n",
              "      <td>77.245000</td>\n",
              "      <td>23.500000</td>\n",
              "      <td>0.000000</td>\n",
              "    </tr>\n",
              "    <tr>\n",
              "      <th>50%</th>\n",
              "      <td>36932.000000</td>\n",
              "      <td>45.000000</td>\n",
              "      <td>0.000000</td>\n",
              "      <td>0.000000</td>\n",
              "      <td>91.885000</td>\n",
              "      <td>28.100000</td>\n",
              "      <td>0.000000</td>\n",
              "    </tr>\n",
              "    <tr>\n",
              "      <th>75%</th>\n",
              "      <td>54682.000000</td>\n",
              "      <td>61.000000</td>\n",
              "      <td>0.000000</td>\n",
              "      <td>0.000000</td>\n",
              "      <td>114.090000</td>\n",
              "      <td>33.100000</td>\n",
              "      <td>0.000000</td>\n",
              "    </tr>\n",
              "    <tr>\n",
              "      <th>max</th>\n",
              "      <td>72940.000000</td>\n",
              "      <td>82.000000</td>\n",
              "      <td>1.000000</td>\n",
              "      <td>1.000000</td>\n",
              "      <td>271.740000</td>\n",
              "      <td>97.600000</td>\n",
              "      <td>1.000000</td>\n",
              "    </tr>\n",
              "  </tbody>\n",
              "</table>\n",
              "</div>"
            ],
            "text/plain": [
              "                 id          age  ...          bmi       stroke\n",
              "count   5110.000000  5110.000000  ...  4909.000000  5110.000000\n",
              "mean   36517.829354    43.226614  ...    28.893237     0.048728\n",
              "std    21161.721625    22.612647  ...     7.854067     0.215320\n",
              "min       67.000000     0.080000  ...    10.300000     0.000000\n",
              "25%    17741.250000    25.000000  ...    23.500000     0.000000\n",
              "50%    36932.000000    45.000000  ...    28.100000     0.000000\n",
              "75%    54682.000000    61.000000  ...    33.100000     0.000000\n",
              "max    72940.000000    82.000000  ...    97.600000     1.000000\n",
              "\n",
              "[8 rows x 7 columns]"
            ]
          },
          "metadata": {
            "tags": []
          },
          "execution_count": 6
        }
      ]
    },
    {
      "cell_type": "markdown",
      "metadata": {
        "id": "-MTGORiwrr33"
      },
      "source": [
        "### Remove NaNs"
      ]
    },
    {
      "cell_type": "code",
      "metadata": {
        "id": "3Eet_bP_hx8-",
        "colab": {
          "base_uri": "https://localhost:8080/",
          "height": 204
        },
        "outputId": "d42261a3-1899-46e4-f64c-df13491cd896"
      },
      "source": [
        "stroke_dropna = stroke.dropna()\n",
        "stroke_dropna.head()"
      ],
      "execution_count": 7,
      "outputs": [
        {
          "output_type": "execute_result",
          "data": {
            "text/html": [
              "<div>\n",
              "<style scoped>\n",
              "    .dataframe tbody tr th:only-of-type {\n",
              "        vertical-align: middle;\n",
              "    }\n",
              "\n",
              "    .dataframe tbody tr th {\n",
              "        vertical-align: top;\n",
              "    }\n",
              "\n",
              "    .dataframe thead th {\n",
              "        text-align: right;\n",
              "    }\n",
              "</style>\n",
              "<table border=\"1\" class=\"dataframe\">\n",
              "  <thead>\n",
              "    <tr style=\"text-align: right;\">\n",
              "      <th></th>\n",
              "      <th>id</th>\n",
              "      <th>gender</th>\n",
              "      <th>age</th>\n",
              "      <th>hypertension</th>\n",
              "      <th>heart_disease</th>\n",
              "      <th>ever_married</th>\n",
              "      <th>work_type</th>\n",
              "      <th>Residence_type</th>\n",
              "      <th>avg_glucose_level</th>\n",
              "      <th>bmi</th>\n",
              "      <th>smoking_status</th>\n",
              "      <th>stroke</th>\n",
              "    </tr>\n",
              "  </thead>\n",
              "  <tbody>\n",
              "    <tr>\n",
              "      <th>0</th>\n",
              "      <td>9046</td>\n",
              "      <td>Male</td>\n",
              "      <td>67.0</td>\n",
              "      <td>0</td>\n",
              "      <td>1</td>\n",
              "      <td>Yes</td>\n",
              "      <td>Private</td>\n",
              "      <td>Urban</td>\n",
              "      <td>228.69</td>\n",
              "      <td>36.6</td>\n",
              "      <td>formerly smoked</td>\n",
              "      <td>1</td>\n",
              "    </tr>\n",
              "    <tr>\n",
              "      <th>2</th>\n",
              "      <td>31112</td>\n",
              "      <td>Male</td>\n",
              "      <td>80.0</td>\n",
              "      <td>0</td>\n",
              "      <td>1</td>\n",
              "      <td>Yes</td>\n",
              "      <td>Private</td>\n",
              "      <td>Rural</td>\n",
              "      <td>105.92</td>\n",
              "      <td>32.5</td>\n",
              "      <td>never smoked</td>\n",
              "      <td>1</td>\n",
              "    </tr>\n",
              "    <tr>\n",
              "      <th>3</th>\n",
              "      <td>60182</td>\n",
              "      <td>Female</td>\n",
              "      <td>49.0</td>\n",
              "      <td>0</td>\n",
              "      <td>0</td>\n",
              "      <td>Yes</td>\n",
              "      <td>Private</td>\n",
              "      <td>Urban</td>\n",
              "      <td>171.23</td>\n",
              "      <td>34.4</td>\n",
              "      <td>smokes</td>\n",
              "      <td>1</td>\n",
              "    </tr>\n",
              "    <tr>\n",
              "      <th>4</th>\n",
              "      <td>1665</td>\n",
              "      <td>Female</td>\n",
              "      <td>79.0</td>\n",
              "      <td>1</td>\n",
              "      <td>0</td>\n",
              "      <td>Yes</td>\n",
              "      <td>Self-employed</td>\n",
              "      <td>Rural</td>\n",
              "      <td>174.12</td>\n",
              "      <td>24.0</td>\n",
              "      <td>never smoked</td>\n",
              "      <td>1</td>\n",
              "    </tr>\n",
              "    <tr>\n",
              "      <th>5</th>\n",
              "      <td>56669</td>\n",
              "      <td>Male</td>\n",
              "      <td>81.0</td>\n",
              "      <td>0</td>\n",
              "      <td>0</td>\n",
              "      <td>Yes</td>\n",
              "      <td>Private</td>\n",
              "      <td>Urban</td>\n",
              "      <td>186.21</td>\n",
              "      <td>29.0</td>\n",
              "      <td>formerly smoked</td>\n",
              "      <td>1</td>\n",
              "    </tr>\n",
              "  </tbody>\n",
              "</table>\n",
              "</div>"
            ],
            "text/plain": [
              "      id  gender   age  ...   bmi   smoking_status stroke\n",
              "0   9046    Male  67.0  ...  36.6  formerly smoked      1\n",
              "2  31112    Male  80.0  ...  32.5     never smoked      1\n",
              "3  60182  Female  49.0  ...  34.4           smokes      1\n",
              "4   1665  Female  79.0  ...  24.0     never smoked      1\n",
              "5  56669    Male  81.0  ...  29.0  formerly smoked      1\n",
              "\n",
              "[5 rows x 12 columns]"
            ]
          },
          "metadata": {
            "tags": []
          },
          "execution_count": 7
        }
      ]
    },
    {
      "cell_type": "markdown",
      "metadata": {
        "id": "dY-e2I0TgZrI"
      },
      "source": [
        "### The data has five attributes that need to be encoded:\n",
        "\n",
        "* gender\n",
        "* ever_married\n",
        "* work_type\n",
        "* Residence_type\n",
        "* smoking_status\n",
        "\n",
        "#### For this, we can use pd.get_dummies or scikitLearn:"
      ]
    },
    {
      "cell_type": "code",
      "metadata": {
        "colab": {
          "base_uri": "https://localhost:8080/",
          "height": 241
        },
        "id": "UGtZT54thX_P",
        "outputId": "c5ca0fbd-4851-4af6-a516-8a38e5d26145"
      },
      "source": [
        "categorical_cols = ['gender','ever_married','work_type','Residence_type','smoking_status']\n",
        "stroke_dropna_encoded = pd.get_dummies(stroke_dropna, columns=categorical_cols)\n",
        "stroke_dropna_encoded.head()"
      ],
      "execution_count": 8,
      "outputs": [
        {
          "output_type": "execute_result",
          "data": {
            "text/html": [
              "<div>\n",
              "<style scoped>\n",
              "    .dataframe tbody tr th:only-of-type {\n",
              "        vertical-align: middle;\n",
              "    }\n",
              "\n",
              "    .dataframe tbody tr th {\n",
              "        vertical-align: top;\n",
              "    }\n",
              "\n",
              "    .dataframe thead th {\n",
              "        text-align: right;\n",
              "    }\n",
              "</style>\n",
              "<table border=\"1\" class=\"dataframe\">\n",
              "  <thead>\n",
              "    <tr style=\"text-align: right;\">\n",
              "      <th></th>\n",
              "      <th>id</th>\n",
              "      <th>age</th>\n",
              "      <th>hypertension</th>\n",
              "      <th>heart_disease</th>\n",
              "      <th>avg_glucose_level</th>\n",
              "      <th>bmi</th>\n",
              "      <th>stroke</th>\n",
              "      <th>gender_Female</th>\n",
              "      <th>gender_Male</th>\n",
              "      <th>gender_Other</th>\n",
              "      <th>ever_married_No</th>\n",
              "      <th>ever_married_Yes</th>\n",
              "      <th>work_type_Govt_job</th>\n",
              "      <th>work_type_Never_worked</th>\n",
              "      <th>work_type_Private</th>\n",
              "      <th>work_type_Self-employed</th>\n",
              "      <th>work_type_children</th>\n",
              "      <th>Residence_type_Rural</th>\n",
              "      <th>Residence_type_Urban</th>\n",
              "      <th>smoking_status_Unknown</th>\n",
              "      <th>smoking_status_formerly smoked</th>\n",
              "      <th>smoking_status_never smoked</th>\n",
              "      <th>smoking_status_smokes</th>\n",
              "    </tr>\n",
              "  </thead>\n",
              "  <tbody>\n",
              "    <tr>\n",
              "      <th>0</th>\n",
              "      <td>9046</td>\n",
              "      <td>67.0</td>\n",
              "      <td>0</td>\n",
              "      <td>1</td>\n",
              "      <td>228.69</td>\n",
              "      <td>36.6</td>\n",
              "      <td>1</td>\n",
              "      <td>0</td>\n",
              "      <td>1</td>\n",
              "      <td>0</td>\n",
              "      <td>0</td>\n",
              "      <td>1</td>\n",
              "      <td>0</td>\n",
              "      <td>0</td>\n",
              "      <td>1</td>\n",
              "      <td>0</td>\n",
              "      <td>0</td>\n",
              "      <td>0</td>\n",
              "      <td>1</td>\n",
              "      <td>0</td>\n",
              "      <td>1</td>\n",
              "      <td>0</td>\n",
              "      <td>0</td>\n",
              "    </tr>\n",
              "    <tr>\n",
              "      <th>2</th>\n",
              "      <td>31112</td>\n",
              "      <td>80.0</td>\n",
              "      <td>0</td>\n",
              "      <td>1</td>\n",
              "      <td>105.92</td>\n",
              "      <td>32.5</td>\n",
              "      <td>1</td>\n",
              "      <td>0</td>\n",
              "      <td>1</td>\n",
              "      <td>0</td>\n",
              "      <td>0</td>\n",
              "      <td>1</td>\n",
              "      <td>0</td>\n",
              "      <td>0</td>\n",
              "      <td>1</td>\n",
              "      <td>0</td>\n",
              "      <td>0</td>\n",
              "      <td>1</td>\n",
              "      <td>0</td>\n",
              "      <td>0</td>\n",
              "      <td>0</td>\n",
              "      <td>1</td>\n",
              "      <td>0</td>\n",
              "    </tr>\n",
              "    <tr>\n",
              "      <th>3</th>\n",
              "      <td>60182</td>\n",
              "      <td>49.0</td>\n",
              "      <td>0</td>\n",
              "      <td>0</td>\n",
              "      <td>171.23</td>\n",
              "      <td>34.4</td>\n",
              "      <td>1</td>\n",
              "      <td>1</td>\n",
              "      <td>0</td>\n",
              "      <td>0</td>\n",
              "      <td>0</td>\n",
              "      <td>1</td>\n",
              "      <td>0</td>\n",
              "      <td>0</td>\n",
              "      <td>1</td>\n",
              "      <td>0</td>\n",
              "      <td>0</td>\n",
              "      <td>0</td>\n",
              "      <td>1</td>\n",
              "      <td>0</td>\n",
              "      <td>0</td>\n",
              "      <td>0</td>\n",
              "      <td>1</td>\n",
              "    </tr>\n",
              "    <tr>\n",
              "      <th>4</th>\n",
              "      <td>1665</td>\n",
              "      <td>79.0</td>\n",
              "      <td>1</td>\n",
              "      <td>0</td>\n",
              "      <td>174.12</td>\n",
              "      <td>24.0</td>\n",
              "      <td>1</td>\n",
              "      <td>1</td>\n",
              "      <td>0</td>\n",
              "      <td>0</td>\n",
              "      <td>0</td>\n",
              "      <td>1</td>\n",
              "      <td>0</td>\n",
              "      <td>0</td>\n",
              "      <td>0</td>\n",
              "      <td>1</td>\n",
              "      <td>0</td>\n",
              "      <td>1</td>\n",
              "      <td>0</td>\n",
              "      <td>0</td>\n",
              "      <td>0</td>\n",
              "      <td>1</td>\n",
              "      <td>0</td>\n",
              "    </tr>\n",
              "    <tr>\n",
              "      <th>5</th>\n",
              "      <td>56669</td>\n",
              "      <td>81.0</td>\n",
              "      <td>0</td>\n",
              "      <td>0</td>\n",
              "      <td>186.21</td>\n",
              "      <td>29.0</td>\n",
              "      <td>1</td>\n",
              "      <td>0</td>\n",
              "      <td>1</td>\n",
              "      <td>0</td>\n",
              "      <td>0</td>\n",
              "      <td>1</td>\n",
              "      <td>0</td>\n",
              "      <td>0</td>\n",
              "      <td>1</td>\n",
              "      <td>0</td>\n",
              "      <td>0</td>\n",
              "      <td>0</td>\n",
              "      <td>1</td>\n",
              "      <td>0</td>\n",
              "      <td>1</td>\n",
              "      <td>0</td>\n",
              "      <td>0</td>\n",
              "    </tr>\n",
              "  </tbody>\n",
              "</table>\n",
              "</div>"
            ],
            "text/plain": [
              "      id   age  ...  smoking_status_never smoked  smoking_status_smokes\n",
              "0   9046  67.0  ...                            0                      0\n",
              "2  31112  80.0  ...                            1                      0\n",
              "3  60182  49.0  ...                            0                      1\n",
              "4   1665  79.0  ...                            1                      0\n",
              "5  56669  81.0  ...                            0                      0\n",
              "\n",
              "[5 rows x 23 columns]"
            ]
          },
          "metadata": {
            "tags": []
          },
          "execution_count": 8
        }
      ]
    },
    {
      "cell_type": "markdown",
      "metadata": {
        "id": "c5-6DCpVsLY2"
      },
      "source": [
        "### Normalization"
      ]
    },
    {
      "cell_type": "code",
      "metadata": {
        "id": "GX_iFyyVwaej"
      },
      "source": [
        "from sklearn.compose import make_column_transformer\n",
        "from sklearn.preprocessing import OneHotEncoder, MinMaxScaler\n",
        "from sklearn.model_selection import train_test_split\n",
        "\n",
        "ct = make_column_transformer(\n",
        "    (MinMaxScaler(), [\"age\",\"avg_glucose_level\",\"bmi\"]),\n",
        "    (OneHotEncoder(handle_unknown=\"ignore\"), categorical_cols) # As a bonus, we can one-hot encode here as well                       \n",
        ")"
      ],
      "execution_count": 9,
      "outputs": []
    },
    {
      "cell_type": "markdown",
      "metadata": {
        "id": "rZvu_S923JDL"
      },
      "source": [
        "### The model"
      ]
    },
    {
      "cell_type": "code",
      "metadata": {
        "colab": {
          "base_uri": "https://localhost:8080/",
          "height": 329
        },
        "id": "ldKHpXeK4xNm",
        "outputId": "f44f56c0-cc10-4b1b-ea97-139974109bfd"
      },
      "source": [
        "# Create\n",
        "tf.random.set_seed(42)\n",
        "model = tf.keras.Sequential([\n",
        "        tf.keras.layers.Dense(10),\n",
        "        tf.keras.layers.Dense(5),\n",
        "        tf.keras.layers.Dense(1)\n",
        "])\n",
        "\n",
        "# Compile\n",
        "model.compile(loss=\"mae\", optimizer=\"Adam\", metrics=\"mae\")\n",
        "\n",
        "# Fit\n",
        "callback=tf.keras.callbacks.EarlyStopping(monitor=\"loss\", patience=3)\n",
        "history = model.fit(X_train_normal, y_train, epochs=250, callbacks=callback, verbose=0)\n",
        "\n",
        "# Evaluate\n",
        "model.evaluate(X_test_normal, y_test)\n",
        "\n",
        "# Plot Model History\n",
        "plt.plot(history.history['loss'])\n",
        "plt.title('model loss')\n",
        "plt.ylabel('loss')\n",
        "plt.xlabel('epoch')"
      ],
      "execution_count": 75,
      "outputs": [
        {
          "output_type": "stream",
          "text": [
            "31/31 [==============================] - 0s 957us/step - loss: 0.0554 - mae: 0.0554\n"
          ],
          "name": "stdout"
        },
        {
          "output_type": "execute_result",
          "data": {
            "text/plain": [
              "Text(0.5, 0, 'epoch')"
            ]
          },
          "metadata": {
            "tags": []
          },
          "execution_count": 75
        },
        {
          "output_type": "display_data",
          "data": {
            "image/png": "[encoded data removed]",
            "text/plain": [
              "<Figure size 432x288 with 1 Axes>"
            ]
          },
          "metadata": {
            "tags": [],
            "needs_background": "light"
          }
        }
      ]
    },
    {
      "cell_type": "code",
      "metadata": {
        "colab": {
          "base_uri": "https://localhost:8080/"
        },
        "id": "YW3QtbAt2flE",
        "outputId": "c9f6baba-0d94-4161-beb5-7a0ebde77e90"
      },
      "source": [
        "# Looking at the transformed data\n",
        "print(X_train.shape)\n",
        "print(X_train_normal.shape)"
      ],
      "execution_count": 61,
      "outputs": [
        {
          "output_type": "stream",
          "text": [
            "(3927, 11)\n",
            "(3927, 19)\n"
          ],
          "name": "stdout"
        }
      ]
    },
    {
      "cell_type": "code",
      "metadata": {
        "id": "T5g6Lk330v5M"
      },
      "source": [
        "# Build training and test data sets\n",
        "X_train, X_test, y_train, y_test = train_test_split(X, y, test_size=0.2, random_state=42)\n",
        "\n",
        "# Fit the column transformer to the training data\n",
        "ct.fit(X_train)\n",
        "\n",
        "# Transform training and test data with normalization with MinMaxscalar\n",
        "X_train_normal = ct.transform(X_train)\n",
        "X_test_normal = ct.transform(X_test)"
      ],
      "execution_count": 56,
      "outputs": []
    },
    {
      "cell_type": "code",
      "metadata": {
        "id": "s3JWrKE10Wbk"
      },
      "source": [
        "# Create X & y\n",
        "X = stroke_dropna.drop(\"stroke\", axis=1)\n",
        "y = stroke_dropna[\"stroke\"]"
      ],
      "execution_count": 55,
      "outputs": []
    },
    {
      "cell_type": "markdown",
      "metadata": {
        "id": "XMyiK_YS57w9"
      },
      "source": [
        "## Visualization"
      ]
    },
    {
      "cell_type": "code",
      "metadata": {
        "id": "n51QIelR1rq6"
      },
      "source": [
        "import plotly.express as px"
      ],
      "execution_count": 10,
      "outputs": []
    },
    {
      "cell_type": "code",
      "metadata": {
        "colab": {
          "base_uri": "https://localhost:8080/",
          "height": 542
        },
        "id": "WED3Ojkx1y09",
        "outputId": "b3b1b835-3428-4a74-daea-d4e28288d5f6"
      },
      "source": [
        "had_stroke = stroke['stroke'] != 0\n",
        "font = 'Graphik'\n",
        "fig = px.scatter(stroke[had_stroke], x='avg_glucose_level', y='age', color='avg_glucose_level', title=\"<b>Average Glucose Level vs Age</b>\", labels={\"avg_glucose_level\": \"Glucose\"})\n",
        "fig.update_yaxes(title=\"Age\", showgrid=False, title_font_family=font)\n",
        "fig.update_xaxes(title=\"Average Glucose Level\", showgrid=False, title_font_family=font)\n",
        "fig.update_layout(font_family=font)"
      ],
      "execution_count": 83,
      "outputs": [
        {
          "output_type": "display_data",
          "data": {
            "text/html": [
              "<html>\n",
              "<head><meta charset=\"utf-8\" /></head>\n",
              "<body>\n",
              "    <div>\n",
              "            <script src=\"https://cdnjs.cloudflare.com/ajax/libs/mathjax/2.7.5/MathJax.js?config=TeX-AMS-MML_SVG\"></script><script type=\"text/javascript\">if (window.MathJax) {MathJax.Hub.Config({SVG: {font: \"STIX-Web\"}});}</script>\n",
              "                <script type=\"text/javascript\">window.PlotlyConfig = {MathJaxConfig: 'local'};</script>\n",
              "        <script src=\"https://cdn.plot.ly/plotly-latest.min.js\"></script>    \n",
              "            <div id=\"31bf6d19-802b-4878-bc92-94fb999ded47\" class=\"plotly-graph-div\" style=\"height:525px; width:100%;\"></div>\n",
              "            <script type=\"text/javascript\">\n",
              "                \n",
              "                    window.PLOTLYENV=window.PLOTLYENV || {};\n",
              "                    \n",
              "                if (document.getElementById(\"31bf6d19-802b-4878-bc92-94fb999ded47\")) {\n",
              "                    Plotly.newPlot(\n",
              "                        '31bf6d19-802b-4878-bc92-94fb999ded47',\n",
              "                        [{\"hoverlabel\": {\"namelength\": 0}, \"hovertemplate\": \"Glucose=%{marker.color}<br>age=%{y}\", \"legendgroup\": \"\", \"marker\": {\"color\": [228.69, 202.21, 105.92, 171.23, 174.12, 186.21, 70.09, 94.39, 76.15, 58.57, 80.43, 120.46, 104.51, 219.84, 214.09, 167.41, 191.61, 221.29, 89.22, 217.08, 193.94, 233.29, 228.7, 208.3, 102.87, 104.12, 100.98, 189.84, 195.23, 211.78, 212.08, 83.41, 196.92, 252.72, 84.2, 84.03, 219.72, 74.63, 92.62, 60.91, 78.03, 71.22, 144.9, 90.9, 213.03, 243.58, 109.78, 107.26, 99.33, 58.09, 89.96, 75.32, 127.29, 124.13, 197.54, 196.71, 59.32, 237.75, 194.99, 180.93, 185.17, 74.9, 61.94, 93.72, 104.72, 113.01, 221.58, 104.47, 86.23, 72.67, 62.57, 179.12, 116.55, 228.56, 96.59, 66.72, 240.09, 110.85, 165.31, 143.43, 96.16, 101.45, 88.92, 79.79, 71.2, 96.97, 111.81, 59.35, 86.94, 98.55, 226.98, 72.81, 68.02, 68.56, 64.14, 235.63, 76.34, 240.59, 78.92, 82.81, 74.1, 190.32, 231.61, 78.7, 110.52, 82.3, 73.18, 191.82, 93.05, 64.17, 129.98, 68.53, 106.41, 224.1, 82.1, 216.94, 76.11, 72.96, 82.28, 105.22, 59.86, 62.55, 259.63, 249.31, 219.91, 131.41, 93.13, 73.54, 200.59, 62.48, 190.14, 130.54, 182.99, 101.45, 206.09, 263.32, 140.1, 207.28, 194.37, 199.2, 103.68, 116.44, 70.28, 72.17, 221.79, 151.16, 68.43, 67.29, 67.41, 239.07, 169.67, 223.83, 76.57, 77.82, 92.98, 231.56, 102.16, 221.89, 195.71, 74.02, 57.92, 81.76, 70.37, 203.87, 89.13, 133.19, 162.23, 75.02, 98.02, 91.54, 111.98, 60.94, 97.43, 91.02, 60.67, 185.49, 64.44, 56.11, 110.66, 213.22, 78.18, 111.04, 76.13, 81.32, 112.24, 137.3, 116.69, 215.94, 86.62, 209.86, 205.77, 112.16, 118.03, 271.74, 97.92, 200.62, 242.52, 93.81, 114.77, 74.96, 167.13, 175.29, 90.0, 109.47, 87.85, 106.74, 80.13, 90.19, 134.8, 106.58, 83.24, 103.43, 208.65, 74.11, 95.84, 205.33, 116.1, 210.4, 199.86, 219.73, 250.89, 72.73, 205.35, 70.3, 104.86, 216.58, 184.4, 60.98, 97.76, 66.03, 81.95, 97.73, 70.94, 199.84, 218.46, 211.06, 86.3, 162.14, 88.2, 91.92, 76.46, 197.28, 233.94, 247.51, 84.96, 57.93, 78.8, 87.8, 78.81], \"coloraxis\": \"coloraxis\", \"symbol\": \"circle\"}, \"mode\": \"markers\", \"name\": \"\", \"showlegend\": false, \"type\": \"scatter\", \"x\": [228.69, 202.21, 105.92, 171.23, 174.12, 186.21, 70.09, 94.39, 76.15, 58.57, 80.43, 120.46, 104.51, 219.84, 214.09, 167.41, 191.61, 221.29, 89.22, 217.08, 193.94, 233.29, 228.7, 208.3, 102.87, 104.12, 100.98, 189.84, 195.23, 211.78, 212.08, 83.41, 196.92, 252.72, 84.2, 84.03, 219.72, 74.63, 92.62, 60.91, 78.03, 71.22, 144.9, 90.9, 213.03, 243.58, 109.78, 107.26, 99.33, 58.09, 89.96, 75.32, 127.29, 124.13, 197.54, 196.71, 59.32, 237.75, 194.99, 180.93, 185.17, 74.9, 61.94, 93.72, 104.72, 113.01, 221.58, 104.47, 86.23, 72.67, 62.57, 179.12, 116.55, 228.56, 96.59, 66.72, 240.09, 110.85, 165.31, 143.43, 96.16, 101.45, 88.92, 79.79, 71.2, 96.97, 111.81, 59.35, 86.94, 98.55, 226.98, 72.81, 68.02, 68.56, 64.14, 235.63, 76.34, 240.59, 78.92, 82.81, 74.1, 190.32, 231.61, 78.7, 110.52, 82.3, 73.18, 191.82, 93.05, 64.17, 129.98, 68.53, 106.41, 224.1, 82.1, 216.94, 76.11, 72.96, 82.28, 105.22, 59.86, 62.55, 259.63, 249.31, 219.91, 131.41, 93.13, 73.54, 200.59, 62.48, 190.14, 130.54, 182.99, 101.45, 206.09, 263.32, 140.1, 207.28, 194.37, 199.2, 103.68, 116.44, 70.28, 72.17, 221.79, 151.16, 68.43, 67.29, 67.41, 239.07, 169.67, 223.83, 76.57, 77.82, 92.98, 231.56, 102.16, 221.89, 195.71, 74.02, 57.92, 81.76, 70.37, 203.87, 89.13, 133.19, 162.23, 75.02, 98.02, 91.54, 111.98, 60.94, 97.43, 91.02, 60.67, 185.49, 64.44, 56.11, 110.66, 213.22, 78.18, 111.04, 76.13, 81.32, 112.24, 137.3, 116.69, 215.94, 86.62, 209.86, 205.77, 112.16, 118.03, 271.74, 97.92, 200.62, 242.52, 93.81, 114.77, 74.96, 167.13, 175.29, 90.0, 109.47, 87.85, 106.74, 80.13, 90.19, 134.8, 106.58, 83.24, 103.43, 208.65, 74.11, 95.84, 205.33, 116.1, 210.4, 199.86, 219.73, 250.89, 72.73, 205.35, 70.3, 104.86, 216.58, 184.4, 60.98, 97.76, 66.03, 81.95, 97.73, 70.94, 199.84, 218.46, 211.06, 86.3, 162.14, 88.2, 91.92, 76.46, 197.28, 233.94, 247.51, 84.96, 57.93, 78.8, 87.8, 78.81], \"xaxis\": \"x\", \"y\": [67.0, 61.0, 80.0, 49.0, 79.0, 81.0, 74.0, 69.0, 59.0, 78.0, 81.0, 61.0, 54.0, 78.0, 79.0, 50.0, 64.0, 75.0, 60.0, 57.0, 71.0, 52.0, 79.0, 82.0, 71.0, 80.0, 65.0, 58.0, 69.0, 59.0, 57.0, 42.0, 82.0, 80.0, 48.0, 82.0, 74.0, 72.0, 58.0, 49.0, 78.0, 54.0, 82.0, 63.0, 60.0, 76.0, 75.0, 58.0, 81.0, 39.0, 76.0, 78.0, 79.0, 77.0, 63.0, 63.0, 82.0, 78.0, 73.0, 54.0, 56.0, 80.0, 67.0, 45.0, 75.0, 78.0, 70.0, 76.0, 59.0, 80.0, 76.0, 67.0, 66.0, 63.0, 52.0, 80.0, 80.0, 79.0, 51.0, 43.0, 59.0, 66.0, 79.0, 68.0, 58.0, 54.0, 61.0, 70.0, 47.0, 74.0, 79.0, 81.0, 57.0, 80.0, 45.0, 78.0, 70.0, 58.0, 57.0, 69.0, 64.0, 77.0, 74.0, 81.0, 57.0, 58.0, 50.0, 54.0, 79.0, 53.0, 79.0, 80.0, 76.0, 45.0, 68.0, 71.0, 61.0, 74.0, 38.0, 77.0, 58.0, 53.0, 80.0, 56.0, 72.0, 72.0, 78.0, 80.0, 82.0, 75.0, 73.0, 78.0, 69.0, 38.0, 68.0, 71.0, 76.0, 76.0, 76.0, 75.0, 82.0, 59.0, 74.0, 69.0, 72.0, 66.0, 65.0, 78.0, 57.0, 70.0, 79.0, 68.0, 80.0, 68.0, 55.0, 77.0, 50.0, 57.0, 71.0, 81.0, 76.0, 71.0, 1.32, 78.0, 70.0, 78.0, 56.0, 79.0, 79.0, 81.0, 64.0, 79.0, 60.0, 80.0, 78.0, 72.0, 80.0, 78.0, 80.0, 81.0, 46.0, 59.0, 32.0, 77.0, 61.0, 63.0, 63.0, 82.0, 82.0, 61.0, 65.0, 51.0, 59.0, 68.0, 72.0, 59.0, 70.0, 69.0, 79.0, 74.0, 74.0, 80.0, 77.0, 78.0, 54.0, 78.0, 81.0, 78.0, 78.0, 63.0, 39.0, 51.0, 63.0, 48.0, 81.0, 79.0, 78.0, 55.0, 76.0, 73.0, 81.0, 79.0, 63.0, 81.0, 49.0, 57.0, 81.0, 74.0, 39.0, 80.0, 81.0, 79.0, 73.0, 77.0, 78.0, 68.0, 57.0, 77.0, 51.0, 60.0, 66.0, 57.0, 68.0, 68.0, 57.0, 14.0, 75.0, 71.0, 78.0], \"yaxis\": \"y\"}],\n",
              "                        {\"coloraxis\": {\"colorbar\": {\"title\": {\"text\": \"Glucose\"}}, \"colorscale\": [[0.0, \"#0d0887\"], [0.1111111111111111, \"#46039f\"], [0.2222222222222222, \"#7201a8\"], [0.3333333333333333, \"#9c179e\"], [0.4444444444444444, \"#bd3786\"], [0.5555555555555556, \"#d8576b\"], [0.6666666666666666, \"#ed7953\"], [0.7777777777777778, \"#fb9f3a\"], [0.8888888888888888, \"#fdca26\"], [1.0, \"#f0f921\"]]}, \"font\": {\"family\": \"Graphik\"}, \"legend\": {\"tracegroupgap\": 0}, \"template\": {\"data\": {\"bar\": [{\"error_x\": {\"color\": \"#2a3f5f\"}, \"error_y\": {\"color\": \"#2a3f5f\"}, \"marker\": {\"line\": {\"color\": \"#E5ECF6\", \"width\": 0.5}}, \"type\": \"bar\"}], \"barpolar\": [{\"marker\": {\"line\": {\"color\": \"#E5ECF6\", \"width\": 0.5}}, \"type\": \"barpolar\"}], \"carpet\": [{\"aaxis\": {\"endlinecolor\": \"#2a3f5f\", \"gridcolor\": \"white\", \"linecolor\": \"white\", \"minorgridcolor\": \"white\", \"startlinecolor\": \"#2a3f5f\"}, \"baxis\": {\"endlinecolor\": \"#2a3f5f\", \"gridcolor\": \"white\", \"linecolor\": \"white\", \"minorgridcolor\": \"white\", \"startlinecolor\": \"#2a3f5f\"}, \"type\": \"carpet\"}], \"choropleth\": [{\"colorbar\": {\"outlinewidth\": 0, \"ticks\": \"\"}, \"type\": \"choropleth\"}], \"contour\": [{\"colorbar\": {\"outlinewidth\": 0, \"ticks\": \"\"}, \"colorscale\": [[0.0, \"#0d0887\"], [0.1111111111111111, \"#46039f\"], [0.2222222222222222, \"#7201a8\"], [0.3333333333333333, \"#9c179e\"], [0.4444444444444444, \"#bd3786\"], [0.5555555555555556, \"#d8576b\"], [0.6666666666666666, \"#ed7953\"], [0.7777777777777778, \"#fb9f3a\"], [0.8888888888888888, \"#fdca26\"], [1.0, \"#f0f921\"]], \"type\": \"contour\"}], \"contourcarpet\": [{\"colorbar\": {\"outlinewidth\": 0, \"ticks\": \"\"}, \"type\": \"contourcarpet\"}], \"heatmap\": [{\"colorbar\": {\"outlinewidth\": 0, \"ticks\": \"\"}, \"colorscale\": [[0.0, \"#0d0887\"], [0.1111111111111111, \"#46039f\"], [0.2222222222222222, \"#7201a8\"], [0.3333333333333333, \"#9c179e\"], [0.4444444444444444, \"#bd3786\"], [0.5555555555555556, \"#d8576b\"], [0.6666666666666666, \"#ed7953\"], [0.7777777777777778, \"#fb9f3a\"], [0.8888888888888888, \"#fdca26\"], [1.0, \"#f0f921\"]], \"type\": \"heatmap\"}], \"heatmapgl\": [{\"colorbar\": {\"outlinewidth\": 0, \"ticks\": \"\"}, \"colorscale\": [[0.0, \"#0d0887\"], [0.1111111111111111, \"#46039f\"], [0.2222222222222222, \"#7201a8\"], [0.3333333333333333, \"#9c179e\"], [0.4444444444444444, \"#bd3786\"], [0.5555555555555556, \"#d8576b\"], [0.6666666666666666, \"#ed7953\"], [0.7777777777777778, \"#fb9f3a\"], [0.8888888888888888, \"#fdca26\"], [1.0, \"#f0f921\"]], \"type\": \"heatmapgl\"}], \"histogram\": [{\"marker\": {\"colorbar\": {\"outlinewidth\": 0, \"ticks\": \"\"}}, \"type\": \"histogram\"}], \"histogram2d\": [{\"colorbar\": {\"outlinewidth\": 0, \"ticks\": \"\"}, \"colorscale\": [[0.0, \"#0d0887\"], [0.1111111111111111, \"#46039f\"], [0.2222222222222222, \"#7201a8\"], [0.3333333333333333, \"#9c179e\"], [0.4444444444444444, \"#bd3786\"], [0.5555555555555556, \"#d8576b\"], [0.6666666666666666, \"#ed7953\"], [0.7777777777777778, \"#fb9f3a\"], [0.8888888888888888, \"#fdca26\"], [1.0, \"#f0f921\"]], \"type\": \"histogram2d\"}], \"histogram2dcontour\": [{\"colorbar\": {\"outlinewidth\": 0, \"ticks\": \"\"}, \"colorscale\": [[0.0, \"#0d0887\"], [0.1111111111111111, \"#46039f\"], [0.2222222222222222, \"#7201a8\"], [0.3333333333333333, \"#9c179e\"], [0.4444444444444444, \"#bd3786\"], [0.5555555555555556, \"#d8576b\"], [0.6666666666666666, \"#ed7953\"], [0.7777777777777778, \"#fb9f3a\"], [0.8888888888888888, \"#fdca26\"], [1.0, \"#f0f921\"]], \"type\": \"histogram2dcontour\"}], \"mesh3d\": [{\"colorbar\": {\"outlinewidth\": 0, \"ticks\": \"\"}, \"type\": \"mesh3d\"}], \"parcoords\": [{\"line\": {\"colorbar\": {\"outlinewidth\": 0, \"ticks\": \"\"}}, \"type\": \"parcoords\"}], \"pie\": [{\"automargin\": true, \"type\": \"pie\"}], \"scatter\": [{\"marker\": {\"colorbar\": {\"outlinewidth\": 0, \"ticks\": \"\"}}, \"type\": \"scatter\"}], \"scatter3d\": [{\"line\": {\"colorbar\": {\"outlinewidth\": 0, \"ticks\": \"\"}}, \"marker\": {\"colorbar\": {\"outlinewidth\": 0, \"ticks\": \"\"}}, \"type\": \"scatter3d\"}], \"scattercarpet\": [{\"marker\": {\"colorbar\": {\"outlinewidth\": 0, \"ticks\": \"\"}}, \"type\": \"scattercarpet\"}], \"scattergeo\": [{\"marker\": {\"colorbar\": {\"outlinewidth\": 0, \"ticks\": \"\"}}, \"type\": \"scattergeo\"}], \"scattergl\": [{\"marker\": {\"colorbar\": {\"outlinewidth\": 0, \"ticks\": \"\"}}, \"type\": \"scattergl\"}], \"scattermapbox\": [{\"marker\": {\"colorbar\": {\"outlinewidth\": 0, \"ticks\": \"\"}}, \"type\": \"scattermapbox\"}], \"scatterpolar\": [{\"marker\": {\"colorbar\": {\"outlinewidth\": 0, \"ticks\": \"\"}}, \"type\": \"scatterpolar\"}], \"scatterpolargl\": [{\"marker\": {\"colorbar\": {\"outlinewidth\": 0, \"ticks\": \"\"}}, \"type\": \"scatterpolargl\"}], \"scatterternary\": [{\"marker\": {\"colorbar\": {\"outlinewidth\": 0, \"ticks\": \"\"}}, \"type\": \"scatterternary\"}], \"surface\": [{\"colorbar\": {\"outlinewidth\": 0, \"ticks\": \"\"}, \"colorscale\": [[0.0, \"#0d0887\"], [0.1111111111111111, \"#46039f\"], [0.2222222222222222, \"#7201a8\"], [0.3333333333333333, \"#9c179e\"], [0.4444444444444444, \"#bd3786\"], [0.5555555555555556, \"#d8576b\"], [0.6666666666666666, \"#ed7953\"], [0.7777777777777778, \"#fb9f3a\"], [0.8888888888888888, \"#fdca26\"], [1.0, \"#f0f921\"]], \"type\": \"surface\"}], \"table\": [{\"cells\": {\"fill\": {\"color\": \"#EBF0F8\"}, \"line\": {\"color\": \"white\"}}, \"header\": {\"fill\": {\"color\": \"#C8D4E3\"}, \"line\": {\"color\": \"white\"}}, \"type\": \"table\"}]}, \"layout\": {\"annotationdefaults\": {\"arrowcolor\": \"#2a3f5f\", \"arrowhead\": 0, \"arrowwidth\": 1}, \"coloraxis\": {\"colorbar\": {\"outlinewidth\": 0, \"ticks\": \"\"}}, \"colorscale\": {\"diverging\": [[0, \"#8e0152\"], [0.1, \"#c51b7d\"], [0.2, \"#de77ae\"], [0.3, \"#f1b6da\"], [0.4, \"#fde0ef\"], [0.5, \"#f7f7f7\"], [0.6, \"#e6f5d0\"], [0.7, \"#b8e186\"], [0.8, \"#7fbc41\"], [0.9, \"#4d9221\"], [1, \"#276419\"]], \"sequential\": [[0.0, \"#0d0887\"], [0.1111111111111111, \"#46039f\"], [0.2222222222222222, \"#7201a8\"], [0.3333333333333333, \"#9c179e\"], [0.4444444444444444, \"#bd3786\"], [0.5555555555555556, \"#d8576b\"], [0.6666666666666666, \"#ed7953\"], [0.7777777777777778, \"#fb9f3a\"], [0.8888888888888888, \"#fdca26\"], [1.0, \"#f0f921\"]], \"sequentialminus\": [[0.0, \"#0d0887\"], [0.1111111111111111, \"#46039f\"], [0.2222222222222222, \"#7201a8\"], [0.3333333333333333, \"#9c179e\"], [0.4444444444444444, \"#bd3786\"], [0.5555555555555556, \"#d8576b\"], [0.6666666666666666, \"#ed7953\"], [0.7777777777777778, \"#fb9f3a\"], [0.8888888888888888, \"#fdca26\"], [1.0, \"#f0f921\"]]}, \"colorway\": [\"#636efa\", \"#EF553B\", \"#00cc96\", \"#ab63fa\", \"#FFA15A\", \"#19d3f3\", \"#FF6692\", \"#B6E880\", \"#FF97FF\", \"#FECB52\"], \"font\": {\"color\": \"#2a3f5f\"}, \"geo\": {\"bgcolor\": \"white\", \"lakecolor\": \"white\", \"landcolor\": \"#E5ECF6\", \"showlakes\": true, \"showland\": true, \"subunitcolor\": \"white\"}, \"hoverlabel\": {\"align\": \"left\"}, \"hovermode\": \"closest\", \"mapbox\": {\"style\": \"light\"}, \"paper_bgcolor\": \"white\", \"plot_bgcolor\": \"#E5ECF6\", \"polar\": {\"angularaxis\": {\"gridcolor\": \"white\", \"linecolor\": \"white\", \"ticks\": \"\"}, \"bgcolor\": \"#E5ECF6\", \"radialaxis\": {\"gridcolor\": \"white\", \"linecolor\": \"white\", \"ticks\": \"\"}}, \"scene\": {\"xaxis\": {\"backgroundcolor\": \"#E5ECF6\", \"gridcolor\": \"white\", \"gridwidth\": 2, \"linecolor\": \"white\", \"showbackground\": true, \"ticks\": \"\", \"zerolinecolor\": \"white\"}, \"yaxis\": {\"backgroundcolor\": \"#E5ECF6\", \"gridcolor\": \"white\", \"gridwidth\": 2, \"linecolor\": \"white\", \"showbackground\": true, \"ticks\": \"\", \"zerolinecolor\": \"white\"}, \"zaxis\": {\"backgroundcolor\": \"#E5ECF6\", \"gridcolor\": \"white\", \"gridwidth\": 2, \"linecolor\": \"white\", \"showbackground\": true, \"ticks\": \"\", \"zerolinecolor\": \"white\"}}, \"shapedefaults\": {\"line\": {\"color\": \"#2a3f5f\"}}, \"ternary\": {\"aaxis\": {\"gridcolor\": \"white\", \"linecolor\": \"white\", \"ticks\": \"\"}, \"baxis\": {\"gridcolor\": \"white\", \"linecolor\": \"white\", \"ticks\": \"\"}, \"bgcolor\": \"#E5ECF6\", \"caxis\": {\"gridcolor\": \"white\", \"linecolor\": \"white\", \"ticks\": \"\"}}, \"title\": {\"x\": 0.05}, \"xaxis\": {\"automargin\": true, \"gridcolor\": \"white\", \"linecolor\": \"white\", \"ticks\": \"\", \"title\": {\"standoff\": 15}, \"zerolinecolor\": \"white\", \"zerolinewidth\": 2}, \"yaxis\": {\"automargin\": true, \"gridcolor\": \"white\", \"linecolor\": \"white\", \"ticks\": \"\", \"title\": {\"standoff\": 15}, \"zerolinecolor\": \"white\", \"zerolinewidth\": 2}}}, \"title\": {\"text\": \"<b>Average Glucose Level vs Age</b>\"}, \"xaxis\": {\"anchor\": \"y\", \"domain\": [0.0, 1.0], \"showgrid\": false, \"title\": {\"font\": {\"family\": \"Graphik\"}, \"text\": \"Average Glucose Level\"}}, \"yaxis\": {\"anchor\": \"x\", \"domain\": [0.0, 1.0], \"showgrid\": false, \"title\": {\"font\": {\"family\": \"Graphik\"}, \"text\": \"Age\"}}},\n",
              "                        {\"responsive\": true}\n",
              "                    ).then(function(){\n",
              "                            \n",
              "var gd = document.getElementById('31bf6d19-802b-4878-bc92-94fb999ded47');\n",
              "var x = new MutationObserver(function (mutations, observer) {{\n",
              "        var display = window.getComputedStyle(gd).display;\n",
              "        if (!display || display === 'none') {{\n",
              "            console.log([gd, 'removed!']);\n",
              "            Plotly.purge(gd);\n",
              "            observer.disconnect();\n",
              "        }}\n",
              "}});\n",
              "\n",
              "// Listen for the removal of the full notebook cells\n",
              "var notebookContainer = gd.closest('#notebook-container');\n",
              "if (notebookContainer) {{\n",
              "    x.observe(notebookContainer, {childList: true});\n",
              "}}\n",
              "\n",
              "// Listen for the clearing of the current output cell\n",
              "var outputEl = gd.closest('.output');\n",
              "if (outputEl) {{\n",
              "    x.observe(outputEl, {childList: true});\n",
              "}}\n",
              "\n",
              "                        })\n",
              "                };\n",
              "                \n",
              "            </script>\n",
              "        </div>\n",
              "</body>\n",
              "</html>"
            ]
          },
          "metadata": {
            "tags": []
          }
        }
      ]
    },
    {
      "cell_type": "code",
      "metadata": {
        "colab": {
          "base_uri": "https://localhost:8080/",
          "height": 542
        },
        "id": "Rsz-oE1kGFRd",
        "outputId": "bd62c7d8-4fe6-450e-d889-1e65b8089440"
      },
      "source": [
        "# Violin Plots in Plotly\n",
        "\n",
        "fig = px.violin(stroke[had_stroke], x='heart_disease', y='avg_glucose_level',\n",
        "                color='heart_disease',\n",
        "                title=\"<b>Heart Disease & Average Glucose Level</b>\",\n",
        "                labels={\"avg_glucose_level\": \"Glucose\"},\n",
        "                box=True,\n",
        "                points=\"all\",\n",
        "                hover_data=stroke[had_stroke].columns)\n",
        "\n",
        "fig.update_yaxes(title=\"Glucose\", showgrid=False, title_font_family=font)\n",
        "fig.update_xaxes(title=\"Heart Disease\", showgrid=False, title_font_family=font)\n",
        "fig.update_layout(font_family=font)"
      ],
      "execution_count": 81,
      "outputs": [
        {
          "output_type": "display_data",
          "data": {
            "text/html": [
              "<html>\n",
              "<head><meta charset=\"utf-8\" /></head>\n",
              "<body>\n",
              "    <div>\n",
              "            <script src=\"https://cdnjs.cloudflare.com/ajax/libs/mathjax/2.7.5/MathJax.js?config=TeX-AMS-MML_SVG\"></script><script type=\"text/javascript\">if (window.MathJax) {MathJax.Hub.Config({SVG: {font: \"STIX-Web\"}});}</script>\n",
              "                <script type=\"text/javascript\">window.PlotlyConfig = {MathJaxConfig: 'local'};</script>\n",
              "        <script src=\"https://cdn.plot.ly/plotly-latest.min.js\"></script>    \n",
              "            <div id=\"079a9bd5-709a-47ca-b0b2-4a95f57c039f\" class=\"plotly-graph-div\" style=\"height:525px; width:100%;\"></div>\n",
              "            <script type=\"text/javascript\">\n",
              "                \n",
              "                    window.PLOTLYENV=window.PLOTLYENV || {};\n",
              "                    \n",
              "                if (document.getElementById(\"079a9bd5-709a-47ca-b0b2-4a95f57c039f\")) {\n",
              "                    Plotly.newPlot(\n",
              "                        '079a9bd5-709a-47ca-b0b2-4a95f57c039f',\n",
              "                        [{\"alignmentgroup\": \"True\", \"box\": {\"visible\": true}, \"customdata\": [[9046, \"Male\", 67.0, 0, 1, \"Yes\", \"Private\", \"Urban\", 228.69, 36.6, \"formerly smoked\", 1], [31112, \"Male\", 80.0, 0, 1, \"Yes\", \"Private\", \"Rural\", 105.92, 32.5, \"never smoked\", 1], [53882, \"Male\", 74.0, 1, 1, \"Yes\", \"Private\", \"Rural\", 70.09, 27.4, \"never smoked\", 1], [12095, \"Female\", 61.0, 0, 1, \"Yes\", \"Govt_job\", \"Rural\", 120.46, 36.8, \"smokes\", 1], [8213, \"Male\", 78.0, 0, 1, \"Yes\", \"Private\", \"Urban\", 219.84, null, \"Unknown\", 1], [5317, \"Female\", 79.0, 0, 1, \"Yes\", \"Private\", \"Urban\", 214.09, 28.2, \"never smoked\", 1], [56112, \"Male\", 64.0, 0, 1, \"Yes\", \"Private\", \"Urban\", 191.61, 37.5, \"smokes\", 1], [25226, \"Male\", 57.0, 0, 1, \"No\", \"Govt_job\", \"Urban\", 217.08, null, \"Unknown\", 1], [64778, \"Male\", 82.0, 0, 1, \"Yes\", \"Private\", \"Rural\", 208.3, 32.5, \"Unknown\", 1], [54827, \"Male\", 69.0, 0, 1, \"Yes\", \"Self-employed\", \"Urban\", 195.23, 28.3, \"smokes\", 1], [54401, \"Male\", 80.0, 0, 1, \"Yes\", \"Self-employed\", \"Urban\", 252.72, 30.5, \"formerly smoked\", 1], [712, \"Female\", 82.0, 1, 1, \"No\", \"Private\", \"Rural\", 84.03, 26.5, \"formerly smoked\", 1], [61960, \"Male\", 82.0, 0, 1, \"Yes\", \"Private\", \"Urban\", 144.9, 26.4, \"smokes\", 1], [37937, \"Female\", 75.0, 0, 1, \"No\", \"Self-employed\", \"Urban\", 109.78, null, \"Unknown\", 1], [59190, \"Female\", 79.0, 0, 1, \"Yes\", \"Private\", \"Rural\", 127.29, 27.7, \"never smoked\", 1], [25831, \"Male\", 63.0, 0, 1, \"Yes\", \"Private\", \"Rural\", 196.71, 36.5, \"formerly smoked\", 1], [66159, \"Female\", 80.0, 0, 1, \"Yes\", \"Self-employed\", \"Rural\", 66.72, 21.7, \"formerly smoked\", 1], [3253, \"Male\", 61.0, 0, 1, \"Yes\", \"Private\", \"Rural\", 111.81, 27.3, \"smokes\", 1], [71796, \"Female\", 70.0, 0, 1, \"Yes\", \"Private\", \"Rural\", 59.35, 32.3, \"formerly smoked\", 1], [28291, \"Female\", 79.0, 0, 1, \"Yes\", \"Private\", \"Urban\", 226.98, 29.8, \"never smoked\", 1], [56841, \"Male\", 58.0, 0, 1, \"Yes\", \"Private\", \"Rural\", 240.59, 31.4, \"smokes\", 1], [12363, \"Male\", 64.0, 0, 1, \"Yes\", \"Govt_job\", \"Urban\", 74.1, 28.8, \"Unknown\", 1], [4712, \"Female\", 81.0, 0, 1, \"Yes\", \"Self-employed\", \"Rural\", 78.7, 19.4, \"Unknown\", 1], [56546, \"Male\", 79.0, 0, 1, \"Yes\", \"Private\", \"Rural\", 129.98, 22.6, \"formerly smoked\", 1], [48405, \"Male\", 80.0, 0, 1, \"Yes\", \"Private\", \"Urban\", 68.53, 24.2, \"smokes\", 1], [53401, \"Male\", 71.0, 1, 1, \"No\", \"Govt_job\", \"Rural\", 216.94, 30.9, \"never smoked\", 1], [20439, \"Male\", 82.0, 0, 1, \"Yes\", \"Govt_job\", \"Rural\", 103.68, 25.0, \"never smoked\", 1], [37651, \"Female\", 69.0, 1, 1, \"No\", \"Self-employed\", \"Urban\", 72.17, 36.8, \"never smoked\", 1], [58978, \"Female\", 70.0, 0, 1, \"Yes\", \"Private\", \"Rural\", 239.07, 26.1, \"never smoked\", 1], [46703, \"Male\", 68.0, 0, 1, \"Yes\", \"Private\", \"Urban\", 223.83, 31.9, \"formerly smoked\", 1], [24669, \"Female\", 77.0, 0, 1, \"Yes\", \"Private\", \"Rural\", 231.56, 36.9, \"never smoked\", 1], [16590, \"Male\", 71.0, 0, 1, \"Yes\", \"Private\", \"Urban\", 81.76, null, \"smokes\", 1], [60739, \"Female\", 79.0, 1, 1, \"No\", \"Self-employed\", \"Rural\", 60.94, null, \"never smoked\", 1], [28378, \"Male\", 61.0, 1, 1, \"Yes\", \"Private\", \"Urban\", 112.24, 37.4, \"smokes\", 1], [16077, \"Male\", 63.0, 0, 1, \"Yes\", \"Self-employed\", \"Urban\", 116.69, 34.5, \"formerly smoked\", 1], [67895, \"Female\", 82.0, 1, 1, \"Yes\", \"Govt_job\", \"Urban\", 215.94, 27.9, \"formerly smoked\", 1], [66955, \"Male\", 61.0, 0, 1, \"Yes\", \"Private\", \"Urban\", 209.86, null, \"Unknown\", 1], [69112, \"Male\", 68.0, 1, 1, \"Yes\", \"Private\", \"Rural\", 271.74, 31.1, \"smokes\", 1], [68627, \"Male\", 80.0, 1, 1, \"Yes\", \"Private\", \"Urban\", 175.29, 31.5, \"formerly smoked\", 1], [68025, \"Female\", 79.0, 0, 1, \"No\", \"Private\", \"Urban\", 205.33, 31.0, \"smokes\", 1], [29552, \"Female\", 55.0, 1, 1, \"Yes\", \"Private\", \"Urban\", 210.4, 40.0, \"smokes\", 1], [25904, \"Female\", 76.0, 1, 1, \"Yes\", \"Self-employed\", \"Urban\", 199.86, null, \"smokes\", 1], [31421, \"Male\", 73.0, 0, 1, \"Yes\", \"Govt_job\", \"Rural\", 219.73, 28.6, \"never smoked\", 1], [20463, \"Male\", 81.0, 1, 1, \"Yes\", \"Private\", \"Urban\", 250.89, 28.1, \"smokes\", 1], [39186, \"Female\", 57.0, 0, 1, \"Yes\", \"Private\", \"Urban\", 216.58, 31.0, \"Unknown\", 1], [32221, \"Male\", 60.0, 0, 1, \"Yes\", \"Private\", \"Urban\", 91.92, 35.9, \"smokes\", 1], [40460, \"Female\", 68.0, 1, 1, \"Yes\", \"Private\", \"Urban\", 247.51, 40.5, \"formerly smoked\", 1]], \"hoverlabel\": {\"namelength\": 0}, \"hovertemplate\": \"heart_disease=%{customdata[4]}<br>Glucose=%{customdata[8]}<br>id=%{customdata[0]}<br>gender=%{customdata[1]}<br>age=%{customdata[2]}<br>hypertension=%{customdata[3]}<br>ever_married=%{customdata[5]}<br>work_type=%{customdata[6]}<br>Residence_type=%{customdata[7]}<br>bmi=%{customdata[9]}<br>smoking_status=%{customdata[10]}<br>stroke=%{customdata[11]}\", \"legendgroup\": \"heart_disease=1\", \"marker\": {\"color\": \"#636efa\"}, \"name\": \"heart_disease=1\", \"offsetgroup\": \"heart_disease=1\", \"orientation\": \"v\", \"points\": \"all\", \"scalegroup\": \"True\", \"showlegend\": true, \"type\": \"violin\", \"x\": [1, 1, 1, 1, 1, 1, 1, 1, 1, 1, 1, 1, 1, 1, 1, 1, 1, 1, 1, 1, 1, 1, 1, 1, 1, 1, 1, 1, 1, 1, 1, 1, 1, 1, 1, 1, 1, 1, 1, 1, 1, 1, 1, 1, 1, 1, 1], \"x0\": \" \", \"xaxis\": \"x\", \"y\": [228.69, 105.92, 70.09, 120.46, 219.84, 214.09, 191.61, 217.08, 208.3, 195.23, 252.72, 84.03, 144.9, 109.78, 127.29, 196.71, 66.72, 111.81, 59.35, 226.98, 240.59, 74.1, 78.7, 129.98, 68.53, 216.94, 103.68, 72.17, 239.07, 223.83, 231.56, 81.76, 60.94, 112.24, 116.69, 215.94, 209.86, 271.74, 175.29, 205.33, 210.4, 199.86, 219.73, 250.89, 216.58, 91.92, 247.51], \"y0\": \" \", \"yaxis\": \"y\"}, {\"alignmentgroup\": \"True\", \"box\": {\"visible\": true}, \"customdata\": [[51676, \"Female\", 61.0, 0, 0, \"Yes\", \"Self-employed\", \"Rural\", 202.21, null, \"never smoked\", 1], [60182, \"Female\", 49.0, 0, 0, \"Yes\", \"Private\", \"Urban\", 171.23, 34.4, \"smokes\", 1], [1665, \"Female\", 79.0, 1, 0, \"Yes\", \"Self-employed\", \"Rural\", 174.12, 24.0, \"never smoked\", 1], [56669, \"Male\", 81.0, 0, 0, \"Yes\", \"Private\", \"Urban\", 186.21, 29.0, \"formerly smoked\", 1], [10434, \"Female\", 69.0, 0, 0, \"No\", \"Private\", \"Urban\", 94.39, 22.8, \"never smoked\", 1], [27419, \"Female\", 59.0, 0, 0, \"Yes\", \"Private\", \"Rural\", 76.15, null, \"Unknown\", 1], [60491, \"Female\", 78.0, 0, 0, \"Yes\", \"Private\", \"Urban\", 58.57, 24.2, \"Unknown\", 1], [12109, \"Female\", 81.0, 1, 0, \"Yes\", \"Private\", \"Rural\", 80.43, 29.7, \"never smoked\", 1], [12175, \"Female\", 54.0, 0, 0, \"Yes\", \"Private\", \"Urban\", 104.51, 27.3, \"smokes\", 1], [58202, \"Female\", 50.0, 1, 0, \"Yes\", \"Self-employed\", \"Rural\", 167.41, 30.9, \"never smoked\", 1], [34120, \"Male\", 75.0, 1, 0, \"Yes\", \"Private\", \"Urban\", 221.29, 25.8, \"smokes\", 1], [27458, \"Female\", 60.0, 0, 0, \"No\", \"Private\", \"Urban\", 89.22, 37.8, \"never smoked\", 1], [70630, \"Female\", 71.0, 0, 0, \"Yes\", \"Govt_job\", \"Rural\", 193.94, 22.4, \"smokes\", 1], [13861, \"Female\", 52.0, 1, 0, \"Yes\", \"Self-employed\", \"Urban\", 233.29, 48.9, \"never smoked\", 1], [68794, \"Female\", 79.0, 0, 0, \"Yes\", \"Self-employed\", \"Urban\", 228.7, 26.6, \"never smoked\", 1], [4219, \"Male\", 71.0, 0, 0, \"Yes\", \"Private\", \"Urban\", 102.87, 27.2, \"formerly smoked\", 1], [70822, \"Male\", 80.0, 0, 0, \"Yes\", \"Self-employed\", \"Rural\", 104.12, 23.5, \"never smoked\", 1], [38047, \"Female\", 65.0, 0, 0, \"Yes\", \"Private\", \"Rural\", 100.98, 28.2, \"formerly smoked\", 1], [61843, \"Male\", 58.0, 0, 0, \"Yes\", \"Private\", \"Rural\", 189.84, null, \"Unknown\", 1], [69160, \"Male\", 59.0, 0, 0, \"Yes\", \"Private\", \"Rural\", 211.78, null, \"formerly smoked\", 1], [43717, \"Male\", 57.0, 1, 0, \"Yes\", \"Private\", \"Urban\", 212.08, 44.2, \"smokes\", 1], [33879, \"Male\", 42.0, 0, 0, \"Yes\", \"Private\", \"Rural\", 83.41, 25.4, \"Unknown\", 1], [39373, \"Female\", 82.0, 1, 0, \"Yes\", \"Self-employed\", \"Urban\", 196.92, 22.2, \"never smoked\", 1], [14248, \"Male\", 48.0, 0, 0, \"No\", \"Govt_job\", \"Urban\", 84.2, 29.7, \"never smoked\", 1], [47269, \"Male\", 74.0, 0, 0, \"Yes\", \"Private\", \"Rural\", 219.72, 33.7, \"formerly smoked\", 1], [24977, \"Female\", 72.0, 1, 0, \"Yes\", \"Private\", \"Rural\", 74.63, 23.1, \"formerly smoked\", 1], [47306, \"Male\", 58.0, 0, 0, \"No\", \"Private\", \"Rural\", 92.62, 32.0, \"Unknown\", 1], [62602, \"Female\", 49.0, 0, 0, \"Yes\", \"Private\", \"Urban\", 60.91, 29.9, \"never smoked\", 1], [4651, \"Male\", 78.0, 0, 0, \"Yes\", \"Private\", \"Rural\", 78.03, 23.9, \"formerly smoked\", 1], [1261, \"Male\", 54.0, 0, 0, \"Yes\", \"Private\", \"Urban\", 71.22, 28.5, \"never smoked\", 1], [1845, \"Female\", 63.0, 0, 0, \"Yes\", \"Private\", \"Urban\", 90.9, null, \"formerly smoked\", 1], [7937, \"Male\", 60.0, 1, 0, \"Yes\", \"Govt_job\", \"Urban\", 213.03, 20.2, \"smokes\", 1], [19824, \"Male\", 76.0, 1, 0, \"Yes\", \"Private\", \"Rural\", 243.58, 33.6, \"never smoked\", 1], [47472, \"Female\", 58.0, 0, 0, \"Yes\", \"Private\", \"Urban\", 107.26, 38.6, \"formerly smoked\", 1], [35626, \"Male\", 81.0, 0, 0, \"Yes\", \"Self-employed\", \"Urban\", 99.33, 33.7, \"never smoked\", 1], [36338, \"Female\", 39.0, 1, 0, \"Yes\", \"Private\", \"Rural\", 58.09, 39.2, \"smokes\", 1], [18587, \"Female\", 76.0, 0, 0, \"No\", \"Private\", \"Urban\", 89.96, null, \"Unknown\", 1], [15102, \"Male\", 78.0, 1, 0, \"Yes\", \"Private\", \"Urban\", 75.32, null, \"formerly smoked\", 1], [47167, \"Female\", 77.0, 1, 0, \"Yes\", \"Self-employed\", \"Urban\", 124.13, 31.4, \"never smoked\", 1], [8752, \"Female\", 63.0, 0, 0, \"Yes\", \"Govt_job\", \"Urban\", 197.54, null, \"never smoked\", 1], [38829, \"Female\", 82.0, 0, 0, \"Yes\", \"Private\", \"Rural\", 59.32, 33.2, \"never smoked\", 1], [66400, \"Male\", 78.0, 0, 0, \"Yes\", \"Private\", \"Urban\", 237.75, null, \"formerly smoked\", 1], [58631, \"Male\", 73.0, 1, 0, \"Yes\", \"Self-employed\", \"Urban\", 194.99, 32.8, \"never smoked\", 1], [5111, \"Female\", 54.0, 1, 0, \"Yes\", \"Govt_job\", \"Urban\", 180.93, 27.7, \"never smoked\", 1], [10710, \"Female\", 56.0, 0, 0, \"Yes\", \"Private\", \"Urban\", 185.17, 40.4, \"formerly smoked\", 1], [55927, \"Female\", 80.0, 1, 0, \"Yes\", \"Private\", \"Rural\", 74.9, 22.2, \"never smoked\", 1], [65842, \"Female\", 67.0, 1, 0, \"Yes\", \"Self-employed\", \"Rural\", 61.94, 25.3, \"smokes\", 1], [19557, \"Female\", 45.0, 0, 0, \"Yes\", \"Private\", \"Rural\", 93.72, 30.2, \"formerly smoked\", 1], [7356, \"Male\", 75.0, 0, 0, \"Yes\", \"Private\", \"Urban\", 104.72, null, \"Unknown\", 1], [17013, \"Male\", 78.0, 1, 0, \"No\", \"Private\", \"Urban\", 113.01, 24.0, \"never smoked\", 1], [17004, \"Female\", 70.0, 0, 0, \"Yes\", \"Private\", \"Urban\", 221.58, 47.5, \"never smoked\", 1], [72366, \"Male\", 76.0, 0, 0, \"Yes\", \"Private\", \"Urban\", 104.47, 20.3, \"Unknown\", 1], [6118, \"Male\", 59.0, 0, 0, \"Yes\", \"Private\", \"Urban\", 86.23, 30.0, \"formerly smoked\", 1], [7371, \"Female\", 80.0, 1, 0, \"Yes\", \"Self-employed\", \"Rural\", 72.67, 28.9, \"never smoked\", 1], [70676, \"Female\", 76.0, 0, 0, \"Yes\", \"Govt_job\", \"Rural\", 62.57, null, \"formerly smoked\", 1], [2326, \"Female\", 67.0, 1, 0, \"Yes\", \"Private\", \"Rural\", 179.12, 28.1, \"formerly smoked\", 1], [27169, \"Female\", 66.0, 1, 0, \"Yes\", \"Govt_job\", \"Rural\", 116.55, 31.1, \"formerly smoked\", 1], [50784, \"Male\", 63.0, 0, 0, \"Yes\", \"Private\", \"Rural\", 228.56, 27.4, \"never smoked\", 1], [19773, \"Female\", 52.0, 0, 0, \"Yes\", \"Private\", \"Rural\", 96.59, 26.4, \"never smoked\", 1], [36236, \"Male\", 80.0, 1, 0, \"Yes\", \"Private\", \"Urban\", 240.09, 27.0, \"never smoked\", 1], [71673, \"Female\", 79.0, 0, 0, \"Yes\", \"Private\", \"Urban\", 110.85, 24.1, \"formerly smoked\", 1], [45805, \"Female\", 51.0, 0, 0, \"Yes\", \"Private\", \"Urban\", 165.31, null, \"never smoked\", 1], [42117, \"Male\", 43.0, 0, 0, \"Yes\", \"Self-employed\", \"Urban\", 143.43, 45.9, \"Unknown\", 1], [57419, \"Male\", 59.0, 0, 0, \"Yes\", \"Private\", \"Rural\", 96.16, 44.1, \"Unknown\", 1], [26015, \"Female\", 66.0, 0, 0, \"Yes\", \"Self-employed\", \"Urban\", 101.45, null, \"Unknown\", 1], [26727, \"Female\", 79.0, 0, 0, \"No\", \"Private\", \"Rural\", 88.92, 22.9, \"never smoked\", 1], [66638, \"Female\", 68.0, 1, 0, \"No\", \"Self-employed\", \"Urban\", 79.79, 29.7, \"never smoked\", 1], [70042, \"Male\", 58.0, 0, 0, \"Yes\", \"Private\", \"Urban\", 71.2, null, \"Unknown\", 1], [32399, \"Male\", 54.0, 0, 0, \"Yes\", \"Private\", \"Rural\", 96.97, 29.1, \"smokes\", 1], [14499, \"Male\", 47.0, 0, 0, \"Yes\", \"Private\", \"Urban\", 86.94, 41.1, \"formerly smoked\", 1], [49130, \"Male\", 74.0, 0, 0, \"Yes\", \"Private\", \"Urban\", 98.55, 25.6, \"Unknown\", 1], [51169, \"Male\", 81.0, 0, 0, \"Yes\", \"Private\", \"Urban\", 72.81, 26.3, \"never smoked\", 1], [66315, \"Female\", 57.0, 0, 0, \"No\", \"Self-employed\", \"Urban\", 68.02, 37.5, \"never smoked\", 1], [37726, \"Female\", 80.0, 1, 0, \"Yes\", \"Self-employed\", \"Urban\", 68.56, 26.2, \"Unknown\", 1], [54385, \"Male\", 45.0, 0, 0, \"Yes\", \"Private\", \"Rural\", 64.14, 29.4, \"never smoked\", 1], [2458, \"Female\", 78.0, 0, 0, \"Yes\", \"Private\", \"Rural\", 235.63, 32.3, \"never smoked\", 1], [35512, \"Female\", 70.0, 0, 0, \"Yes\", \"Self-employed\", \"Rural\", 76.34, 24.4, \"formerly smoked\", 1], [8154, \"Male\", 57.0, 1, 0, \"Yes\", \"Govt_job\", \"Urban\", 78.92, 27.7, \"formerly smoked\", 1], [4639, \"Female\", 69.0, 0, 0, \"Yes\", \"Govt_job\", \"Urban\", 82.81, 28.0, \"never smoked\", 1], [63973, \"Female\", 77.0, 0, 0, \"Yes\", \"Govt_job\", \"Rural\", 190.32, 31.4, \"never smoked\", 1], [45277, \"Female\", 74.0, 0, 0, \"Yes\", \"Private\", \"Rural\", 231.61, 34.6, \"formerly smoked\", 1], [33175, \"Female\", 57.0, 0, 0, \"Yes\", \"Govt_job\", \"Urban\", 110.52, 28.5, \"Unknown\", 1], [2346, \"Male\", 58.0, 0, 0, \"Yes\", \"Private\", \"Urban\", 82.3, null, \"smokes\", 1], [42072, \"Female\", 50.0, 1, 0, \"Yes\", \"Private\", \"Rural\", 73.18, 30.3, \"formerly smoked\", 1], [12062, \"Female\", 54.0, 0, 0, \"Yes\", \"Self-employed\", \"Rural\", 191.82, 40.4, \"smokes\", 1], [30456, \"Female\", 79.0, 0, 0, \"Yes\", \"Private\", \"Rural\", 93.05, 24.2, \"never smoked\", 1], [59125, \"Female\", 53.0, 0, 0, \"Yes\", \"Govt_job\", \"Urban\", 64.17, 41.5, \"never smoked\", 1], [36706, \"Female\", 76.0, 0, 0, \"Yes\", \"Self-employed\", \"Urban\", 106.41, null, \"formerly smoked\", 1], [41069, \"Female\", 45.0, 0, 0, \"Yes\", \"Private\", \"Rural\", 224.1, 56.6, \"never smoked\", 1], [71639, \"Female\", 68.0, 0, 0, \"No\", \"Govt_job\", \"Urban\", 82.1, 27.1, \"Unknown\", 1], [60744, \"Male\", 61.0, 1, 0, \"Yes\", \"Self-employed\", \"Rural\", 76.11, 27.3, \"smokes\", 1], [7547, \"Male\", 74.0, 0, 0, \"Yes\", \"Private\", \"Urban\", 72.96, 31.3, \"smokes\", 1], [31720, \"Female\", 38.0, 0, 0, \"No\", \"Self-employed\", \"Urban\", 82.28, 24.0, \"formerly smoked\", 1], [5563, \"Female\", 77.0, 0, 0, \"Yes\", \"Private\", \"Urban\", 105.22, 31.0, \"never smoked\", 1], [68798, \"Female\", 58.0, 0, 0, \"Yes\", \"Private\", \"Rural\", 59.86, 28.0, \"formerly smoked\", 1], [72918, \"Female\", 53.0, 1, 0, \"Yes\", \"Private\", \"Urban\", 62.55, 30.3, \"Unknown\", 1], [13491, \"Male\", 80.0, 0, 0, \"Yes\", \"Private\", \"Rural\", 259.63, 31.7, \"smokes\", 1], [44033, \"Male\", 56.0, 1, 0, \"Yes\", \"Private\", \"Rural\", 249.31, 35.8, \"never smoked\", 1], [14164, \"Female\", 72.0, 0, 0, \"Yes\", \"Private\", \"Urban\", 219.91, null, \"Unknown\", 1], [50522, \"Female\", 72.0, 0, 0, \"Yes\", \"Govt_job\", \"Urban\", 131.41, 28.4, \"never smoked\", 1], [3352, \"Male\", 78.0, 1, 0, \"Yes\", \"Self-employed\", \"Urban\", 93.13, null, \"formerly smoked\", 1], [70943, \"Female\", 80.0, 0, 0, \"Yes\", \"Private\", \"Urban\", 73.54, 24.0, \"Unknown\", 1], [37132, \"Male\", 82.0, 0, 0, \"Yes\", \"Govt_job\", \"Urban\", 200.59, 29.0, \"formerly smoked\", 1], [48796, \"Female\", 75.0, 0, 0, \"Yes\", \"Govt_job\", \"Urban\", 62.48, null, \"Unknown\", 1], [53440, \"Female\", 73.0, 1, 0, \"Yes\", \"Private\", \"Rural\", 190.14, 36.5, \"never smoked\", 1], [16817, \"Female\", 78.0, 1, 0, \"No\", \"Private\", \"Urban\", 130.54, 20.1, \"never smoked\", 1], [69551, \"Male\", 69.0, 1, 0, \"No\", \"Private\", \"Rural\", 182.99, 36.5, \"never smoked\", 1], [31563, \"Female\", 38.0, 0, 0, \"Yes\", \"Private\", \"Rural\", 101.45, null, \"formerly smoked\", 1], [20387, \"Female\", 68.0, 1, 0, \"Yes\", \"Self-employed\", \"Rural\", 206.09, 26.7, \"never smoked\", 1], [71279, \"Female\", 71.0, 0, 0, \"Yes\", \"Govt_job\", \"Urban\", 263.32, 38.7, \"never smoked\", 1], [55824, \"Male\", 76.0, 0, 0, \"Yes\", \"Private\", \"Urban\", 140.1, 29.9, \"formerly smoked\", 1], [11762, \"Female\", 76.0, 0, 0, \"Yes\", \"Private\", \"Urban\", 207.28, 34.9, \"Unknown\", 1], [29281, \"Male\", 76.0, 1, 0, \"Yes\", \"Self-employed\", \"Rural\", 194.37, 27.0, \"formerly smoked\", 1], [30683, \"Female\", 75.0, 0, 0, \"Yes\", \"Private\", \"Rural\", 199.2, 26.6, \"Unknown\", 1], [45965, \"Female\", 59.0, 0, 0, \"Yes\", \"Private\", \"Rural\", 116.44, 23.8, \"smokes\", 1], [8045, \"Female\", 74.0, 1, 0, \"Yes\", \"Private\", \"Urban\", 70.28, 21.8, \"never smoked\", 1], [17308, \"Female\", 72.0, 1, 0, \"Yes\", \"Private\", \"Urban\", 221.79, 30.0, \"never smoked\", 1], [67981, \"Male\", 66.0, 0, 0, \"Yes\", \"Private\", \"Urban\", 151.16, 27.5, \"formerly smoked\", 1], [41241, \"Male\", 65.0, 0, 0, \"Yes\", \"Self-employed\", \"Urban\", 68.43, null, \"formerly smoked\", 1], [62861, \"Female\", 78.0, 0, 0, \"Yes\", \"Private\", \"Urban\", 67.29, 24.6, \"never smoked\", 1], [72081, \"Female\", 57.0, 1, 0, \"Yes\", \"Govt_job\", \"Rural\", 67.41, 32.9, \"never smoked\", 1], [11933, \"Female\", 79.0, 0, 0, \"Yes\", \"Private\", \"Rural\", 169.67, null, \"Unknown\", 1], [32503, \"Female\", 80.0, 0, 0, \"Yes\", \"Self-employed\", \"Urban\", 76.57, 34.1, \"never smoked\", 1], [12482, \"Male\", 68.0, 0, 0, \"Yes\", \"Self-employed\", \"Urban\", 77.82, 27.5, \"smokes\", 1], [56939, \"Female\", 55.0, 0, 0, \"Yes\", \"Self-employed\", \"Rural\", 92.98, 25.6, \"never smoked\", 1], [43054, \"Female\", 50.0, 0, 0, \"Yes\", \"Private\", \"Rural\", 102.16, 31.4, \"smokes\", 1], [59437, \"Female\", 57.0, 0, 0, \"Yes\", \"Private\", \"Urban\", 221.89, 37.3, \"smokes\", 1], [66258, \"Female\", 71.0, 0, 0, \"Yes\", \"Self-employed\", \"Urban\", 195.71, 34.1, \"formerly smoked\", 1], [34567, \"Female\", 81.0, 1, 0, \"Yes\", \"Self-employed\", \"Rural\", 74.02, 25.0, \"never smoked\", 1], [50931, \"Female\", 76.0, 0, 0, \"Yes\", \"Private\", \"Urban\", 57.92, null, \"formerly smoked\", 1], [69768, \"Female\", 1.32, 0, 0, \"No\", \"children\", \"Urban\", 70.37, null, \"Unknown\", 1], [20426, \"Female\", 78.0, 1, 0, \"No\", \"Private\", \"Urban\", 203.87, 45.7, \"never smoked\", 1], [3512, \"Female\", 70.0, 1, 0, \"Yes\", \"Self-employed\", \"Urban\", 89.13, 34.2, \"formerly smoked\", 1], [42899, \"Male\", 78.0, 0, 0, \"Yes\", \"Self-employed\", \"Urban\", 133.19, 23.6, \"formerly smoked\", 1], [63453, \"Female\", 56.0, 0, 0, \"Yes\", \"Govt_job\", \"Rural\", 162.23, 27.3, \"Unknown\", 1], [43364, \"Male\", 79.0, 1, 0, \"Yes\", \"Private\", \"Rural\", 75.02, null, \"never smoked\", 1], [44993, \"Female\", 79.0, 1, 0, \"No\", \"Govt_job\", \"Urban\", 98.02, 22.3, \"formerly smoked\", 1], [210, \"Male\", 81.0, 0, 0, \"Yes\", \"Self-employed\", \"Rural\", 91.54, 31.4, \"never smoked\", 1], [28939, \"Male\", 64.0, 0, 0, \"Yes\", \"Self-employed\", \"Rural\", 111.98, null, \"formerly smoked\", 1], [67432, \"Female\", 60.0, 0, 0, \"Yes\", \"Private\", \"Urban\", 97.43, 26.4, \"smokes\", 1], [2182, \"Female\", 80.0, 1, 0, \"Yes\", \"Self-employed\", \"Rural\", 91.02, 32.9, \"formerly smoked\", 1], [40899, \"Female\", 78.0, 0, 0, \"Yes\", \"Self-employed\", \"Rural\", 60.67, null, \"formerly smoked\", 1], [14431, \"Male\", 72.0, 1, 0, \"Yes\", \"Self-employed\", \"Rural\", 185.49, 37.1, \"never smoked\", 1], [62466, \"Female\", 80.0, 0, 0, \"Yes\", \"Private\", \"Urban\", 64.44, 45.0, \"never smoked\", 1], [36841, \"Male\", 78.0, 1, 0, \"Yes\", \"Self-employed\", \"Rural\", 56.11, 25.5, \"formerly smoked\", 1], [33486, \"Female\", 80.0, 0, 0, \"Yes\", \"Govt_job\", \"Urban\", 110.66, null, \"Unknown\", 1], [65105, \"Male\", 81.0, 0, 0, \"Yes\", \"Private\", \"Urban\", 213.22, 26.1, \"Unknown\", 1], [54567, \"Female\", 46.0, 0, 0, \"Yes\", \"Private\", \"Urban\", 78.18, 30.8, \"never smoked\", 1], [66204, \"Male\", 59.0, 0, 0, \"Yes\", \"Private\", \"Urban\", 111.04, 32.0, \"formerly smoked\", 1], [39912, \"Female\", 32.0, 0, 0, \"Yes\", \"Private\", \"Rural\", 76.13, 29.9, \"smokes\", 1], [8003, \"Female\", 77.0, 0, 0, \"No\", \"Private\", \"Urban\", 81.32, null, \"Unknown\", 1], [41081, \"Male\", 63.0, 0, 0, \"Yes\", \"Private\", \"Rural\", 137.3, 31.7, \"formerly smoked\", 1], [30184, \"Male\", 82.0, 0, 0, \"Yes\", \"Private\", \"Rural\", 86.62, 29.5, \"formerly smoked\", 1], [24905, \"Female\", 65.0, 0, 0, \"Yes\", \"Private\", \"Urban\", 205.77, 46.0, \"formerly smoked\", 1], [66071, \"Male\", 51.0, 1, 0, \"Yes\", \"Private\", \"Urban\", 112.16, 42.5, \"formerly smoked\", 1], [36255, \"Male\", 59.0, 0, 0, \"Yes\", \"Self-employed\", \"Rural\", 118.03, 35.5, \"smokes\", 1], [23410, \"Female\", 72.0, 0, 0, \"Yes\", \"Private\", \"Rural\", 97.92, 26.9, \"smokes\", 1], [64373, \"Male\", 59.0, 0, 0, \"Yes\", \"Private\", \"Urban\", 200.62, 35.8, \"formerly smoked\", 1], [58267, \"Male\", 70.0, 1, 0, \"Yes\", \"Private\", \"Rural\", 242.52, 45.5, \"formerly smoked\", 1], [35684, \"Male\", 69.0, 0, 0, \"Yes\", \"Private\", \"Rural\", 93.81, 28.5, \"Unknown\", 1], [18937, \"Male\", 79.0, 0, 0, \"Yes\", \"Private\", \"Rural\", 114.77, null, \"formerly smoked\", 1], [491, \"Female\", 74.0, 0, 0, \"Yes\", \"Self-employed\", \"Urban\", 74.96, 26.6, \"never smoked\", 1], [54695, \"Male\", 74.0, 0, 0, \"Yes\", \"Private\", \"Urban\", 167.13, null, \"Unknown\", 1], [8580, \"Female\", 77.0, 0, 0, \"Yes\", \"Self-employed\", \"Rural\", 90.0, 32.0, \"never smoked\", 1], [28484, \"Female\", 78.0, 0, 0, \"Yes\", \"Self-employed\", \"Rural\", 109.47, 30.8, \"never smoked\", 1], [62019, \"Male\", 54.0, 0, 0, \"Yes\", \"Govt_job\", \"Rural\", 87.85, 31.1, \"smokes\", 1], [51314, \"Female\", 78.0, 0, 0, \"Yes\", \"Private\", \"Urban\", 106.74, 33.0, \"formerly smoked\", 1], [37060, \"Female\", 81.0, 0, 0, \"Yes\", \"Private\", \"Rural\", 80.13, 23.4, \"never smoked\", 1], [35578, \"Male\", 78.0, 0, 0, \"No\", \"Self-employed\", \"Urban\", 90.19, 26.9, \"never smoked\", 1], [54921, \"Male\", 78.0, 1, 0, \"Yes\", \"Self-employed\", \"Rural\", 134.8, 33.6, \"Unknown\", 1], [33454, \"Female\", 63.0, 0, 0, \"Yes\", \"Govt_job\", \"Rural\", 106.58, 23.9, \"Unknown\", 1], [33943, \"Female\", 39.0, 0, 0, \"Yes\", \"Private\", \"Urban\", 83.24, 26.3, \"never smoked\", 1], [62439, \"Female\", 51.0, 0, 0, \"Yes\", \"Govt_job\", \"Rural\", 103.43, 27.3, \"formerly smoked\", 1], [31179, \"Male\", 63.0, 0, 0, \"Yes\", \"Private\", \"Urban\", 208.65, 30.7, \"never smoked\", 1], [66866, \"Female\", 48.0, 0, 0, \"Yes\", \"Private\", \"Urban\", 74.11, 20.5, \"never smoked\", 1], [2548, \"Female\", 81.0, 0, 0, \"Yes\", \"Self-employed\", \"Urban\", 95.84, 21.5, \"never smoked\", 1], [2390, \"Male\", 78.0, 0, 0, \"Yes\", \"Self-employed\", \"Urban\", 116.1, 27.1, \"never smoked\", 1], [68023, \"Male\", 79.0, 0, 0, \"Yes\", \"Private\", \"Rural\", 72.73, 28.4, \"never smoked\", 1], [12689, \"Female\", 63.0, 0, 0, \"Yes\", \"Govt_job\", \"Rural\", 205.35, 42.2, \"formerly smoked\", 1], [54724, \"Female\", 81.0, 0, 0, \"No\", \"Govt_job\", \"Urban\", 70.3, 25.8, \"smokes\", 1], [8899, \"Male\", 49.0, 0, 0, \"No\", \"Private\", \"Rural\", 104.86, 31.9, \"smokes\", 1], [32729, \"Female\", 81.0, 0, 0, \"Yes\", \"Private\", \"Rural\", 184.4, 27.5, \"never smoked\", 1], [39105, \"Male\", 74.0, 0, 0, \"Yes\", \"Self-employed\", \"Rural\", 60.98, null, \"never smoked\", 1], [31154, \"Female\", 39.0, 0, 0, \"Yes\", \"Self-employed\", \"Urban\", 97.76, 29.6, \"smokes\", 1], [69959, \"Female\", 80.0, 1, 0, \"No\", \"Private\", \"Urban\", 66.03, 35.4, \"never smoked\", 1], [10552, \"Female\", 81.0, 0, 0, \"Yes\", \"Self-employed\", \"Rural\", 81.95, 16.9, \"never smoked\", 1], [12917, \"Female\", 79.0, 0, 0, \"Yes\", \"Private\", \"Urban\", 97.73, 21.5, \"smokes\", 1], [68356, \"Female\", 73.0, 0, 0, \"Yes\", \"Self-employed\", \"Urban\", 70.94, 34.4, \"never smoked\", 1], [23368, \"Female\", 77.0, 1, 0, \"Yes\", \"Self-employed\", \"Urban\", 199.84, 28.0, \"formerly smoked\", 1], [25974, \"Male\", 78.0, 0, 0, \"Yes\", \"Self-employed\", \"Urban\", 218.46, 26.8, \"Unknown\", 1], [1210, \"Female\", 68.0, 0, 0, \"Yes\", \"Private\", \"Rural\", 211.06, 39.3, \"Unknown\", 1], [28493, \"Male\", 57.0, 0, 0, \"Yes\", \"Private\", \"Urban\", 86.3, 31.7, \"Unknown\", 1], [36857, \"Male\", 77.0, 0, 0, \"Yes\", \"Self-employed\", \"Rural\", 162.14, 32.6, \"formerly smoked\", 1], [1836, \"Female\", 51.0, 1, 0, \"Yes\", \"Private\", \"Urban\", 88.2, 28.4, \"never smoked\", 1], [10548, \"Male\", 66.0, 0, 0, \"Yes\", \"Private\", \"Rural\", 76.46, 21.2, \"formerly smoked\", 1], [52282, \"Male\", 57.0, 0, 0, \"Yes\", \"Private\", \"Rural\", 197.28, 34.5, \"formerly smoked\", 1], [45535, \"Male\", 68.0, 0, 0, \"Yes\", \"Private\", \"Rural\", 233.94, 42.4, \"never smoked\", 1], [17739, \"Male\", 57.0, 0, 0, \"Yes\", \"Private\", \"Rural\", 84.96, 36.7, \"Unknown\", 1], [49669, \"Female\", 14.0, 0, 0, \"No\", \"children\", \"Rural\", 57.93, 30.9, \"Unknown\", 1], [27153, \"Female\", 75.0, 0, 0, \"Yes\", \"Self-employed\", \"Rural\", 78.8, 29.3, \"formerly smoked\", 1], [34060, \"Male\", 71.0, 1, 0, \"Yes\", \"Self-employed\", \"Rural\", 87.8, null, \"Unknown\", 1], [43424, \"Female\", 78.0, 0, 0, \"Yes\", \"Private\", \"Rural\", 78.81, 19.6, \"Unknown\", 1]], \"hoverlabel\": {\"namelength\": 0}, \"hovertemplate\": \"heart_disease=%{customdata[4]}<br>Glucose=%{customdata[8]}<br>id=%{customdata[0]}<br>gender=%{customdata[1]}<br>age=%{customdata[2]}<br>hypertension=%{customdata[3]}<br>ever_married=%{customdata[5]}<br>work_type=%{customdata[6]}<br>Residence_type=%{customdata[7]}<br>bmi=%{customdata[9]}<br>smoking_status=%{customdata[10]}<br>stroke=%{customdata[11]}\", \"legendgroup\": \"heart_disease=0\", \"marker\": {\"color\": \"#EF553B\"}, \"name\": \"heart_disease=0\", \"offsetgroup\": \"heart_disease=0\", \"orientation\": \"v\", \"points\": \"all\", \"scalegroup\": \"True\", \"showlegend\": true, \"type\": \"violin\", \"x\": [0, 0, 0, 0, 0, 0, 0, 0, 0, 0, 0, 0, 0, 0, 0, 0, 0, 0, 0, 0, 0, 0, 0, 0, 0, 0, 0, 0, 0, 0, 0, 0, 0, 0, 0, 0, 0, 0, 0, 0, 0, 0, 0, 0, 0, 0, 0, 0, 0, 0, 0, 0, 0, 0, 0, 0, 0, 0, 0, 0, 0, 0, 0, 0, 0, 0, 0, 0, 0, 0, 0, 0, 0, 0, 0, 0, 0, 0, 0, 0, 0, 0, 0, 0, 0, 0, 0, 0, 0, 0, 0, 0, 0, 0, 0, 0, 0, 0, 0, 0, 0, 0, 0, 0, 0, 0, 0, 0, 0, 0, 0, 0, 0, 0, 0, 0, 0, 0, 0, 0, 0, 0, 0, 0, 0, 0, 0, 0, 0, 0, 0, 0, 0, 0, 0, 0, 0, 0, 0, 0, 0, 0, 0, 0, 0, 0, 0, 0, 0, 0, 0, 0, 0, 0, 0, 0, 0, 0, 0, 0, 0, 0, 0, 0, 0, 0, 0, 0, 0, 0, 0, 0, 0, 0, 0, 0, 0, 0, 0, 0, 0, 0, 0, 0, 0, 0, 0, 0, 0, 0, 0, 0, 0, 0, 0, 0, 0, 0, 0, 0, 0, 0], \"x0\": \" \", \"xaxis\": \"x\", \"y\": [202.21, 171.23, 174.12, 186.21, 94.39, 76.15, 58.57, 80.43, 104.51, 167.41, 221.29, 89.22, 193.94, 233.29, 228.7, 102.87, 104.12, 100.98, 189.84, 211.78, 212.08, 83.41, 196.92, 84.2, 219.72, 74.63, 92.62, 60.91, 78.03, 71.22, 90.9, 213.03, 243.58, 107.26, 99.33, 58.09, 89.96, 75.32, 124.13, 197.54, 59.32, 237.75, 194.99, 180.93, 185.17, 74.9, 61.94, 93.72, 104.72, 113.01, 221.58, 104.47, 86.23, 72.67, 62.57, 179.12, 116.55, 228.56, 96.59, 240.09, 110.85, 165.31, 143.43, 96.16, 101.45, 88.92, 79.79, 71.2, 96.97, 86.94, 98.55, 72.81, 68.02, 68.56, 64.14, 235.63, 76.34, 78.92, 82.81, 190.32, 231.61, 110.52, 82.3, 73.18, 191.82, 93.05, 64.17, 106.41, 224.1, 82.1, 76.11, 72.96, 82.28, 105.22, 59.86, 62.55, 259.63, 249.31, 219.91, 131.41, 93.13, 73.54, 200.59, 62.48, 190.14, 130.54, 182.99, 101.45, 206.09, 263.32, 140.1, 207.28, 194.37, 199.2, 116.44, 70.28, 221.79, 151.16, 68.43, 67.29, 67.41, 169.67, 76.57, 77.82, 92.98, 102.16, 221.89, 195.71, 74.02, 57.92, 70.37, 203.87, 89.13, 133.19, 162.23, 75.02, 98.02, 91.54, 111.98, 97.43, 91.02, 60.67, 185.49, 64.44, 56.11, 110.66, 213.22, 78.18, 111.04, 76.13, 81.32, 137.3, 86.62, 205.77, 112.16, 118.03, 97.92, 200.62, 242.52, 93.81, 114.77, 74.96, 167.13, 90.0, 109.47, 87.85, 106.74, 80.13, 90.19, 134.8, 106.58, 83.24, 103.43, 208.65, 74.11, 95.84, 116.1, 72.73, 205.35, 70.3, 104.86, 184.4, 60.98, 97.76, 66.03, 81.95, 97.73, 70.94, 199.84, 218.46, 211.06, 86.3, 162.14, 88.2, 76.46, 197.28, 233.94, 84.96, 57.93, 78.8, 87.8, 78.81], \"y0\": \" \", \"yaxis\": \"y\"}],\n",
              "                        {\"font\": {\"family\": \"Graphik\"}, \"legend\": {\"tracegroupgap\": 0}, \"template\": {\"data\": {\"bar\": [{\"error_x\": {\"color\": \"#2a3f5f\"}, \"error_y\": {\"color\": \"#2a3f5f\"}, \"marker\": {\"line\": {\"color\": \"#E5ECF6\", \"width\": 0.5}}, \"type\": \"bar\"}], \"barpolar\": [{\"marker\": {\"line\": {\"color\": \"#E5ECF6\", \"width\": 0.5}}, \"type\": \"barpolar\"}], \"carpet\": [{\"aaxis\": {\"endlinecolor\": \"#2a3f5f\", \"gridcolor\": \"white\", \"linecolor\": \"white\", \"minorgridcolor\": \"white\", \"startlinecolor\": \"#2a3f5f\"}, \"baxis\": {\"endlinecolor\": \"#2a3f5f\", \"gridcolor\": \"white\", \"linecolor\": \"white\", \"minorgridcolor\": \"white\", \"startlinecolor\": \"#2a3f5f\"}, \"type\": \"carpet\"}], \"choropleth\": [{\"colorbar\": {\"outlinewidth\": 0, \"ticks\": \"\"}, \"type\": \"choropleth\"}], \"contour\": [{\"colorbar\": {\"outlinewidth\": 0, \"ticks\": \"\"}, \"colorscale\": [[0.0, \"#0d0887\"], [0.1111111111111111, \"#46039f\"], [0.2222222222222222, \"#7201a8\"], [0.3333333333333333, \"#9c179e\"], [0.4444444444444444, \"#bd3786\"], [0.5555555555555556, \"#d8576b\"], [0.6666666666666666, \"#ed7953\"], [0.7777777777777778, \"#fb9f3a\"], [0.8888888888888888, \"#fdca26\"], [1.0, \"#f0f921\"]], \"type\": \"contour\"}], \"contourcarpet\": [{\"colorbar\": {\"outlinewidth\": 0, \"ticks\": \"\"}, \"type\": \"contourcarpet\"}], \"heatmap\": [{\"colorbar\": {\"outlinewidth\": 0, \"ticks\": \"\"}, \"colorscale\": [[0.0, \"#0d0887\"], [0.1111111111111111, \"#46039f\"], [0.2222222222222222, \"#7201a8\"], [0.3333333333333333, \"#9c179e\"], [0.4444444444444444, \"#bd3786\"], [0.5555555555555556, \"#d8576b\"], [0.6666666666666666, \"#ed7953\"], [0.7777777777777778, \"#fb9f3a\"], [0.8888888888888888, \"#fdca26\"], [1.0, \"#f0f921\"]], \"type\": \"heatmap\"}], \"heatmapgl\": [{\"colorbar\": {\"outlinewidth\": 0, \"ticks\": \"\"}, \"colorscale\": [[0.0, \"#0d0887\"], [0.1111111111111111, \"#46039f\"], [0.2222222222222222, \"#7201a8\"], [0.3333333333333333, \"#9c179e\"], [0.4444444444444444, \"#bd3786\"], [0.5555555555555556, \"#d8576b\"], [0.6666666666666666, \"#ed7953\"], [0.7777777777777778, \"#fb9f3a\"], [0.8888888888888888, \"#fdca26\"], [1.0, \"#f0f921\"]], \"type\": \"heatmapgl\"}], \"histogram\": [{\"marker\": {\"colorbar\": {\"outlinewidth\": 0, \"ticks\": \"\"}}, \"type\": \"histogram\"}], \"histogram2d\": [{\"colorbar\": {\"outlinewidth\": 0, \"ticks\": \"\"}, \"colorscale\": [[0.0, \"#0d0887\"], [0.1111111111111111, \"#46039f\"], [0.2222222222222222, \"#7201a8\"], [0.3333333333333333, \"#9c179e\"], [0.4444444444444444, \"#bd3786\"], [0.5555555555555556, \"#d8576b\"], [0.6666666666666666, \"#ed7953\"], [0.7777777777777778, \"#fb9f3a\"], [0.8888888888888888, \"#fdca26\"], [1.0, \"#f0f921\"]], \"type\": \"histogram2d\"}], \"histogram2dcontour\": [{\"colorbar\": {\"outlinewidth\": 0, \"ticks\": \"\"}, \"colorscale\": [[0.0, \"#0d0887\"], [0.1111111111111111, \"#46039f\"], [0.2222222222222222, \"#7201a8\"], [0.3333333333333333, \"#9c179e\"], [0.4444444444444444, \"#bd3786\"], [0.5555555555555556, \"#d8576b\"], [0.6666666666666666, \"#ed7953\"], [0.7777777777777778, \"#fb9f3a\"], [0.8888888888888888, \"#fdca26\"], [1.0, \"#f0f921\"]], \"type\": \"histogram2dcontour\"}], \"mesh3d\": [{\"colorbar\": {\"outlinewidth\": 0, \"ticks\": \"\"}, \"type\": \"mesh3d\"}], \"parcoords\": [{\"line\": {\"colorbar\": {\"outlinewidth\": 0, \"ticks\": \"\"}}, \"type\": \"parcoords\"}], \"pie\": [{\"automargin\": true, \"type\": \"pie\"}], \"scatter\": [{\"marker\": {\"colorbar\": {\"outlinewidth\": 0, \"ticks\": \"\"}}, \"type\": \"scatter\"}], \"scatter3d\": [{\"line\": {\"colorbar\": {\"outlinewidth\": 0, \"ticks\": \"\"}}, \"marker\": {\"colorbar\": {\"outlinewidth\": 0, \"ticks\": \"\"}}, \"type\": \"scatter3d\"}], \"scattercarpet\": [{\"marker\": {\"colorbar\": {\"outlinewidth\": 0, \"ticks\": \"\"}}, \"type\": \"scattercarpet\"}], \"scattergeo\": [{\"marker\": {\"colorbar\": {\"outlinewidth\": 0, \"ticks\": \"\"}}, \"type\": \"scattergeo\"}], \"scattergl\": [{\"marker\": {\"colorbar\": {\"outlinewidth\": 0, \"ticks\": \"\"}}, \"type\": \"scattergl\"}], \"scattermapbox\": [{\"marker\": {\"colorbar\": {\"outlinewidth\": 0, \"ticks\": \"\"}}, \"type\": \"scattermapbox\"}], \"scatterpolar\": [{\"marker\": {\"colorbar\": {\"outlinewidth\": 0, \"ticks\": \"\"}}, \"type\": \"scatterpolar\"}], \"scatterpolargl\": [{\"marker\": {\"colorbar\": {\"outlinewidth\": 0, \"ticks\": \"\"}}, \"type\": \"scatterpolargl\"}], \"scatterternary\": [{\"marker\": {\"colorbar\": {\"outlinewidth\": 0, \"ticks\": \"\"}}, \"type\": \"scatterternary\"}], \"surface\": [{\"colorbar\": {\"outlinewidth\": 0, \"ticks\": \"\"}, \"colorscale\": [[0.0, \"#0d0887\"], [0.1111111111111111, \"#46039f\"], [0.2222222222222222, \"#7201a8\"], [0.3333333333333333, \"#9c179e\"], [0.4444444444444444, \"#bd3786\"], [0.5555555555555556, \"#d8576b\"], [0.6666666666666666, \"#ed7953\"], [0.7777777777777778, \"#fb9f3a\"], [0.8888888888888888, \"#fdca26\"], [1.0, \"#f0f921\"]], \"type\": \"surface\"}], \"table\": [{\"cells\": {\"fill\": {\"color\": \"#EBF0F8\"}, \"line\": {\"color\": \"white\"}}, \"header\": {\"fill\": {\"color\": \"#C8D4E3\"}, \"line\": {\"color\": \"white\"}}, \"type\": \"table\"}]}, \"layout\": {\"annotationdefaults\": {\"arrowcolor\": \"#2a3f5f\", \"arrowhead\": 0, \"arrowwidth\": 1}, \"coloraxis\": {\"colorbar\": {\"outlinewidth\": 0, \"ticks\": \"\"}}, \"colorscale\": {\"diverging\": [[0, \"#8e0152\"], [0.1, \"#c51b7d\"], [0.2, \"#de77ae\"], [0.3, \"#f1b6da\"], [0.4, \"#fde0ef\"], [0.5, \"#f7f7f7\"], [0.6, \"#e6f5d0\"], [0.7, \"#b8e186\"], [0.8, \"#7fbc41\"], [0.9, \"#4d9221\"], [1, \"#276419\"]], \"sequential\": [[0.0, \"#0d0887\"], [0.1111111111111111, \"#46039f\"], [0.2222222222222222, \"#7201a8\"], [0.3333333333333333, \"#9c179e\"], [0.4444444444444444, \"#bd3786\"], [0.5555555555555556, \"#d8576b\"], [0.6666666666666666, \"#ed7953\"], [0.7777777777777778, \"#fb9f3a\"], [0.8888888888888888, \"#fdca26\"], [1.0, \"#f0f921\"]], \"sequentialminus\": [[0.0, \"#0d0887\"], [0.1111111111111111, \"#46039f\"], [0.2222222222222222, \"#7201a8\"], [0.3333333333333333, \"#9c179e\"], [0.4444444444444444, \"#bd3786\"], [0.5555555555555556, \"#d8576b\"], [0.6666666666666666, \"#ed7953\"], [0.7777777777777778, \"#fb9f3a\"], [0.8888888888888888, \"#fdca26\"], [1.0, \"#f0f921\"]]}, \"colorway\": [\"#636efa\", \"#EF553B\", \"#00cc96\", \"#ab63fa\", \"#FFA15A\", \"#19d3f3\", \"#FF6692\", \"#B6E880\", \"#FF97FF\", \"#FECB52\"], \"font\": {\"color\": \"#2a3f5f\"}, \"geo\": {\"bgcolor\": \"white\", \"lakecolor\": \"white\", \"landcolor\": \"#E5ECF6\", \"showlakes\": true, \"showland\": true, \"subunitcolor\": \"white\"}, \"hoverlabel\": {\"align\": \"left\"}, \"hovermode\": \"closest\", \"mapbox\": {\"style\": \"light\"}, \"paper_bgcolor\": \"white\", \"plot_bgcolor\": \"#E5ECF6\", \"polar\": {\"angularaxis\": {\"gridcolor\": \"white\", \"linecolor\": \"white\", \"ticks\": \"\"}, \"bgcolor\": \"#E5ECF6\", \"radialaxis\": {\"gridcolor\": \"white\", \"linecolor\": \"white\", \"ticks\": \"\"}}, \"scene\": {\"xaxis\": {\"backgroundcolor\": \"#E5ECF6\", \"gridcolor\": \"white\", \"gridwidth\": 2, \"linecolor\": \"white\", \"showbackground\": true, \"ticks\": \"\", \"zerolinecolor\": \"white\"}, \"yaxis\": {\"backgroundcolor\": \"#E5ECF6\", \"gridcolor\": \"white\", \"gridwidth\": 2, \"linecolor\": \"white\", \"showbackground\": true, \"ticks\": \"\", \"zerolinecolor\": \"white\"}, \"zaxis\": {\"backgroundcolor\": \"#E5ECF6\", \"gridcolor\": \"white\", \"gridwidth\": 2, \"linecolor\": \"white\", \"showbackground\": true, \"ticks\": \"\", \"zerolinecolor\": \"white\"}}, \"shapedefaults\": {\"line\": {\"color\": \"#2a3f5f\"}}, \"ternary\": {\"aaxis\": {\"gridcolor\": \"white\", \"linecolor\": \"white\", \"ticks\": \"\"}, \"baxis\": {\"gridcolor\": \"white\", \"linecolor\": \"white\", \"ticks\": \"\"}, \"bgcolor\": \"#E5ECF6\", \"caxis\": {\"gridcolor\": \"white\", \"linecolor\": \"white\", \"ticks\": \"\"}}, \"title\": {\"x\": 0.05}, \"xaxis\": {\"automargin\": true, \"gridcolor\": \"white\", \"linecolor\": \"white\", \"ticks\": \"\", \"title\": {\"standoff\": 15}, \"zerolinecolor\": \"white\", \"zerolinewidth\": 2}, \"yaxis\": {\"automargin\": true, \"gridcolor\": \"white\", \"linecolor\": \"white\", \"ticks\": \"\", \"title\": {\"standoff\": 15}, \"zerolinecolor\": \"white\", \"zerolinewidth\": 2}}}, \"title\": {\"text\": \"<b>Heart Disease & Average Glucose Level</b>\"}, \"violinmode\": \"group\", \"xaxis\": {\"anchor\": \"y\", \"categoryarray\": [1, 0], \"categoryorder\": \"array\", \"domain\": [0.0, 1.0], \"showgrid\": false, \"title\": {\"font\": {\"family\": \"Graphik\"}, \"text\": \"Heart Disease\"}}, \"yaxis\": {\"anchor\": \"x\", \"domain\": [0.0, 1.0], \"showgrid\": false, \"title\": {\"font\": {\"family\": \"Graphik\"}, \"text\": \"Glucose\"}}},\n",
              "                        {\"responsive\": true}\n",
              "                    ).then(function(){\n",
              "                            \n",
              "var gd = document.getElementById('079a9bd5-709a-47ca-b0b2-4a95f57c039f');\n",
              "var x = new MutationObserver(function (mutations, observer) {{\n",
              "        var display = window.getComputedStyle(gd).display;\n",
              "        if (!display || display === 'none') {{\n",
              "            console.log([gd, 'removed!']);\n",
              "            Plotly.purge(gd);\n",
              "            observer.disconnect();\n",
              "        }}\n",
              "}});\n",
              "\n",
              "// Listen for the removal of the full notebook cells\n",
              "var notebookContainer = gd.closest('#notebook-container');\n",
              "if (notebookContainer) {{\n",
              "    x.observe(notebookContainer, {childList: true});\n",
              "}}\n",
              "\n",
              "// Listen for the clearing of the current output cell\n",
              "var outputEl = gd.closest('.output');\n",
              "if (outputEl) {{\n",
              "    x.observe(outputEl, {childList: true});\n",
              "}}\n",
              "\n",
              "                        })\n",
              "                };\n",
              "                \n",
              "            </script>\n",
              "        </div>\n",
              "</body>\n",
              "</html>"
            ]
          },
          "metadata": {
            "tags": []
          }
        }
      ]
    },
    {
      "cell_type": "code",
      "metadata": {
        "colab": {
          "base_uri": "https://localhost:8080/",
          "height": 406
        },
        "id": "QhlzpDgsBElQ",
        "outputId": "b71bcca3-1f24-4a45-a709-b02611c4283d"
      },
      "source": [
        "# Violin Plots in Seaboard\n",
        "import seaborn as sns\n",
        "\n",
        "sns.set(font=\"Graphik\")\n",
        "\n",
        "plot = sns.violinplot(stroke[had_stroke]['heart_disease'] , y=stroke[had_stroke]['avg_glucose_level'], linewidth=2, width=0.3)\n",
        "plot.set_title('Glucose Levels & Heart Diseases')\n",
        "plot.set_ylabel(\"Average Glucose Levels\")\n",
        "plot.set_xlabel(\"Heart Disease\")\n"
      ],
      "execution_count": 72,
      "outputs": [
        {
          "output_type": "stream",
          "text": [
            "/usr/local/lib/python3.7/dist-packages/seaborn/_decorators.py:43: FutureWarning:\n",
            "\n",
            "Pass the following variable as a keyword arg: x. From version 0.12, the only valid positional argument will be `data`, and passing other arguments without an explicit keyword will result in an error or misinterpretation.\n",
            "\n"
          ],
          "name": "stderr"
        },
        {
          "output_type": "execute_result",
          "data": {
            "text/plain": [
              "Text(0.5, 0, 'Heart Disease')"
            ]
          },
          "metadata": {
            "tags": []
          },
          "execution_count": 72
        },
        {
          "output_type": "display_data",
          "data": {
            "image/png": "[encoded data removed]",
            "text/plain": [
              "<Figure size 432x288 with 1 Axes>"
            ]
          },
          "metadata": {
            "tags": []
          }
        }
      ]
    },
    {
      "cell_type": "code",
      "metadata": {
        "id": "jujZutSutSIL"
      },
      "source": [
        ""
      ],
      "execution_count": null,
      "outputs": []
    }
  ]
}