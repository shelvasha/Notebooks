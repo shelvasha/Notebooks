{
  "nbformat": 4,
  "nbformat_minor": 0,
  "metadata": {
    "colab": {
      "name": "01_Neural_Network_Regression.ipynb",
      "provenance": [],
      "collapsed_sections": [
        "uhMwcCMWbFdD",
        "qF0ZEAa4ZMhL",
        "aNBdKJePR5OK"
      ],
      "authorship_tag": "ABX9TyOPzS4EDyi0UupvqjUI4wrv",
      "include_colab_link": true
    },
    "kernelspec": {
      "name": "python3",
      "display_name": "Python 3"
    },
    "language_info": {
      "name": "python"
    }
  },
  "cells": [
    {
      "cell_type": "markdown",
      "metadata": {
        "id": "view-in-github",
        "colab_type": "text"
      },
      "source": [
        "<a href=\"https://colab.research.google.com/github/shelvasha/Notebooks/blob/main/01_Neural_Network_Regression.ipynb\" target=\"_parent\"><img src=\"https://colab.research.google.com/assets/colab-badge.svg\" alt=\"Open In Colab\"/></a>"
      ]
    },
    {
      "cell_type": "markdown",
      "metadata": {
        "id": "uhMwcCMWbFdD"
      },
      "source": [
        "### What's regression?\n",
        "* In stats modeling, regressions (analysis) is estimating the relationships between a dependent variable (often called the 'outcome variable') and one or more independent variables (often called 'predictors', 'covariates', or 'features')\n",
        "  * How much or how many\" of something.\n",
        "  * Predicting something from prior data (think slope.\n",
        "\n",
        "#### What's going to be covered in this notebook:\n",
        "\n",
        "* Architecture of a neural network regression model.\n",
        "* Input and output shapes of a regression model (features and labels).\n",
        "* Creating sutom data to view and fit.\n",
        "* Steps in modelling:\n",
        "    1. Create a model\n",
        "    2. Compile a model\n",
        "    3. Fit a model\n",
        "    4. Evaluate a model\n",
        "* Different evaluation methods\n",
        "* Saving and loading models\n",
        "\n",
        "\n",
        "\n",
        "\n"
      ]
    },
    {
      "cell_type": "markdown",
      "metadata": {
        "id": "qF0ZEAa4ZMhL"
      },
      "source": [
        "### Architecture of regression inputs, outputs and shapes\n",
        "\n",
        "* Having understanding or intuition of the data, its input and shape and the effect that this has on the output and its shape, is probably the most important part of machine learning.\n",
        "*   A large portion of time focuses on the inputs, specifically the encoding of inputs.\n",
        "\n",
        "#### Anatomy of a Neural network in Tensorflow\n",
        "* Anatomically, neural networks consists of:\n",
        "1. Input layer\n",
        "2. Hidden layer\n",
        "3. Output layer\n",
        "4. Output layer shape\n",
        "\n",
        "And bonus parameters (more on those)\n",
        "4. Neurons per hidden layer\n",
        "5. Hidden activation\n",
        "6. Output activation\n",
        "7. Loss function\n",
        "8. Optimizer\n",
        "\n"
      ]
    },
    {
      "cell_type": "markdown",
      "metadata": {
        "id": "0Epka3XRoLrK"
      },
      "source": [
        "## Introduction to Regression with Neural Networks in TensorFlow\n",
        "\n",
        "There are many definititons for a regression problem, but in our case we are going to simplify it: predicting a numerical value based on some other combination of variables, even shorter... predicting a number"
      ]
    },
    {
      "cell_type": "code",
      "metadata": {
        "colab": {
          "base_uri": "https://localhost:8080/"
        },
        "id": "HxmOZ2_Wnowc",
        "outputId": "c29918e0-1a74-43a2-d09f-6d0fd0870f77"
      },
      "source": [
        "# Import Tensorflow\n",
        "import tensorflow as tf\n",
        "print(tf.__version__)"
      ],
      "execution_count": 1,
      "outputs": [
        {
          "output_type": "stream",
          "text": [
            "2.4.1\n"
          ],
          "name": "stdout"
        }
      ]
    },
    {
      "cell_type": "markdown",
      "metadata": {
        "id": "q7mzkJUPoq-0"
      },
      "source": [
        "### Creating data to view and fit"
      ]
    },
    {
      "cell_type": "code",
      "metadata": {
        "colab": {
          "base_uri": "https://localhost:8080/",
          "height": 286
        },
        "id": "7cwwM_2Yo3K4",
        "outputId": "8a0653bb-3acd-4990-a7b5-51e5ef50b4bc"
      },
      "source": [
        "import numpy as np\n",
        "import matplotlib.pyplot as plt\n",
        "\n",
        "# Create features\n",
        "X = np.array([-7.,-4.,-1.,2.,5.,8.,11.,14.])\n",
        "\n",
        "# Create labels\n",
        "y = np.array([3.,6.,9.,12.,15.,18.,21.,24.])\n",
        "\n",
        "# Visualize\n",
        "plt.scatter(X,y)\n"
      ],
      "execution_count": 4,
      "outputs": [
        {
          "output_type": "execute_result",
          "data": {
            "text/plain": [
              "<matplotlib.collections.PathCollection at 0x7fda64ee3650>"
            ]
          },
          "metadata": {
            "tags": []
          },
          "execution_count": 4
        },
        {
          "output_type": "display_data",
          "data": {
            "image/png": "[encoded data removed]",
            "text/plain": [
              "<Figure size 432x288 with 1 Axes>"
            ]
          },
          "metadata": {
            "tags": [],
            "needs_background": "light"
          }
        }
      ]
    },
    {
      "cell_type": "code",
      "metadata": {
        "colab": {
          "base_uri": "https://localhost:8080/"
        },
        "id": "DzfrwZD4pds6",
        "outputId": "ddde4def-791f-4bf8-c3d0-3d365b741dbc"
      },
      "source": [
        "# Turn our NumPy arrays into tensors\n",
        "\n",
        "X = tf.constant(X)\n",
        "y = tf.constant(y)\n",
        "\n",
        "X.shape,y.shape"
      ],
      "execution_count": 6,
      "outputs": [
        {
          "output_type": "execute_result",
          "data": {
            "text/plain": [
              "(TensorShape([8]), TensorShape([8]))"
            ]
          },
          "metadata": {
            "tags": []
          },
          "execution_count": 6
        }
      ]
    },
    {
      "cell_type": "markdown",
      "metadata": {
        "id": "Nib1Jbe3zRQ6"
      },
      "source": [
        "# Steps in modeling with TensorFlow\n",
        "1. **Creating a model** - define the input and output layers.\n",
        "2. **Compiling a model** - define the loss function\n",
        "3. Fitting a model - letting the model try to find patterns between X & y (features and labels) \n",
        "\n"
      ]
    },
    {
      "cell_type": "code",
      "metadata": {
        "colab": {
          "base_uri": "https://localhost:8080/"
        },
        "id": "XrXPOa5wz9AY",
        "outputId": "037bf74b-41c0-4627-9a9e-96f731347fa7"
      },
      "source": [
        "# Set random seed\n",
        "tf.random.set_seed(42)\n",
        "\n",
        "# Create a model using the Sequential API\n",
        "# A Sequential model is appropriate for a plain stack of\n",
        "# layers where each layer has exactly one input tensor and one output tensor.\n",
        "\n",
        "model = tf.keras.Sequential([\n",
        "  tf.keras.layers.Dense(1)\n",
        "])\n",
        "\n",
        "# Compile model\n",
        "model.compile(loss=tf.keras.losses.mae, # mae is short for mean absolute error. \n",
        "              optimizer=tf.keras.optimizers.SGD(), #short for stochastic gradient descent\n",
        "              metrics=[\"mae\"])\n",
        "\n",
        "# Fit the model\n",
        "model.fit(X,y, epochs=5)"
      ],
      "execution_count": 108,
      "outputs": [
        {
          "output_type": "stream",
          "text": [
            "Epoch 1/5\n",
            "2/2 [==============================] - 0s 6ms/step - loss: 20.6214 - mae: 20.6214\n",
            "Epoch 2/5\n",
            "2/2 [==============================] - 0s 4ms/step - loss: 10.5004 - mae: 10.5004\n",
            "Epoch 3/5\n",
            "2/2 [==============================] - 0s 2ms/step - loss: 14.5408 - mae: 14.5408\n",
            "Epoch 4/5\n",
            "2/2 [==============================] - 0s 3ms/step - loss: 10.1988 - mae: 10.1988\n",
            "Epoch 5/5\n",
            "2/2 [==============================] - 0s 2ms/step - loss: 14.8556 - mae: 14.8556\n"
          ],
          "name": "stdout"
        },
        {
          "output_type": "execute_result",
          "data": {
            "text/plain": [
              "<tensorflow.python.keras.callbacks.History at 0x7fda5d475550>"
            ]
          },
          "metadata": {
            "tags": []
          },
          "execution_count": 108
        }
      ]
    },
    {
      "cell_type": "code",
      "metadata": {
        "colab": {
          "base_uri": "https://localhost:8080/"
        },
        "id": "Kiov9LwaELkt",
        "outputId": "b8e29538-e4c7-4b05-ac6b-a8c5803dc5a3"
      },
      "source": [
        "# Check out X and y\n",
        "X, y"
      ],
      "execution_count": 109,
      "outputs": [
        {
          "output_type": "execute_result",
          "data": {
            "text/plain": [
              "(<tf.Tensor: shape=(50,), dtype=int32, numpy=\n",
              " array([-100,  -96,  -92,  -88,  -84,  -80,  -76,  -72,  -68,  -64,  -60,\n",
              "         -56,  -52,  -48,  -44,  -40,  -36,  -32,  -28,  -24,  -20,  -16,\n",
              "         -12,   -8,   -4,    0,    4,    8,   12,   16,   20,   24,   28,\n",
              "          32,   36,   40,   44,   48,   52,   56,   60,   64,   68,   72,\n",
              "          76,   80,   84,   88,   92,   96], dtype=int32)>,\n",
              " <tf.Tensor: shape=(50,), dtype=int32, numpy=\n",
              " array([-90, -86, -82, -78, -74, -70, -66, -62, -58, -54, -50, -46, -42,\n",
              "        -38, -34, -30, -26, -22, -18, -14, -10,  -6,  -2,   2,   6,  10,\n",
              "         14,  18,  22,  26,  30,  34,  38,  42,  46,  50,  54,  58,  62,\n",
              "         66,  70,  74,  78,  82,  86,  90,  94,  98, 102, 106], dtype=int32)>)"
            ]
          },
          "metadata": {
            "tags": []
          },
          "execution_count": 109
        }
      ]
    },
    {
      "cell_type": "code",
      "metadata": {
        "colab": {
          "base_uri": "https://localhost:8080/"
        },
        "id": "VpvNrXC8EOou",
        "outputId": "6aaf0963-8182-4f0d-ab7d-54e9bbfc19e7"
      },
      "source": [
        "# Try and make a prediction using the model\n",
        "y_pred = model.predict([17.0])\n",
        "y_pred"
      ],
      "execution_count": 110,
      "outputs": [
        {
          "output_type": "stream",
          "text": [
            "WARNING:tensorflow:6 out of the last 12 calls to <function Model.make_predict_function.<locals>.predict_function at 0x7fda56fbd830> triggered tf.function retracing. Tracing is expensive and the excessive number of tracings could be due to (1) creating @tf.function repeatedly in a loop, (2) passing tensors with different shapes, (3) passing Python objects instead of tensors. For (1), please define your @tf.function outside of the loop. For (2), @tf.function has experimental_relax_shapes=True option that relaxes argument shapes that can avoid unnecessary retracing. For (3), please refer to https://www.tensorflow.org/guide/function#controlling_retracing and https://www.tensorflow.org/api_docs/python/tf/function for  more details.\n"
          ],
          "name": "stdout"
        },
        {
          "output_type": "execute_result",
          "data": {
            "text/plain": [
              "array([[13.3044195]], dtype=float32)"
            ]
          },
          "metadata": {
            "tags": []
          },
          "execution_count": 110
        }
      ]
    },
    {
      "cell_type": "markdown",
      "metadata": {
        "id": "zPC3r74YFFUn"
      },
      "source": [
        "### Model Improvement\n",
        "\n",
        "- We have a model and we've fit data to it and made a prediction.... but it isn't great.\n",
        "- How do we improve the model?\n",
        "  - We can improve the model by tweaking the steps we took to create the model in the first place.\n",
        "  - In this case, that would be:\n",
        "    1. Increasing the number of hidden units (neurons) within each hidden layer.\n",
        "    2. Changing the optimization function or perhaps the learning rate.\n",
        "    3. Fit the model using more epochs, so give the model more data or chances to fit the model to the data better. "
      ]
    },
    {
      "cell_type": "code",
      "metadata": {
        "colab": {
          "base_uri": "https://localhost:8080/"
        },
        "id": "KxpU56f0E8TQ",
        "outputId": "1afdc708-6c14-4bdb-9d48-b302e386e343"
      },
      "source": [
        "# Let's rebuild the model\n",
        "\n",
        "# Set random seed\n",
        "tf.random.set_seed(42)\n",
        "\n",
        "# Create a model using the Sequential API\n",
        "# A Sequential model is appropriate for a plain stack of\n",
        "# layers where each layer has exactly one input tensor and one output tensor.\n",
        "\n",
        "model = tf.keras.Sequential([tf.keras.layers.Dense(1)])\n",
        "\n",
        "# Compile model\n",
        "model.compile(loss=\"mae\", optimizer=\"sgd\", metrics=[\"mae\"])\n",
        "\n",
        "# Fit the model (this time we'll train for longer)\n",
        "model.fit(X,y, epochs=100)\n"
      ],
      "execution_count": 111,
      "outputs": [
        {
          "output_type": "stream",
          "text": [
            "Epoch 1/100\n",
            "2/2 [==============================] - 0s 4ms/step - loss: 20.6214 - mae: 20.6214\n",
            "Epoch 2/100\n",
            "2/2 [==============================] - 0s 2ms/step - loss: 10.5004 - mae: 10.5004\n",
            "Epoch 3/100\n",
            "2/2 [==============================] - 0s 5ms/step - loss: 14.5408 - mae: 14.5408\n",
            "Epoch 4/100\n",
            "2/2 [==============================] - 0s 6ms/step - loss: 10.1988 - mae: 10.1988\n",
            "Epoch 5/100\n",
            "2/2 [==============================] - 0s 5ms/step - loss: 14.8556 - mae: 14.8556\n",
            "Epoch 6/100\n",
            "2/2 [==============================] - 0s 3ms/step - loss: 12.0283 - mae: 12.0283\n",
            "Epoch 7/100\n",
            "2/2 [==============================] - 0s 2ms/step - loss: 9.2358 - mae: 9.2358\n",
            "Epoch 8/100\n",
            "2/2 [==============================] - 0s 2ms/step - loss: 13.6569 - mae: 13.6569\n",
            "Epoch 9/100\n",
            "2/2 [==============================] - 0s 3ms/step - loss: 13.9578 - mae: 13.9578\n",
            "Epoch 10/100\n",
            "2/2 [==============================] - 0s 7ms/step - loss: 9.9240 - mae: 9.9240\n",
            "Epoch 11/100\n",
            "2/2 [==============================] - 0s 5ms/step - loss: 9.8897 - mae: 9.8897\n",
            "Epoch 12/100\n",
            "2/2 [==============================] - 0s 5ms/step - loss: 9.8389 - mae: 9.8389\n",
            "Epoch 13/100\n",
            "2/2 [==============================] - 0s 2ms/step - loss: 9.7677 - mae: 9.7677\n",
            "Epoch 14/100\n",
            "2/2 [==============================] - 0s 5ms/step - loss: 10.5921 - mae: 10.5921\n",
            "Epoch 15/100\n",
            "2/2 [==============================] - 0s 4ms/step - loss: 13.9629 - mae: 13.9629\n",
            "Epoch 16/100\n",
            "2/2 [==============================] - 0s 2ms/step - loss: 13.2113 - mae: 13.2113\n",
            "Epoch 17/100\n",
            "2/2 [==============================] - 0s 4ms/step - loss: 10.0768 - mae: 10.0768\n",
            "Epoch 18/100\n",
            "2/2 [==============================] - 0s 5ms/step - loss: 10.1545 - mae: 10.1545\n",
            "Epoch 19/100\n",
            "2/2 [==============================] - 0s 3ms/step - loss: 9.9780 - mae: 9.9780\n",
            "Epoch 20/100\n",
            "2/2 [==============================] - 0s 3ms/step - loss: 12.6596 - mae: 12.6596\n",
            "Epoch 21/100\n",
            "2/2 [==============================] - 0s 2ms/step - loss: 13.3684 - mae: 13.3684\n",
            "Epoch 22/100\n",
            "2/2 [==============================] - 0s 4ms/step - loss: 9.6291 - mae: 9.6291\n",
            "Epoch 23/100\n",
            "2/2 [==============================] - 0s 4ms/step - loss: 9.3805 - mae: 9.3805\n",
            "Epoch 24/100\n",
            "2/2 [==============================] - 0s 3ms/step - loss: 9.6433 - mae: 9.6433\n",
            "Epoch 25/100\n",
            "2/2 [==============================] - 0s 2ms/step - loss: 9.6271 - mae: 9.6271\n",
            "Epoch 26/100\n",
            "2/2 [==============================] - 0s 3ms/step - loss: 9.2780 - mae: 9.2780\n",
            "Epoch 27/100\n",
            "2/2 [==============================] - 0s 9ms/step - loss: 9.6878 - mae: 9.6878\n",
            "Epoch 28/100\n",
            "2/2 [==============================] - 0s 11ms/step - loss: 9.5894 - mae: 9.5894\n",
            "Epoch 29/100\n",
            "2/2 [==============================] - 0s 5ms/step - loss: 9.4806 - mae: 9.4806\n",
            "Epoch 30/100\n",
            "2/2 [==============================] - 0s 3ms/step - loss: 9.6878 - mae: 9.6878\n",
            "Epoch 31/100\n",
            "2/2 [==============================] - 0s 3ms/step - loss: 14.1984 - mae: 14.1984\n",
            "Epoch 32/100\n",
            "2/2 [==============================] - 0s 9ms/step - loss: 9.6523 - mae: 9.6523\n",
            "Epoch 33/100\n",
            "2/2 [==============================] - 0s 2ms/step - loss: 9.5368 - mae: 9.5368\n",
            "Epoch 34/100\n",
            "2/2 [==============================] - 0s 5ms/step - loss: 9.8250 - mae: 9.8250\n",
            "Epoch 35/100\n",
            "2/2 [==============================] - 0s 2ms/step - loss: 10.2169 - mae: 10.2169\n",
            "Epoch 36/100\n",
            "2/2 [==============================] - 0s 2ms/step - loss: 9.5332 - mae: 9.5332\n",
            "Epoch 37/100\n",
            "2/2 [==============================] - 0s 2ms/step - loss: 9.4343 - mae: 9.4343\n",
            "Epoch 38/100\n",
            "2/2 [==============================] - 0s 2ms/step - loss: 9.6817 - mae: 9.6817\n",
            "Epoch 39/100\n",
            "2/2 [==============================] - 0s 4ms/step - loss: 9.8572 - mae: 9.8572\n",
            "Epoch 40/100\n",
            "2/2 [==============================] - 0s 4ms/step - loss: 11.9118 - mae: 11.9118\n",
            "Epoch 41/100\n",
            "2/2 [==============================] - 0s 5ms/step - loss: 9.9303 - mae: 9.9303\n",
            "Epoch 42/100\n",
            "2/2 [==============================] - 0s 8ms/step - loss: 9.3724 - mae: 9.3724\n",
            "Epoch 43/100\n",
            "2/2 [==============================] - 0s 3ms/step - loss: 9.1179 - mae: 9.1179\n",
            "Epoch 44/100\n",
            "2/2 [==============================] - 0s 5ms/step - loss: 9.5566 - mae: 9.5566\n",
            "Epoch 45/100\n",
            "2/2 [==============================] - 0s 6ms/step - loss: 9.4622 - mae: 9.4622\n",
            "Epoch 46/100\n",
            "2/2 [==============================] - 0s 5ms/step - loss: 9.1347 - mae: 9.1347\n",
            "Epoch 47/100\n",
            "2/2 [==============================] - 0s 5ms/step - loss: 9.0546 - mae: 9.0546\n",
            "Epoch 48/100\n",
            "2/2 [==============================] - 0s 4ms/step - loss: 8.6906 - mae: 8.6906\n",
            "Epoch 49/100\n",
            "2/2 [==============================] - 0s 4ms/step - loss: 10.8250 - mae: 10.8250\n",
            "Epoch 50/100\n",
            "2/2 [==============================] - 0s 6ms/step - loss: 8.8602 - mae: 8.8602\n",
            "Epoch 51/100\n",
            "2/2 [==============================] - 0s 7ms/step - loss: 10.3575 - mae: 10.3575\n",
            "Epoch 52/100\n",
            "2/2 [==============================] - 0s 5ms/step - loss: 15.7236 - mae: 15.7236\n",
            "Epoch 53/100\n",
            "2/2 [==============================] - 0s 4ms/step - loss: 8.6233 - mae: 8.6233\n",
            "Epoch 54/100\n",
            "2/2 [==============================] - 0s 3ms/step - loss: 9.5043 - mae: 9.5043\n",
            "Epoch 55/100\n",
            "2/2 [==============================] - 0s 3ms/step - loss: 9.4514 - mae: 9.4514\n",
            "Epoch 56/100\n",
            "2/2 [==============================] - 0s 4ms/step - loss: 12.2619 - mae: 12.2619\n",
            "Epoch 57/100\n",
            "2/2 [==============================] - 0s 4ms/step - loss: 16.3216 - mae: 16.3216\n",
            "Epoch 58/100\n",
            "2/2 [==============================] - 0s 4ms/step - loss: 15.4799 - mae: 15.4799\n",
            "Epoch 59/100\n",
            "2/2 [==============================] - 0s 3ms/step - loss: 15.8017 - mae: 15.8017\n",
            "Epoch 60/100\n",
            "2/2 [==============================] - 0s 3ms/step - loss: 12.6969 - mae: 12.6969\n",
            "Epoch 61/100\n",
            "2/2 [==============================] - 0s 3ms/step - loss: 13.6114 - mae: 13.6114\n",
            "Epoch 62/100\n",
            "2/2 [==============================] - 0s 4ms/step - loss: 9.4435 - mae: 9.4435\n",
            "Epoch 63/100\n",
            "2/2 [==============================] - 0s 4ms/step - loss: 11.8731 - mae: 11.8731\n",
            "Epoch 64/100\n",
            "2/2 [==============================] - 0s 4ms/step - loss: 9.5873 - mae: 9.5873\n",
            "Epoch 65/100\n",
            "2/2 [==============================] - 0s 5ms/step - loss: 8.9927 - mae: 8.9927\n",
            "Epoch 66/100\n",
            "2/2 [==============================] - 0s 6ms/step - loss: 8.8681 - mae: 8.8681\n",
            "Epoch 67/100\n",
            "2/2 [==============================] - 0s 7ms/step - loss: 9.0978 - mae: 9.0978\n",
            "Epoch 68/100\n",
            "2/2 [==============================] - 0s 4ms/step - loss: 9.1582 - mae: 9.1582\n",
            "Epoch 69/100\n",
            "2/2 [==============================] - 0s 4ms/step - loss: 9.1691 - mae: 9.1691\n",
            "Epoch 70/100\n",
            "2/2 [==============================] - 0s 3ms/step - loss: 9.1993 - mae: 9.1993\n",
            "Epoch 71/100\n",
            "2/2 [==============================] - 0s 5ms/step - loss: 9.0263 - mae: 9.0263\n",
            "Epoch 72/100\n",
            "2/2 [==============================] - 0s 4ms/step - loss: 10.0357 - mae: 10.0357\n",
            "Epoch 73/100\n",
            "2/2 [==============================] - 0s 2ms/step - loss: 12.3106 - mae: 12.3106\n",
            "Epoch 74/100\n",
            "2/2 [==============================] - 0s 4ms/step - loss: 8.4836 - mae: 8.4836\n",
            "Epoch 75/100\n",
            "2/2 [==============================] - 0s 4ms/step - loss: 8.7841 - mae: 8.7841\n",
            "Epoch 76/100\n",
            "2/2 [==============================] - 0s 4ms/step - loss: 8.8676 - mae: 8.8676\n",
            "Epoch 77/100\n",
            "2/2 [==============================] - 0s 6ms/step - loss: 8.2194 - mae: 8.2194\n",
            "Epoch 78/100\n",
            "2/2 [==============================] - 0s 3ms/step - loss: 11.1691 - mae: 11.1691\n",
            "Epoch 79/100\n",
            "2/2 [==============================] - 0s 4ms/step - loss: 9.1225 - mae: 9.1225\n",
            "Epoch 80/100\n",
            "2/2 [==============================] - 0s 4ms/step - loss: 13.6439 - mae: 13.6439\n",
            "Epoch 81/100\n",
            "2/2 [==============================] - 0s 3ms/step - loss: 14.2508 - mae: 14.2508\n",
            "Epoch 82/100\n",
            "2/2 [==============================] - 0s 3ms/step - loss: 17.0181 - mae: 17.0181\n",
            "Epoch 83/100\n",
            "2/2 [==============================] - 0s 2ms/step - loss: 9.4761 - mae: 9.4761\n",
            "Epoch 84/100\n",
            "2/2 [==============================] - 0s 4ms/step - loss: 8.5988 - mae: 8.5988\n",
            "Epoch 85/100\n",
            "2/2 [==============================] - 0s 4ms/step - loss: 8.7685 - mae: 8.7685\n",
            "Epoch 86/100\n",
            "2/2 [==============================] - 0s 3ms/step - loss: 8.9465 - mae: 8.9465\n",
            "Epoch 87/100\n",
            "2/2 [==============================] - 0s 7ms/step - loss: 9.1053 - mae: 9.1053\n",
            "Epoch 88/100\n",
            "2/2 [==============================] - 0s 2ms/step - loss: 8.7563 - mae: 8.7563\n",
            "Epoch 89/100\n",
            "2/2 [==============================] - 0s 3ms/step - loss: 8.8539 - mae: 8.8539\n",
            "Epoch 90/100\n",
            "2/2 [==============================] - 0s 4ms/step - loss: 8.6972 - mae: 8.6972\n",
            "Epoch 91/100\n",
            "2/2 [==============================] - 0s 3ms/step - loss: 8.7054 - mae: 8.7054\n",
            "Epoch 92/100\n",
            "2/2 [==============================] - 0s 4ms/step - loss: 8.5940 - mae: 8.5940\n",
            "Epoch 93/100\n",
            "2/2 [==============================] - 0s 2ms/step - loss: 8.9756 - mae: 8.9756\n",
            "Epoch 94/100\n",
            "2/2 [==============================] - 0s 3ms/step - loss: 9.6713 - mae: 9.6713\n",
            "Epoch 95/100\n",
            "2/2 [==============================] - 0s 4ms/step - loss: 12.9296 - mae: 12.9296\n",
            "Epoch 96/100\n",
            "2/2 [==============================] - 0s 3ms/step - loss: 9.0265 - mae: 9.0265\n",
            "Epoch 97/100\n",
            "2/2 [==============================] - 0s 6ms/step - loss: 10.2358 - mae: 10.2358\n",
            "Epoch 98/100\n",
            "2/2 [==============================] - 0s 2ms/step - loss: 14.5951 - mae: 14.5951\n",
            "Epoch 99/100\n",
            "2/2 [==============================] - 0s 4ms/step - loss: 10.6355 - mae: 10.6355\n",
            "Epoch 100/100\n",
            "2/2 [==============================] - 0s 5ms/step - loss: 15.8704 - mae: 15.8704\n"
          ],
          "name": "stdout"
        },
        {
          "output_type": "execute_result",
          "data": {
            "text/plain": [
              "<tensorflow.python.keras.callbacks.History at 0x7fda5d54eb10>"
            ]
          },
          "metadata": {
            "tags": []
          },
          "execution_count": 111
        }
      ]
    },
    {
      "cell_type": "code",
      "metadata": {
        "colab": {
          "base_uri": "https://localhost:8080/"
        },
        "id": "zHuQM7pUJPlx",
        "outputId": "8f82ead8-17fa-4943-8eb3-c4fbf0aa993c"
      },
      "source": [
        "# Let's remind ourselves of the data again\n",
        "X, y"
      ],
      "execution_count": 112,
      "outputs": [
        {
          "output_type": "execute_result",
          "data": {
            "text/plain": [
              "(<tf.Tensor: shape=(50,), dtype=int32, numpy=\n",
              " array([-100,  -96,  -92,  -88,  -84,  -80,  -76,  -72,  -68,  -64,  -60,\n",
              "         -56,  -52,  -48,  -44,  -40,  -36,  -32,  -28,  -24,  -20,  -16,\n",
              "         -12,   -8,   -4,    0,    4,    8,   12,   16,   20,   24,   28,\n",
              "          32,   36,   40,   44,   48,   52,   56,   60,   64,   68,   72,\n",
              "          76,   80,   84,   88,   92,   96], dtype=int32)>,\n",
              " <tf.Tensor: shape=(50,), dtype=int32, numpy=\n",
              " array([-90, -86, -82, -78, -74, -70, -66, -62, -58, -54, -50, -46, -42,\n",
              "        -38, -34, -30, -26, -22, -18, -14, -10,  -6,  -2,   2,   6,  10,\n",
              "         14,  18,  22,  26,  30,  34,  38,  42,  46,  50,  54,  58,  62,\n",
              "         66,  70,  74,  78,  82,  86,  90,  94,  98, 102, 106], dtype=int32)>)"
            ]
          },
          "metadata": {
            "tags": []
          },
          "execution_count": 112
        }
      ]
    },
    {
      "cell_type": "code",
      "metadata": {
        "colab": {
          "base_uri": "https://localhost:8080/"
        },
        "id": "PHpXchS7JToI",
        "outputId": "adbeb361-b9af-4833-ee33-2c05b84612db"
      },
      "source": [
        "# Let's see if the model has improved\n",
        "model.predict([17.0])"
      ],
      "execution_count": 113,
      "outputs": [
        {
          "output_type": "stream",
          "text": [
            "WARNING:tensorflow:6 out of the last 11 calls to <function Model.make_predict_function.<locals>.predict_function at 0x7fda581bc9e0> triggered tf.function retracing. Tracing is expensive and the excessive number of tracings could be due to (1) creating @tf.function repeatedly in a loop, (2) passing tensors with different shapes, (3) passing Python objects instead of tensors. For (1), please define your @tf.function outside of the loop. For (2), @tf.function has experimental_relax_shapes=True option that relaxes argument shapes that can avoid unnecessary retracing. For (3), please refer to https://www.tensorflow.org/guide/function#controlling_retracing and https://www.tensorflow.org/api_docs/python/tf/function for  more details.\n"
          ],
          "name": "stdout"
        },
        {
          "output_type": "execute_result",
          "data": {
            "text/plain": [
              "array([[16.654217]], dtype=float32)"
            ]
          },
          "metadata": {
            "tags": []
          },
          "execution_count": 113
        }
      ]
    },
    {
      "cell_type": "code",
      "metadata": {
        "colab": {
          "base_uri": "https://localhost:8080/"
        },
        "id": "mgWl-UDHL94n",
        "outputId": "a3abb1d9-ff8f-4b3f-9b1e-77e357fbe025"
      },
      "source": [
        "# We can do better than that. Let's increase the number of neurons and see where we are end up\n",
        "\n",
        "# Set random seed\n",
        "tf.random.set_seed(42)\n",
        "\n",
        "# Create a model using the Sequential API\n",
        "# A Sequential model is appropriate for a plain stack of\n",
        "# layers where each layer has exactly one input tensor and one output tensor.\n",
        "\n",
        "model = tf.keras.Sequential([\n",
        "    tf.keras.layers.Dense(100, activation=\"relu\"),\n",
        "    tf.keras.layers.Dense(1)\n",
        "    ])\n",
        "\n",
        "# Compile model\n",
        "model.compile(loss=\"mae\", optimizer=\"sgd\", metrics=[\"mae\"])\n",
        "\n",
        "# Fit the model again\n",
        "model.fit(X,y, epochs=100)\n"
      ],
      "execution_count": 114,
      "outputs": [
        {
          "output_type": "stream",
          "text": [
            "Epoch 1/100\n",
            "2/2 [==============================] - 0s 7ms/step - loss: 42.8156 - mae: 42.8156\n",
            "Epoch 2/100\n",
            "2/2 [==============================] - 0s 6ms/step - loss: 5.7016 - mae: 5.7016\n",
            "Epoch 3/100\n",
            "2/2 [==============================] - 0s 3ms/step - loss: 14.7998 - mae: 14.7998\n",
            "Epoch 4/100\n",
            "2/2 [==============================] - 0s 5ms/step - loss: 14.5882 - mae: 14.5882\n",
            "Epoch 5/100\n",
            "2/2 [==============================] - 0s 5ms/step - loss: 10.7802 - mae: 10.7802\n",
            "Epoch 6/100\n",
            "2/2 [==============================] - 0s 4ms/step - loss: 17.3618 - mae: 17.3618\n",
            "Epoch 7/100\n",
            "2/2 [==============================] - 0s 5ms/step - loss: 9.9411 - mae: 9.9411\n",
            "Epoch 8/100\n",
            "2/2 [==============================] - 0s 2ms/step - loss: 15.6830 - mae: 15.6830\n",
            "Epoch 9/100\n",
            "2/2 [==============================] - 0s 5ms/step - loss: 23.9220 - mae: 23.9220\n",
            "Epoch 10/100\n",
            "2/2 [==============================] - 0s 6ms/step - loss: 10.7834 - mae: 10.7834\n",
            "Epoch 11/100\n",
            "2/2 [==============================] - 0s 5ms/step - loss: 12.4307 - mae: 12.4307\n",
            "Epoch 12/100\n",
            "2/2 [==============================] - 0s 3ms/step - loss: 12.6559 - mae: 12.6559\n",
            "Epoch 13/100\n",
            "2/2 [==============================] - 0s 6ms/step - loss: 14.0973 - mae: 14.0973\n",
            "Epoch 14/100\n",
            "2/2 [==============================] - 0s 3ms/step - loss: 17.5574 - mae: 17.5574\n",
            "Epoch 15/100\n",
            "2/2 [==============================] - 0s 6ms/step - loss: 13.7626 - mae: 13.7626\n",
            "Epoch 16/100\n",
            "2/2 [==============================] - 0s 4ms/step - loss: 11.6333 - mae: 11.6333\n",
            "Epoch 17/100\n",
            "2/2 [==============================] - 0s 4ms/step - loss: 11.7509 - mae: 11.7509\n",
            "Epoch 18/100\n",
            "2/2 [==============================] - 0s 5ms/step - loss: 10.6613 - mae: 10.6613\n",
            "Epoch 19/100\n",
            "2/2 [==============================] - 0s 4ms/step - loss: 11.3276 - mae: 11.3276\n",
            "Epoch 20/100\n",
            "2/2 [==============================] - 0s 5ms/step - loss: 12.5918 - mae: 12.5918\n",
            "Epoch 21/100\n",
            "2/2 [==============================] - 0s 3ms/step - loss: 15.1650 - mae: 15.1650\n",
            "Epoch 22/100\n",
            "2/2 [==============================] - 0s 3ms/step - loss: 13.7630 - mae: 13.7630\n",
            "Epoch 23/100\n",
            "2/2 [==============================] - 0s 2ms/step - loss: 12.8993 - mae: 12.8993\n",
            "Epoch 24/100\n",
            "2/2 [==============================] - 0s 3ms/step - loss: 9.2091 - mae: 9.2091\n",
            "Epoch 25/100\n",
            "2/2 [==============================] - 0s 3ms/step - loss: 12.6181 - mae: 12.6181\n",
            "Epoch 26/100\n",
            "2/2 [==============================] - 0s 3ms/step - loss: 12.8813 - mae: 12.8813\n",
            "Epoch 27/100\n",
            "2/2 [==============================] - 0s 3ms/step - loss: 11.1900 - mae: 11.1900\n",
            "Epoch 28/100\n",
            "2/2 [==============================] - 0s 3ms/step - loss: 8.8124 - mae: 8.8124\n",
            "Epoch 29/100\n",
            "2/2 [==============================] - 0s 3ms/step - loss: 17.4804 - mae: 17.4804\n",
            "Epoch 30/100\n",
            "2/2 [==============================] - 0s 3ms/step - loss: 12.2515 - mae: 12.2515\n",
            "Epoch 31/100\n",
            "2/2 [==============================] - 0s 4ms/step - loss: 13.7140 - mae: 13.7140\n",
            "Epoch 32/100\n",
            "2/2 [==============================] - 0s 3ms/step - loss: 14.8769 - mae: 14.8769\n",
            "Epoch 33/100\n",
            "2/2 [==============================] - 0s 3ms/step - loss: 8.0680 - mae: 8.0680\n",
            "Epoch 34/100\n",
            "2/2 [==============================] - 0s 3ms/step - loss: 8.4283 - mae: 8.4283\n",
            "Epoch 35/100\n",
            "2/2 [==============================] - 0s 3ms/step - loss: 14.9141 - mae: 14.9141\n",
            "Epoch 36/100\n",
            "2/2 [==============================] - 0s 3ms/step - loss: 10.0339 - mae: 10.0339\n",
            "Epoch 37/100\n",
            "2/2 [==============================] - 0s 3ms/step - loss: 10.4210 - mae: 10.4210\n",
            "Epoch 38/100\n",
            "2/2 [==============================] - 0s 3ms/step - loss: 9.9791 - mae: 9.9791\n",
            "Epoch 39/100\n",
            "2/2 [==============================] - 0s 3ms/step - loss: 9.7118 - mae: 9.7118\n",
            "Epoch 40/100\n",
            "2/2 [==============================] - 0s 2ms/step - loss: 13.1711 - mae: 13.1711\n",
            "Epoch 41/100\n",
            "2/2 [==============================] - 0s 3ms/step - loss: 13.8025 - mae: 13.8025\n",
            "Epoch 42/100\n",
            "2/2 [==============================] - 0s 3ms/step - loss: 13.5602 - mae: 13.5602\n",
            "Epoch 43/100\n",
            "2/2 [==============================] - 0s 3ms/step - loss: 10.5593 - mae: 10.5593\n",
            "Epoch 44/100\n",
            "2/2 [==============================] - 0s 3ms/step - loss: 10.7673 - mae: 10.7673\n",
            "Epoch 45/100\n",
            "2/2 [==============================] - 0s 3ms/step - loss: 13.2285 - mae: 13.2285\n",
            "Epoch 46/100\n",
            "2/2 [==============================] - 0s 3ms/step - loss: 16.8427 - mae: 16.8427\n",
            "Epoch 47/100\n",
            "2/2 [==============================] - 0s 3ms/step - loss: 11.9551 - mae: 11.9551\n",
            "Epoch 48/100\n",
            "2/2 [==============================] - 0s 3ms/step - loss: 10.4002 - mae: 10.4002\n",
            "Epoch 49/100\n",
            "2/2 [==============================] - 0s 3ms/step - loss: 10.1678 - mae: 10.1678\n",
            "Epoch 50/100\n",
            "2/2 [==============================] - 0s 3ms/step - loss: 21.3445 - mae: 21.3445\n",
            "Epoch 51/100\n",
            "2/2 [==============================] - 0s 5ms/step - loss: 12.8291 - mae: 12.8291\n",
            "Epoch 52/100\n",
            "2/2 [==============================] - 0s 3ms/step - loss: 15.3440 - mae: 15.3440\n",
            "Epoch 53/100\n",
            "2/2 [==============================] - 0s 2ms/step - loss: 7.8090 - mae: 7.8090\n",
            "Epoch 54/100\n",
            "2/2 [==============================] - 0s 3ms/step - loss: 13.4854 - mae: 13.4854\n",
            "Epoch 55/100\n",
            "2/2 [==============================] - 0s 3ms/step - loss: 15.4969 - mae: 15.4969\n",
            "Epoch 56/100\n",
            "2/2 [==============================] - 0s 3ms/step - loss: 12.3554 - mae: 12.3554\n",
            "Epoch 57/100\n",
            "2/2 [==============================] - 0s 3ms/step - loss: 12.7993 - mae: 12.7993\n",
            "Epoch 58/100\n",
            "2/2 [==============================] - 0s 3ms/step - loss: 13.3708 - mae: 13.3708\n",
            "Epoch 59/100\n",
            "2/2 [==============================] - 0s 3ms/step - loss: 11.7648 - mae: 11.7648\n",
            "Epoch 60/100\n",
            "2/2 [==============================] - 0s 3ms/step - loss: 11.0614 - mae: 11.0614\n",
            "Epoch 61/100\n",
            "2/2 [==============================] - 0s 3ms/step - loss: 12.0088 - mae: 12.0088\n",
            "Epoch 62/100\n",
            "2/2 [==============================] - 0s 3ms/step - loss: 10.8357 - mae: 10.8357\n",
            "Epoch 63/100\n",
            "2/2 [==============================] - 0s 3ms/step - loss: 7.4028 - mae: 7.4028\n",
            "Epoch 64/100\n",
            "2/2 [==============================] - 0s 3ms/step - loss: 11.4056 - mae: 11.4056\n",
            "Epoch 65/100\n",
            "2/2 [==============================] - 0s 3ms/step - loss: 17.8062 - mae: 17.8062\n",
            "Epoch 66/100\n",
            "2/2 [==============================] - 0s 5ms/step - loss: 7.9538 - mae: 7.9538\n",
            "Epoch 67/100\n",
            "2/2 [==============================] - 0s 3ms/step - loss: 8.2020 - mae: 8.2020\n",
            "Epoch 68/100\n",
            "2/2 [==============================] - 0s 3ms/step - loss: 9.1699 - mae: 9.1699\n",
            "Epoch 69/100\n",
            "2/2 [==============================] - 0s 6ms/step - loss: 14.6363 - mae: 14.6363\n",
            "Epoch 70/100\n",
            "2/2 [==============================] - 0s 4ms/step - loss: 16.7431 - mae: 16.7431\n",
            "Epoch 71/100\n",
            "2/2 [==============================] - 0s 3ms/step - loss: 14.2262 - mae: 14.2262\n",
            "Epoch 72/100\n",
            "2/2 [==============================] - 0s 4ms/step - loss: 13.6742 - mae: 13.6742\n",
            "Epoch 73/100\n",
            "2/2 [==============================] - 0s 3ms/step - loss: 10.0409 - mae: 10.0409\n",
            "Epoch 74/100\n",
            "2/2 [==============================] - 0s 4ms/step - loss: 7.6865 - mae: 7.6865\n",
            "Epoch 75/100\n",
            "2/2 [==============================] - 0s 5ms/step - loss: 14.2435 - mae: 14.2435\n",
            "Epoch 76/100\n",
            "2/2 [==============================] - 0s 5ms/step - loss: 12.6314 - mae: 12.6314\n",
            "Epoch 77/100\n",
            "2/2 [==============================] - 0s 5ms/step - loss: 11.2291 - mae: 11.2291\n",
            "Epoch 78/100\n",
            "2/2 [==============================] - 0s 9ms/step - loss: 15.1982 - mae: 15.1982\n",
            "Epoch 79/100\n",
            "2/2 [==============================] - 0s 2ms/step - loss: 7.9713 - mae: 7.9713\n",
            "Epoch 80/100\n",
            "2/2 [==============================] - 0s 6ms/step - loss: 5.0793 - mae: 5.0793\n",
            "Epoch 81/100\n",
            "2/2 [==============================] - 0s 3ms/step - loss: 8.7784 - mae: 8.7784\n",
            "Epoch 82/100\n",
            "2/2 [==============================] - 0s 3ms/step - loss: 14.6865 - mae: 14.6865\n",
            "Epoch 83/100\n",
            "2/2 [==============================] - 0s 3ms/step - loss: 9.7964 - mae: 9.7964\n",
            "Epoch 84/100\n",
            "2/2 [==============================] - 0s 4ms/step - loss: 6.3447 - mae: 6.3447\n",
            "Epoch 85/100\n",
            "2/2 [==============================] - 0s 7ms/step - loss: 14.1447 - mae: 14.1447\n",
            "Epoch 86/100\n",
            "2/2 [==============================] - 0s 3ms/step - loss: 15.2096 - mae: 15.2096\n",
            "Epoch 87/100\n",
            "2/2 [==============================] - 0s 4ms/step - loss: 12.2277 - mae: 12.2277\n",
            "Epoch 88/100\n",
            "2/2 [==============================] - 0s 4ms/step - loss: 15.4304 - mae: 15.4304\n",
            "Epoch 89/100\n",
            "2/2 [==============================] - 0s 4ms/step - loss: 11.2842 - mae: 11.2842\n",
            "Epoch 90/100\n",
            "2/2 [==============================] - 0s 5ms/step - loss: 16.0488 - mae: 16.0488\n",
            "Epoch 91/100\n",
            "2/2 [==============================] - 0s 4ms/step - loss: 16.4028 - mae: 16.4028\n",
            "Epoch 92/100\n",
            "2/2 [==============================] - 0s 5ms/step - loss: 14.9668 - mae: 14.9668\n",
            "Epoch 93/100\n",
            "2/2 [==============================] - 0s 3ms/step - loss: 15.2162 - mae: 15.2162\n",
            "Epoch 94/100\n",
            "2/2 [==============================] - 0s 4ms/step - loss: 11.4245 - mae: 11.4245\n",
            "Epoch 95/100\n",
            "2/2 [==============================] - 0s 3ms/step - loss: 10.9152 - mae: 10.9152\n",
            "Epoch 96/100\n",
            "2/2 [==============================] - 0s 3ms/step - loss: 7.2940 - mae: 7.2940\n",
            "Epoch 97/100\n",
            "2/2 [==============================] - 0s 2ms/step - loss: 13.9688 - mae: 13.9688\n",
            "Epoch 98/100\n",
            "2/2 [==============================] - 0s 3ms/step - loss: 14.2277 - mae: 14.2277\n",
            "Epoch 99/100\n",
            "2/2 [==============================] - 0s 5ms/step - loss: 10.0207 - mae: 10.0207\n",
            "Epoch 100/100\n",
            "2/2 [==============================] - 0s 3ms/step - loss: 8.3111 - mae: 8.3111\n"
          ],
          "name": "stdout"
        },
        {
          "output_type": "execute_result",
          "data": {
            "text/plain": [
              "<tensorflow.python.keras.callbacks.History at 0x7fda5d501ad0>"
            ]
          },
          "metadata": {
            "tags": []
          },
          "execution_count": 114
        }
      ]
    },
    {
      "cell_type": "code",
      "metadata": {
        "colab": {
          "base_uri": "https://localhost:8080/"
        },
        "id": "kA9NRpKFODMr",
        "outputId": "689af6ae-cc8f-4c24-e4d0-cc0c6e0a72ec"
      },
      "source": [
        "# Try predicting again\n",
        "model.predict([17.0])"
      ],
      "execution_count": 115,
      "outputs": [
        {
          "output_type": "stream",
          "text": [
            "WARNING:tensorflow:6 out of the last 11 calls to <function Model.make_predict_function.<locals>.predict_function at 0x7fda5f9ff710> triggered tf.function retracing. Tracing is expensive and the excessive number of tracings could be due to (1) creating @tf.function repeatedly in a loop, (2) passing tensors with different shapes, (3) passing Python objects instead of tensors. For (1), please define your @tf.function outside of the loop. For (2), @tf.function has experimental_relax_shapes=True option that relaxes argument shapes that can avoid unnecessary retracing. For (3), please refer to https://www.tensorflow.org/guide/function#controlling_retracing and https://www.tensorflow.org/api_docs/python/tf/function for  more details.\n"
          ],
          "name": "stdout"
        },
        {
          "output_type": "execute_result",
          "data": {
            "text/plain": [
              "array([[13.61597]], dtype=float32)"
            ]
          },
          "metadata": {
            "tags": []
          },
          "execution_count": 115
        }
      ]
    },
    {
      "cell_type": "markdown",
      "metadata": {
        "id": "X0kjULxxO63x"
      },
      "source": [
        "#### In practice, not all changes improve the model\n",
        "- In case 2, the model was better than the original after changing the the number of epochs taken to train the model.\n",
        "- In case 3, the model performed worse by increasing the neuron (Dense) layers.\n",
        "- How about the optimizer?"
      ]
    },
    {
      "cell_type": "code",
      "metadata": {
        "colab": {
          "base_uri": "https://localhost:8080/"
        },
        "id": "bblCUyfGOHf5",
        "outputId": "36aa0c6a-1427-4ec6-9fa6-37dc9aafef8c"
      },
      "source": [
        "# Set random seed\n",
        "tf.random.set_seed(42)\n",
        "\n",
        "# Create a model using the Sequential API\n",
        "# A Sequential model is appropriate for a plain stack of\n",
        "# layers where each layer has exactly one input tensor and one output tensor.\n",
        "\n",
        "model = tf.keras.Sequential([\n",
        "    tf.keras.layers.Dense(100, activation=\"relu\"),\n",
        "    tf.keras.layers.Dense(1)\n",
        "    ])\n",
        "\n",
        "# Compile model\n",
        "model.compile(loss=\"mae\", optimizer=tf.keras.optimizers.Adam(lr=0.01), metrics=[\"mae\"])\n",
        "\n",
        "# Fit the model again\n",
        "model.fit(X,y, epochs=100)\n"
      ],
      "execution_count": 116,
      "outputs": [
        {
          "output_type": "stream",
          "text": [
            "Epoch 1/100\n",
            "2/2 [==============================] - 0s 4ms/step - loss: 46.8201 - mae: 46.8201\n",
            "Epoch 2/100\n",
            "2/2 [==============================] - 0s 4ms/step - loss: 32.1082 - mae: 32.1082\n",
            "Epoch 3/100\n",
            "2/2 [==============================] - 0s 3ms/step - loss: 22.2902 - mae: 22.2902\n",
            "Epoch 4/100\n",
            "2/2 [==============================] - 0s 3ms/step - loss: 9.9259 - mae: 9.9259\n",
            "Epoch 5/100\n",
            "2/2 [==============================] - 0s 5ms/step - loss: 7.3159 - mae: 7.3159\n",
            "Epoch 6/100\n",
            "2/2 [==============================] - 0s 3ms/step - loss: 11.9177 - mae: 11.9177\n",
            "Epoch 7/100\n",
            "2/2 [==============================] - 0s 3ms/step - loss: 11.6374 - mae: 11.6374\n",
            "Epoch 8/100\n",
            "2/2 [==============================] - 0s 4ms/step - loss: 8.4021 - mae: 8.4021\n",
            "Epoch 9/100\n",
            "2/2 [==============================] - 0s 4ms/step - loss: 4.6909 - mae: 4.6909\n",
            "Epoch 10/100\n",
            "2/2 [==============================] - 0s 6ms/step - loss: 6.7081 - mae: 6.7081\n",
            "Epoch 11/100\n",
            "2/2 [==============================] - 0s 3ms/step - loss: 8.6041 - mae: 8.6041\n",
            "Epoch 12/100\n",
            "2/2 [==============================] - 0s 5ms/step - loss: 8.1255 - mae: 8.1255\n",
            "Epoch 13/100\n",
            "2/2 [==============================] - 0s 5ms/step - loss: 5.6614 - mae: 5.6614\n",
            "Epoch 14/100\n",
            "2/2 [==============================] - 0s 11ms/step - loss: 4.6664 - mae: 4.6664\n",
            "Epoch 15/100\n",
            "2/2 [==============================] - 0s 9ms/step - loss: 5.4847 - mae: 5.4847\n",
            "Epoch 16/100\n",
            "2/2 [==============================] - 0s 6ms/step - loss: 6.2621 - mae: 6.2621\n",
            "Epoch 17/100\n",
            "2/2 [==============================] - 0s 5ms/step - loss: 5.0131 - mae: 5.0131\n",
            "Epoch 18/100\n",
            "2/2 [==============================] - 0s 4ms/step - loss: 3.9898 - mae: 3.9898\n",
            "Epoch 19/100\n",
            "2/2 [==============================] - 0s 5ms/step - loss: 4.5531 - mae: 4.5531\n",
            "Epoch 20/100\n",
            "2/2 [==============================] - 0s 5ms/step - loss: 4.8639 - mae: 4.8639\n",
            "Epoch 21/100\n",
            "2/2 [==============================] - 0s 10ms/step - loss: 3.8318 - mae: 3.8318\n",
            "Epoch 22/100\n",
            "2/2 [==============================] - 0s 8ms/step - loss: 4.1144 - mae: 4.1144\n",
            "Epoch 23/100\n",
            "2/2 [==============================] - 0s 9ms/step - loss: 4.0924 - mae: 4.0924\n",
            "Epoch 24/100\n",
            "2/2 [==============================] - 0s 6ms/step - loss: 3.8549 - mae: 3.8549\n",
            "Epoch 25/100\n",
            "2/2 [==============================] - 0s 6ms/step - loss: 3.5803 - mae: 3.5803\n",
            "Epoch 26/100\n",
            "2/2 [==============================] - 0s 7ms/step - loss: 3.9844 - mae: 3.9844\n",
            "Epoch 27/100\n",
            "2/2 [==============================] - 0s 4ms/step - loss: 3.5549 - mae: 3.5549\n",
            "Epoch 28/100\n",
            "2/2 [==============================] - 0s 6ms/step - loss: 3.5566 - mae: 3.5566\n",
            "Epoch 29/100\n",
            "2/2 [==============================] - 0s 6ms/step - loss: 3.6682 - mae: 3.6682\n",
            "Epoch 30/100\n",
            "2/2 [==============================] - 0s 3ms/step - loss: 3.5654 - mae: 3.5654\n",
            "Epoch 31/100\n",
            "2/2 [==============================] - 0s 4ms/step - loss: 3.2242 - mae: 3.2242\n",
            "Epoch 32/100\n",
            "2/2 [==============================] - 0s 3ms/step - loss: 3.3813 - mae: 3.3813\n",
            "Epoch 33/100\n",
            "2/2 [==============================] - 0s 3ms/step - loss: 3.3358 - mae: 3.3358\n",
            "Epoch 34/100\n",
            "2/2 [==============================] - 0s 6ms/step - loss: 3.2297 - mae: 3.2297\n",
            "Epoch 35/100\n",
            "2/2 [==============================] - 0s 4ms/step - loss: 3.3816 - mae: 3.3816\n",
            "Epoch 36/100\n",
            "2/2 [==============================] - 0s 3ms/step - loss: 3.2835 - mae: 3.2835\n",
            "Epoch 37/100\n",
            "2/2 [==============================] - 0s 5ms/step - loss: 3.0427 - mae: 3.0427\n",
            "Epoch 38/100\n",
            "2/2 [==============================] - 0s 4ms/step - loss: 3.0505 - mae: 3.0505\n",
            "Epoch 39/100\n",
            "2/2 [==============================] - 0s 4ms/step - loss: 3.0092 - mae: 3.0092\n",
            "Epoch 40/100\n",
            "2/2 [==============================] - 0s 4ms/step - loss: 3.2077 - mae: 3.2077\n",
            "Epoch 41/100\n",
            "2/2 [==============================] - 0s 3ms/step - loss: 3.0390 - mae: 3.0390\n",
            "Epoch 42/100\n",
            "2/2 [==============================] - 0s 6ms/step - loss: 2.8690 - mae: 2.8690\n",
            "Epoch 43/100\n",
            "2/2 [==============================] - 0s 4ms/step - loss: 2.8959 - mae: 2.8959\n",
            "Epoch 44/100\n",
            "2/2 [==============================] - 0s 4ms/step - loss: 2.9107 - mae: 2.9107\n",
            "Epoch 45/100\n",
            "2/2 [==============================] - 0s 4ms/step - loss: 2.8175 - mae: 2.8175\n",
            "Epoch 46/100\n",
            "2/2 [==============================] - 0s 4ms/step - loss: 2.7921 - mae: 2.7921\n",
            "Epoch 47/100\n",
            "2/2 [==============================] - 0s 4ms/step - loss: 2.7035 - mae: 2.7035\n",
            "Epoch 48/100\n",
            "2/2 [==============================] - 0s 5ms/step - loss: 2.7904 - mae: 2.7904\n",
            "Epoch 49/100\n",
            "2/2 [==============================] - 0s 3ms/step - loss: 2.9040 - mae: 2.9040\n",
            "Epoch 50/100\n",
            "2/2 [==============================] - 0s 4ms/step - loss: 2.5382 - mae: 2.5382\n",
            "Epoch 51/100\n",
            "2/2 [==============================] - 0s 4ms/step - loss: 2.8301 - mae: 2.8301\n",
            "Epoch 52/100\n",
            "2/2 [==============================] - 0s 4ms/step - loss: 2.5369 - mae: 2.5369\n",
            "Epoch 53/100\n",
            "2/2 [==============================] - 0s 4ms/step - loss: 2.5000 - mae: 2.5000\n",
            "Epoch 54/100\n",
            "2/2 [==============================] - 0s 3ms/step - loss: 2.5563 - mae: 2.5563\n",
            "Epoch 55/100\n",
            "2/2 [==============================] - 0s 4ms/step - loss: 2.2501 - mae: 2.2501\n",
            "Epoch 56/100\n",
            "2/2 [==============================] - 0s 3ms/step - loss: 2.3379 - mae: 2.3379\n",
            "Epoch 57/100\n",
            "2/2 [==============================] - 0s 4ms/step - loss: 2.1355 - mae: 2.1355\n",
            "Epoch 58/100\n",
            "2/2 [==============================] - 0s 3ms/step - loss: 2.1546 - mae: 2.1546\n",
            "Epoch 59/100\n",
            "2/2 [==============================] - 0s 4ms/step - loss: 2.0082 - mae: 2.0082\n",
            "Epoch 60/100\n",
            "2/2 [==============================] - 0s 4ms/step - loss: 2.0101 - mae: 2.0101\n",
            "Epoch 61/100\n",
            "2/2 [==============================] - 0s 4ms/step - loss: 2.0293 - mae: 2.0293\n",
            "Epoch 62/100\n",
            "2/2 [==============================] - 0s 3ms/step - loss: 1.8793 - mae: 1.8793\n",
            "Epoch 63/100\n",
            "2/2 [==============================] - 0s 4ms/step - loss: 1.9747 - mae: 1.9747\n",
            "Epoch 64/100\n",
            "2/2 [==============================] - 0s 13ms/step - loss: 2.1191 - mae: 2.1191\n",
            "Epoch 65/100\n",
            "2/2 [==============================] - 0s 18ms/step - loss: 1.7604 - mae: 1.7604\n",
            "Epoch 66/100\n",
            "2/2 [==============================] - 0s 6ms/step - loss: 1.5593 - mae: 1.5593\n",
            "Epoch 67/100\n",
            "2/2 [==============================] - 0s 3ms/step - loss: 1.5992 - mae: 1.5992\n",
            "Epoch 68/100\n",
            "2/2 [==============================] - 0s 4ms/step - loss: 1.7391 - mae: 1.7391\n",
            "Epoch 69/100\n",
            "2/2 [==============================] - 0s 3ms/step - loss: 1.4373 - mae: 1.4373\n",
            "Epoch 70/100\n",
            "2/2 [==============================] - 0s 4ms/step - loss: 1.5422 - mae: 1.5422\n",
            "Epoch 71/100\n",
            "2/2 [==============================] - 0s 3ms/step - loss: 1.4575 - mae: 1.4575\n",
            "Epoch 72/100\n",
            "2/2 [==============================] - 0s 7ms/step - loss: 1.7137 - mae: 1.7137\n",
            "Epoch 73/100\n",
            "2/2 [==============================] - 0s 6ms/step - loss: 1.4439 - mae: 1.4439\n",
            "Epoch 74/100\n",
            "2/2 [==============================] - 0s 11ms/step - loss: 1.4467 - mae: 1.4467\n",
            "Epoch 75/100\n",
            "2/2 [==============================] - 0s 3ms/step - loss: 0.8425 - mae: 0.8425\n",
            "Epoch 76/100\n",
            "2/2 [==============================] - 0s 6ms/step - loss: 1.1981 - mae: 1.1981\n",
            "Epoch 77/100\n",
            "2/2 [==============================] - 0s 4ms/step - loss: 0.6469 - mae: 0.6469\n",
            "Epoch 78/100\n",
            "2/2 [==============================] - 0s 5ms/step - loss: 1.0159 - mae: 1.0159\n",
            "Epoch 79/100\n",
            "2/2 [==============================] - 0s 3ms/step - loss: 1.0563 - mae: 1.0563\n",
            "Epoch 80/100\n",
            "2/2 [==============================] - 0s 5ms/step - loss: 1.0511 - mae: 1.0511\n",
            "Epoch 81/100\n",
            "2/2 [==============================] - 0s 6ms/step - loss: 1.6668 - mae: 1.6668\n",
            "Epoch 82/100\n",
            "2/2 [==============================] - 0s 4ms/step - loss: 0.5229 - mae: 0.5229\n",
            "Epoch 83/100\n",
            "2/2 [==============================] - 0s 3ms/step - loss: 0.7946 - mae: 0.7946\n",
            "Epoch 84/100\n",
            "2/2 [==============================] - 0s 3ms/step - loss: 0.8023 - mae: 0.8023\n",
            "Epoch 85/100\n",
            "2/2 [==============================] - 0s 5ms/step - loss: 0.4825 - mae: 0.4825\n",
            "Epoch 86/100\n",
            "2/2 [==============================] - 0s 5ms/step - loss: 0.9447 - mae: 0.9447\n",
            "Epoch 87/100\n",
            "2/2 [==============================] - 0s 5ms/step - loss: 1.2914 - mae: 1.2914\n",
            "Epoch 88/100\n",
            "2/2 [==============================] - 0s 5ms/step - loss: 0.5372 - mae: 0.5372\n",
            "Epoch 89/100\n",
            "2/2 [==============================] - 0s 7ms/step - loss: 1.6146 - mae: 1.6146\n",
            "Epoch 90/100\n",
            "2/2 [==============================] - 0s 4ms/step - loss: 1.4337 - mae: 1.4337\n",
            "Epoch 91/100\n",
            "2/2 [==============================] - 0s 4ms/step - loss: 1.8697 - mae: 1.8697\n",
            "Epoch 92/100\n",
            "2/2 [==============================] - 0s 4ms/step - loss: 1.5819 - mae: 1.5819\n",
            "Epoch 93/100\n",
            "2/2 [==============================] - 0s 5ms/step - loss: 1.0947 - mae: 1.0947\n",
            "Epoch 94/100\n",
            "2/2 [==============================] - 0s 4ms/step - loss: 0.5570 - mae: 0.5570\n",
            "Epoch 95/100\n",
            "2/2 [==============================] - 0s 3ms/step - loss: 0.3874 - mae: 0.3874\n",
            "Epoch 96/100\n",
            "2/2 [==============================] - 0s 3ms/step - loss: 0.6944 - mae: 0.6944\n",
            "Epoch 97/100\n",
            "2/2 [==============================] - 0s 7ms/step - loss: 0.4457 - mae: 0.4457\n",
            "Epoch 98/100\n",
            "2/2 [==============================] - 0s 4ms/step - loss: 0.2930 - mae: 0.2930\n",
            "Epoch 99/100\n",
            "2/2 [==============================] - 0s 8ms/step - loss: 0.3748 - mae: 0.3748\n",
            "Epoch 100/100\n",
            "2/2 [==============================] - 0s 6ms/step - loss: 0.8512 - mae: 0.8512\n"
          ],
          "name": "stdout"
        },
        {
          "output_type": "execute_result",
          "data": {
            "text/plain": [
              "<tensorflow.python.keras.callbacks.History at 0x7fda581e7890>"
            ]
          },
          "metadata": {
            "tags": []
          },
          "execution_count": 116
        }
      ]
    },
    {
      "cell_type": "markdown",
      "metadata": {
        "id": "aNBdKJePR5OK"
      },
      "source": [
        "### Takeaways\n",
        "- Optimizer changes and altering the learning rate had the ***most profound*** effect on the model improvement."
      ]
    },
    {
      "cell_type": "markdown",
      "metadata": {
        "id": "ceWx3A5cSKXx"
      },
      "source": [
        "### Evaluating a model\n",
        "\n",
        "- In practice, the typical workflow of building a model:\n",
        "  1. Create a model\n",
        "  2. Fit it\n",
        "  3. Evaluate it\n",
        "  4. Tweak the model\n",
        "  5. Repeat steps 2-4.\n",
        "\n",
        "#### When it comes to evaluation, **visualize, visualize, visualize**.\n",
        "- It's good to visualize the data - what kind of data are we looking at?\n",
        "- The model itself - what does the model look like?\n",
        "- The training of the model - how does the model perform while it learns?\n",
        "- Predictions of the model - how well do the predictions line up with truth?"
      ]
    },
    {
      "cell_type": "code",
      "metadata": {
        "colab": {
          "base_uri": "https://localhost:8080/"
        },
        "id": "XZjDnll9Twnf",
        "outputId": "588d4a21-b4cd-478b-8684-4b2abc88270d"
      },
      "source": [
        "# Make a bigger dataset\n",
        "X = tf.range(-100,100,4)\n",
        "X"
      ],
      "execution_count": 117,
      "outputs": [
        {
          "output_type": "execute_result",
          "data": {
            "text/plain": [
              "<tf.Tensor: shape=(50,), dtype=int32, numpy=\n",
              "array([-100,  -96,  -92,  -88,  -84,  -80,  -76,  -72,  -68,  -64,  -60,\n",
              "        -56,  -52,  -48,  -44,  -40,  -36,  -32,  -28,  -24,  -20,  -16,\n",
              "        -12,   -8,   -4,    0,    4,    8,   12,   16,   20,   24,   28,\n",
              "         32,   36,   40,   44,   48,   52,   56,   60,   64,   68,   72,\n",
              "         76,   80,   84,   88,   92,   96], dtype=int32)>"
            ]
          },
          "metadata": {
            "tags": []
          },
          "execution_count": 117
        }
      ]
    },
    {
      "cell_type": "code",
      "metadata": {
        "colab": {
          "base_uri": "https://localhost:8080/"
        },
        "id": "ZDvIRuGBT5-I",
        "outputId": "7f8dcfc9-dab3-4ca4-dc65-8c1ca4bb77bb"
      },
      "source": [
        "# Make labels for the dataset\n",
        "y = X + 10\n",
        "y"
      ],
      "execution_count": 118,
      "outputs": [
        {
          "output_type": "execute_result",
          "data": {
            "text/plain": [
              "<tf.Tensor: shape=(50,), dtype=int32, numpy=\n",
              "array([-90, -86, -82, -78, -74, -70, -66, -62, -58, -54, -50, -46, -42,\n",
              "       -38, -34, -30, -26, -22, -18, -14, -10,  -6,  -2,   2,   6,  10,\n",
              "        14,  18,  22,  26,  30,  34,  38,  42,  46,  50,  54,  58,  62,\n",
              "        66,  70,  74,  78,  82,  86,  90,  94,  98, 102, 106], dtype=int32)>"
            ]
          },
          "metadata": {
            "tags": []
          },
          "execution_count": 118
        }
      ]
    },
    {
      "cell_type": "code",
      "metadata": {
        "colab": {
          "base_uri": "https://localhost:8080/",
          "height": 282
        },
        "id": "zaom3jxAUDBe",
        "outputId": "172fc03c-7bdd-4d16-ce12-9fbed2ac062f"
      },
      "source": [
        "# Visualize\n",
        "\n",
        "import matplotlib.pyplot as plt\n",
        "plt.scatter(X,y)"
      ],
      "execution_count": 119,
      "outputs": [
        {
          "output_type": "execute_result",
          "data": {
            "text/plain": [
              "<matplotlib.collections.PathCollection at 0x7fda5d95ff90>"
            ]
          },
          "metadata": {
            "tags": []
          },
          "execution_count": 119
        },
        {
          "output_type": "display_data",
          "data": {
            "image/png": "[encoded data removed]",
            "text/plain": [
              "<Figure size 432x288 with 1 Axes>"
            ]
          },
          "metadata": {
            "tags": [],
            "needs_background": "light"
          }
        }
      ]
    },
    {
      "cell_type": "markdown",
      "metadata": {
        "id": "e8UJzgXhUnEB"
      },
      "source": [
        "### The Three Sets\n",
        "- **Training set** - Course materials\n",
        "- **Validation set** - Practice test\n",
        "- **Test set** - The test\n",
        "\n",
        "The whole point of this is generalization so that the model can perform well on data it hasn't seen before."
      ]
    },
    {
      "cell_type": "code",
      "metadata": {
        "colab": {
          "base_uri": "https://localhost:8080/"
        },
        "id": "UWrsKyY9VYrV",
        "outputId": "c1c1a636-9ead-4581-dc04-481403e251d0"
      },
      "source": [
        "# Check length of how many samples we have\n",
        "len(X)"
      ],
      "execution_count": 120,
      "outputs": [
        {
          "output_type": "execute_result",
          "data": {
            "text/plain": [
              "50"
            ]
          },
          "metadata": {
            "tags": []
          },
          "execution_count": 120
        }
      ]
    },
    {
      "cell_type": "code",
      "metadata": {
        "colab": {
          "base_uri": "https://localhost:8080/"
        },
        "id": "IdV9HbLqVdxu",
        "outputId": "69c674fb-9c69-48dc-b4f5-4b53829ecf8c"
      },
      "source": [
        "# Split the data into training and test sets\n",
        "X_train = X[:40]\n",
        "y_train = y[:40]\n",
        "\n",
        "X_test = X[40:]\n",
        "y_test = y[40:]\n",
        "\n",
        "len(X_train), len(X_test), len(y_train), len(y_test)"
      ],
      "execution_count": 121,
      "outputs": [
        {
          "output_type": "execute_result",
          "data": {
            "text/plain": [
              "(40, 10, 40, 10)"
            ]
          },
          "metadata": {
            "tags": []
          },
          "execution_count": 121
        }
      ]
    },
    {
      "cell_type": "markdown",
      "metadata": {
        "id": "9fciAHOlWhQB"
      },
      "source": [
        "### Visualizing the data again\n",
        "- Now that we've got our data split into training and test sets, let's visualize again"
      ]
    },
    {
      "cell_type": "code",
      "metadata": {
        "colab": {
          "base_uri": "https://localhost:8080/",
          "height": 428
        },
        "id": "yXj0kLrTWp_F",
        "outputId": "d05ff313-2429-4f6e-cf06-e059c1c59271"
      },
      "source": [
        "plt.figure(figsize=(10,7))\n",
        "plt.scatter(X_train,y_train, c=\"b\", label=\"Training data\") # Our model is learning on this data \n",
        "plt.scatter(X_test,y_test, c=\"g\", label=\"Testing data\")\n",
        "plt.legend();"
      ],
      "execution_count": 122,
      "outputs": [
        {
          "output_type": "display_data",
          "data": {
            "image/png": "[encoded data removed]",
            "text/plain": [
              "<Figure size 720x504 with 1 Axes>"
            ]
          },
          "metadata": {
            "tags": [],
            "needs_background": "light"
          }
        }
      ]
    },
    {
      "cell_type": "code",
      "metadata": {
        "colab": {
          "base_uri": "https://localhost:8080/"
        },
        "id": "ruzXGLwtXIHw",
        "outputId": "c7400139-4402-4593-e14a-98e376b00c1c"
      },
      "source": [
        "# Build a neural network with the training data\n",
        "model = tf.keras.Sequential([\n",
        "                  tf.keras.layers.Dense(10, input_shape=[1], name=\"input_layer\"),\n",
        "                  tf.keras.layers.Dense(1, name=\"output_layer\")], name=\"Example_Model\")\n",
        "\n",
        "# The new parameter (input_shape) passes a default shape (tensor) of the data\n",
        "# in order to summarize the model prior to fitting.\n",
        "\n",
        "model.compile(loss=\"mae\", optimizer=tf.keras.optimizers.Adam(lr=0.01), metrics=[\"mae\"])\n",
        "model.fit(X_train, y_train, epochs=100, verbose=0)\n",
        "#model.summary()"
      ],
      "execution_count": 148,
      "outputs": [
        {
          "output_type": "execute_result",
          "data": {
            "text/plain": [
              "<tensorflow.python.keras.callbacks.History at 0x7fda605346d0>"
            ]
          },
          "metadata": {
            "tags": []
          },
          "execution_count": 148
        }
      ]
    },
    {
      "cell_type": "markdown",
      "metadata": {
        "id": "siHlVFhtYuLR"
      },
      "source": [
        "- Total parameters - total number of parameters in the model.\n",
        "- Trainable parameters - the parameters in the model that can update as it trains.\n",
        "- Non-trainable parameters - these are parameters that aren't updated during training (typical in already learned patterns or parameters e.g. **transfer learning**)"
      ]
    },
    {
      "cell_type": "code",
      "metadata": {
        "id": "VsJR0m6ke2SX"
      },
      "source": [
        "# Plotting the model\n",
        "#from tensorflow.keras.utils import plot_model\n",
        "#plot_model(model=model, show_shapes=True)"
      ],
      "execution_count": 149,
      "outputs": []
    },
    {
      "cell_type": "markdown",
      "metadata": {
        "id": "-GHUT8ONhINW"
      },
      "source": [
        "### Visualizing a model's predictions"
      ]
    },
    {
      "cell_type": "code",
      "metadata": {
        "colab": {
          "base_uri": "https://localhost:8080/"
        },
        "id": "yMpvziFRiyd-",
        "outputId": "9935f91a-418d-4732-f32d-54100e9aaaba"
      },
      "source": [
        "# Make Predictions\n",
        "y_pred = model.predict(X_test)\n",
        "\n",
        "# Plot the predictions - Let's do a function to save time in the future\n",
        "def plot_pred (train_data=X_train,\n",
        "               train_labels=y_train,\n",
        "               test_data=X_test,\n",
        "               test_labels=y_test,\n",
        "               predictions=y_pred):\n",
        "  plt.figure(figsize=(10,7))\n",
        "  plt.scatter(train_data,train_labels, c=\"b\", label=\"Training data\")\n",
        "  plt.scatter(test_data,test_labels, c=\"g\", label=\"Testing data\")\n",
        "  plt.scatter(test_data,predictions, c=\"r\", label=\"Predictions\")\n",
        "  plt.legend();"
      ],
      "execution_count": 150,
      "outputs": [
        {
          "output_type": "stream",
          "text": [
            "WARNING:tensorflow:10 out of the last 12 calls to <function Model.make_predict_function.<locals>.predict_function at 0x7fda609b7a70> triggered tf.function retracing. Tracing is expensive and the excessive number of tracings could be due to (1) creating @tf.function repeatedly in a loop, (2) passing tensors with different shapes, (3) passing Python objects instead of tensors. For (1), please define your @tf.function outside of the loop. For (2), @tf.function has experimental_relax_shapes=True option that relaxes argument shapes that can avoid unnecessary retracing. For (3), please refer to https://www.tensorflow.org/guide/function#controlling_retracing and https://www.tensorflow.org/api_docs/python/tf/function for  more details.\n"
          ],
          "name": "stdout"
        }
      ]
    },
    {
      "cell_type": "code",
      "metadata": {
        "colab": {
          "base_uri": "https://localhost:8080/",
          "height": 428
        },
        "id": "cQANg32jn8DV",
        "outputId": "b4a763eb-8c3e-49f3-a2cf-65e71e963906"
      },
      "source": [
        "plot_pred() # Not great initially but much better when increasing the learning rate."
      ],
      "execution_count": 151,
      "outputs": [
        {
          "output_type": "display_data",
          "data": {
            "image/png": "[encoded data removed]",
            "text/plain": [
              "<Figure size 720x504 with 1 Axes>"
            ]
          },
          "metadata": {
            "tags": [],
            "needs_background": "light"
          }
        }
      ]
    },
    {
      "cell_type": "markdown",
      "metadata": {
        "id": "f7EkiYWfpEuu"
      },
      "source": [
        "### Evaluating model predictions with regression evaluation metrics\n",
        "\n",
        "- Mean Absolute Error\n",
        "- Mean square Error\n",
        "- Huber"
      ]
    },
    {
      "cell_type": "code",
      "metadata": {
        "colab": {
          "base_uri": "https://localhost:8080/"
        },
        "id": "naTX1gJerXvU",
        "outputId": "0cb6a9c4-e9f7-4b27-99ef-dce7677ba2f5"
      },
      "source": [
        "# Evaluate the model on the test set\n",
        "model.evaluate(X_test, y_test)"
      ],
      "execution_count": 152,
      "outputs": [
        {
          "output_type": "stream",
          "text": [
            "1/1 [==============================] - 0s 89ms/step - loss: 0.7175 - mae: 0.7175\n"
          ],
          "name": "stdout"
        },
        {
          "output_type": "execute_result",
          "data": {
            "text/plain": [
              "[0.7175437808036804, 0.7175437808036804]"
            ]
          },
          "metadata": {
            "tags": []
          },
          "execution_count": 152
        }
      ]
    },
    {
      "cell_type": "code",
      "metadata": {
        "colab": {
          "base_uri": "https://localhost:8080/"
        },
        "id": "8X5Nsuvlrf7X",
        "outputId": "7fb15318-aafa-4652-f346-d13c68f83075"
      },
      "source": [
        "# MAE\n",
        "tf.keras.losses.MAE(y_test, tf.squeeze(y_pred))"
      ],
      "execution_count": 153,
      "outputs": [
        {
          "output_type": "execute_result",
          "data": {
            "text/plain": [
              "<tf.Tensor: shape=(), dtype=float32, numpy=0.7175423>"
            ]
          },
          "metadata": {
            "tags": []
          },
          "execution_count": 153
        }
      ]
    },
    {
      "cell_type": "code",
      "metadata": {
        "colab": {
          "base_uri": "https://localhost:8080/"
        },
        "id": "UgeIIlisusn4",
        "outputId": "96bb6ee5-967a-464e-d5dd-c7986fd00f5a"
      },
      "source": [
        "# MSE\n",
        "tf.keras.losses.MSE(y_test, tf.squeeze(y_pred))"
      ],
      "execution_count": 154,
      "outputs": [
        {
          "output_type": "execute_result",
          "data": {
            "text/plain": [
              "<tf.Tensor: shape=(), dtype=float32, numpy=0.5252059>"
            ]
          },
          "metadata": {
            "tags": []
          },
          "execution_count": 154
        }
      ]
    }
  ]
}