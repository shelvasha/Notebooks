{
  "nbformat": 4,
  "nbformat_minor": 0,
  "metadata": {
    "colab": {
      "name": "00_Tensorflow_Fundementals.ipynb",
      "provenance": [],
      "collapsed_sections": [],
      "include_colab_link": true
    },
    "kernelspec": {
      "name": "python3",
      "display_name": "Python 3"
    },
    "language_info": {
      "name": "python"
    }
  },
  "cells": [
    {
      "cell_type": "markdown",
      "metadata": {
        "id": "view-in-github",
        "colab_type": "text"
      },
      "source": [
        "<a href=\"https://colab.research.google.com/github/shelvasha/Notebooks/blob/main/00_Tensorflow_Fundementals.ipynb\" target=\"_parent\"><img src=\"https://colab.research.google.com/assets/colab-badge.svg\" alt=\"Open In Colab\"/></a>"
      ]
    },
    {
      "cell_type": "markdown",
      "metadata": {
        "id": "6Rg8pCUcrXLy"
      },
      "source": [
        "# Intro & Fundementals to TensorFlow\n",
        "\n",
        "This is the intro covering the basics of tensors using Tensorflow.\n",
        "\n",
        "More specifically, we're going to cover:\n",
        "\n",
        "* Introduction to tensors\n",
        "* Retrieving information from tensors\n",
        "* Manipulating tensors\n",
        "* Tensors & Numpy\n",
        "* Using @tf functions\n",
        "* Using GPUS\n",
        "* Exercises\n",
        "\n"
      ]
    },
    {
      "cell_type": "markdown",
      "metadata": {
        "id": "WpwKSjx93d1_"
      },
      "source": [
        "### Scalars, Vectors & Tensors"
      ]
    },
    {
      "cell_type": "markdown",
      "metadata": {
        "id": "scrRIMNK8t2L"
      },
      "source": [
        "#### Overview & Definitions\n",
        "\n",
        "* Scalar: A single number\n",
        "* Vector: a number with direction.\n",
        "* Matrix: a 2-dimensional array of numbers\n",
        "* Tensor: a n-dimensional array of numbers."
      ]
    },
    {
      "cell_type": "code",
      "metadata": {
        "colab": {
          "base_uri": "https://localhost:8080/"
        },
        "id": "iA0h5j99rTI7",
        "outputId": "d3ef183d-22f3-4cd3-c835-d1af234b812e"
      },
      "source": [
        "# Import Tensorflow\n",
        "\n",
        "import tensorflow as tf\n",
        "print (tf.__version__) # Checks which version of tensorflow currently being used."
      ],
      "execution_count": null,
      "outputs": [
        {
          "output_type": "stream",
          "text": [
            "2.4.1\n"
          ],
          "name": "stdout"
        }
      ]
    },
    {
      "cell_type": "code",
      "metadata": {
        "id": "8E1hnO2EsY6b",
        "colab": {
          "base_uri": "https://localhost:8080/"
        },
        "outputId": "7a646c9d-86c8-447e-d308-e347ae53e456"
      },
      "source": [
        "# Create tensors with tf.constant()\n",
        "scalar = tf.constant(7)\n",
        "scalar"
      ],
      "execution_count": null,
      "outputs": [
        {
          "output_type": "execute_result",
          "data": {
            "text/plain": [
              "<tf.Tensor: shape=(), dtype=int32, numpy=7>"
            ]
          },
          "metadata": {
            "tags": []
          },
          "execution_count": 4
        }
      ]
    },
    {
      "cell_type": "code",
      "metadata": {
        "colab": {
          "base_uri": "https://localhost:8080/"
        },
        "id": "gyNsXxzdtUDo",
        "outputId": "eb76a6df-652e-43a8-f8e7-998e2054cb0f"
      },
      "source": [
        "# Check the number of dimensions of a tensor (ndim stands for the number of dimensions)\n",
        "scalar.ndim"
      ],
      "execution_count": null,
      "outputs": [
        {
          "output_type": "execute_result",
          "data": {
            "text/plain": [
              "0"
            ]
          },
          "metadata": {
            "tags": []
          },
          "execution_count": 5
        }
      ]
    },
    {
      "cell_type": "code",
      "metadata": {
        "colab": {
          "base_uri": "https://localhost:8080/"
        },
        "id": "YzrJacnStp9V",
        "outputId": "c8164101-6d4a-472e-f0e4-1dd4da94ceb8"
      },
      "source": [
        "# Create a vector\n",
        "vector = tf.constant([10,10])\n",
        "vector"
      ],
      "execution_count": null,
      "outputs": [
        {
          "output_type": "execute_result",
          "data": {
            "text/plain": [
              "<tf.Tensor: shape=(2,), dtype=int32, numpy=array([10, 10], dtype=int32)>"
            ]
          },
          "metadata": {
            "tags": []
          },
          "execution_count": 6
        }
      ]
    },
    {
      "cell_type": "code",
      "metadata": {
        "colab": {
          "base_uri": "https://localhost:8080/"
        },
        "id": "CM8pnYest4fU",
        "outputId": "0b7cf377-9c17-49dc-fd38-96e6491b8df5"
      },
      "source": [
        "# Check dimension of vector\n",
        "vector.ndim"
      ],
      "execution_count": null,
      "outputs": [
        {
          "output_type": "execute_result",
          "data": {
            "text/plain": [
              "1"
            ]
          },
          "metadata": {
            "tags": []
          },
          "execution_count": 7
        }
      ]
    },
    {
      "cell_type": "code",
      "metadata": {
        "colab": {
          "base_uri": "https://localhost:8080/"
        },
        "id": "2Bo8NRLtuE06",
        "outputId": "34e060de-6e86-4999-b8ab-5b80f8a1e738"
      },
      "source": [
        "# Create a matrix (has more than one dimension)\n",
        "matrix = tf.constant([[10,14],[8,7]])\n",
        "matrix"
      ],
      "execution_count": null,
      "outputs": [
        {
          "output_type": "execute_result",
          "data": {
            "text/plain": [
              "<tf.Tensor: shape=(2, 2), dtype=int32, numpy=\n",
              "array([[10, 14],\n",
              "       [ 8,  7]], dtype=int32)>"
            ]
          },
          "metadata": {
            "tags": []
          },
          "execution_count": 8
        }
      ]
    },
    {
      "cell_type": "code",
      "metadata": {
        "colab": {
          "base_uri": "https://localhost:8080/"
        },
        "id": "3_N0FVfwuc4s",
        "outputId": "b209b55a-0ec6-4cb0-f37c-05893ed9c05f"
      },
      "source": [
        "matrix.ndim"
      ],
      "execution_count": null,
      "outputs": [
        {
          "output_type": "execute_result",
          "data": {
            "text/plain": [
              "2"
            ]
          },
          "metadata": {
            "tags": []
          },
          "execution_count": 9
        }
      ]
    },
    {
      "cell_type": "code",
      "metadata": {
        "colab": {
          "base_uri": "https://localhost:8080/"
        },
        "id": "L_f4hR-ixBFB",
        "outputId": "57496a58-9ead-4eea-ccde-27bd83c9a6c9"
      },
      "source": [
        "# Create another matrix\n",
        "another_matrix = tf.constant([[10.,14.],[8.,7.],[5.,30.]], dtype=tf.float16) # Specifies the data type of the matrix\n",
        "another_matrix"
      ],
      "execution_count": null,
      "outputs": [
        {
          "output_type": "execute_result",
          "data": {
            "text/plain": [
              "<tf.Tensor: shape=(3, 2), dtype=float16, numpy=\n",
              "array([[10., 14.],\n",
              "       [ 8.,  7.],\n",
              "       [ 5., 30.]], dtype=float16)>"
            ]
          },
          "metadata": {
            "tags": []
          },
          "execution_count": 10
        }
      ]
    },
    {
      "cell_type": "code",
      "metadata": {
        "colab": {
          "base_uri": "https://localhost:8080/"
        },
        "id": "99vjM6yayL7e",
        "outputId": "ce5edf31-8f5d-4004-e630-aba18569c58e"
      },
      "source": [
        "another_matrix.ndim # It's 2. Why?"
      ],
      "execution_count": null,
      "outputs": [
        {
          "output_type": "execute_result",
          "data": {
            "text/plain": [
              "2"
            ]
          },
          "metadata": {
            "tags": []
          },
          "execution_count": 11
        }
      ]
    },
    {
      "cell_type": "code",
      "metadata": {
        "colab": {
          "base_uri": "https://localhost:8080/"
        },
        "id": "iUJWQ5xayrCY",
        "outputId": "ceb0e07b-f345-46b0-ca5b-5e1449ebfaca"
      },
      "source": [
        "# Creating a Tensor\n",
        "tensor = tf.constant([[[1,2,3],[4,5,6]],\n",
        "                      [[7,8,9],[10,11,12]],\n",
        "                      [[13,14,15],[16,17,18]],])\n",
        "tensor"
      ],
      "execution_count": null,
      "outputs": [
        {
          "output_type": "execute_result",
          "data": {
            "text/plain": [
              "<tf.Tensor: shape=(3, 2, 3), dtype=int32, numpy=\n",
              "array([[[ 1,  2,  3],\n",
              "        [ 4,  5,  6]],\n",
              "\n",
              "       [[ 7,  8,  9],\n",
              "        [10, 11, 12]],\n",
              "\n",
              "       [[13, 14, 15],\n",
              "        [16, 17, 18]]], dtype=int32)>"
            ]
          },
          "metadata": {
            "tags": []
          },
          "execution_count": 12
        }
      ]
    },
    {
      "cell_type": "code",
      "metadata": {
        "colab": {
          "base_uri": "https://localhost:8080/"
        },
        "id": "iKj9RbHV0Has",
        "outputId": "190db069-6f85-48e1-c2ae-40bcb8425b63"
      },
      "source": [
        "tensor.ndim # It's 3"
      ],
      "execution_count": null,
      "outputs": [
        {
          "output_type": "execute_result",
          "data": {
            "text/plain": [
              "3"
            ]
          },
          "metadata": {
            "tags": []
          },
          "execution_count": 13
        }
      ]
    },
    {
      "cell_type": "markdown",
      "metadata": {
        "id": "9745M5AN07u6"
      },
      "source": [
        "### Creating a `tf.Variable`"
      ]
    },
    {
      "cell_type": "code",
      "metadata": {
        "colab": {
          "base_uri": "https://localhost:8080/"
        },
        "id": "HaZpudwK0v1h",
        "outputId": "c520ef62-0e5c-46cf-8c99-ae46ab7ac54c"
      },
      "source": [
        "changeable_tensor = tf.Variable([10,14])\n",
        "unchangeable_tensor = tf.constant([10,14])\n",
        "changeable_tensor,unchangeable_tensor\n"
      ],
      "execution_count": null,
      "outputs": [
        {
          "output_type": "execute_result",
          "data": {
            "text/plain": [
              "(<tf.Variable 'Variable:0' shape=(2,) dtype=int32, numpy=array([10, 14], dtype=int32)>,\n",
              " <tf.Tensor: shape=(2,), dtype=int32, numpy=array([10, 14], dtype=int32)>)"
            ]
          },
          "metadata": {
            "tags": []
          },
          "execution_count": 14
        }
      ]
    },
    {
      "cell_type": "code",
      "metadata": {
        "colab": {
          "base_uri": "https://localhost:8080/",
          "height": 181
        },
        "id": "uAkVCY-h04aa",
        "outputId": "f17f5d0d-274d-4b32-d33e-b7f43935b620"
      },
      "source": [
        "# Let's try changing elements in our changeable tensor\n",
        "changeable_tensor[0] = 7"
      ],
      "execution_count": null,
      "outputs": [
        {
          "output_type": "error",
          "ename": "TypeError",
          "evalue": "ignored",
          "traceback": [
            "\u001b[0;31m---------------------------------------------------------------------------\u001b[0m",
            "\u001b[0;31mTypeError\u001b[0m                                 Traceback (most recent call last)",
            "\u001b[0;32m<ipython-input-15-e10acac95c3e>\u001b[0m in \u001b[0;36m<module>\u001b[0;34m()\u001b[0m\n\u001b[1;32m      1\u001b[0m \u001b[0;31m# Let's try changing elements in our changeable tensor\u001b[0m\u001b[0;34m\u001b[0m\u001b[0;34m\u001b[0m\u001b[0;34m\u001b[0m\u001b[0m\n\u001b[0;32m----> 2\u001b[0;31m \u001b[0mchangeable_tensor\u001b[0m\u001b[0;34m[\u001b[0m\u001b[0;36m0\u001b[0m\u001b[0;34m]\u001b[0m \u001b[0;34m=\u001b[0m \u001b[0;36m7\u001b[0m\u001b[0;34m\u001b[0m\u001b[0;34m\u001b[0m\u001b[0m\n\u001b[0m",
            "\u001b[0;31mTypeError\u001b[0m: 'ResourceVariable' object does not support item assignment"
          ]
        }
      ]
    },
    {
      "cell_type": "code",
      "metadata": {
        "id": "rwX8XmJO2TVT",
        "colab": {
          "base_uri": "https://localhost:8080/"
        },
        "outputId": "0ccda2c7-4946-4247-b8b5-606f5e4971c4"
      },
      "source": [
        "# Spoiler, the first doesn't work. There's an assign method.\n",
        "changeable_tensor[0].assign(7)\n",
        "changeable_tensor"
      ],
      "execution_count": null,
      "outputs": [
        {
          "output_type": "execute_result",
          "data": {
            "text/plain": [
              "<tf.Variable 'Variable:0' shape=(2,) dtype=int32, numpy=array([ 7, 14], dtype=int32)>"
            ]
          },
          "metadata": {
            "tags": []
          },
          "execution_count": 16
        }
      ]
    },
    {
      "cell_type": "code",
      "metadata": {
        "id": "IJu9VzyR2EGi"
      },
      "source": [
        "# Doing the same for `unchangeable_tensor` doesn't work for either assignment.\n",
        "# This is because .constant() means that the tensor once created in immutable, meaning it can't be changed.\n"
      ],
      "execution_count": null,
      "outputs": []
    },
    {
      "cell_type": "markdown",
      "metadata": {
        "id": "_o1Td2Tf2_1d"
      },
      "source": [
        "Note: It's rare to need to decide whether or not your tensors are immutable or mutable, TensorFlow will do this for you."
      ]
    },
    {
      "cell_type": "markdown",
      "metadata": {
        "id": "PXzxMjTl3OMa"
      },
      "source": [
        "### Creating Random Tensors\n",
        "* Random tensors are of some arbitrary size and contain random numbers.\n",
        "* Technically, random tensors are already implemented in when we have data input."
      ]
    },
    {
      "cell_type": "code",
      "metadata": {
        "colab": {
          "base_uri": "https://localhost:8080/"
        },
        "id": "ehTxSWAM3Lqb",
        "outputId": "4e82425c-a07a-4f56-99aa-5eccb173f83f"
      },
      "source": [
        "# Create two random (but the same) tensors\n",
        "random_1 = tf.random.Generator.from_seed(42)\n",
        "random_1 = random_1.normal(shape=(3,2))\n",
        "random_1\n",
        "\n",
        "random_2 = tf.random.Generator.from_seed(15)\n",
        "random_2 = random_2.normal(shape=(3,2))\n",
        "random_2\n",
        "\n",
        "\n",
        "# Are they equal?\n",
        "random_1, random_2, random_1==random_2"
      ],
      "execution_count": null,
      "outputs": [
        {
          "output_type": "execute_result",
          "data": {
            "text/plain": [
              "(<tf.Tensor: shape=(3, 2), dtype=float32, numpy=\n",
              " array([[-0.7565803 , -0.06854702],\n",
              "        [ 0.07595026, -1.2573844 ],\n",
              "        [-0.23193763, -1.8107855 ]], dtype=float32)>,\n",
              " <tf.Tensor: shape=(3, 2), dtype=float32, numpy=\n",
              " array([[ 0.33149973, -0.5445254 ],\n",
              "        [ 1.5222508 ,  0.59303206],\n",
              "        [-0.63509274,  0.3703566 ]], dtype=float32)>,\n",
              " <tf.Tensor: shape=(3, 2), dtype=bool, numpy=\n",
              " array([[False, False],\n",
              "        [False, False],\n",
              "        [False, False]])>)"
            ]
          },
          "metadata": {
            "tags": []
          },
          "execution_count": 18
        }
      ]
    },
    {
      "cell_type": "markdown",
      "metadata": {
        "id": "_c2l2Sje6YR0"
      },
      "source": [
        "### Shuffling elements within a tensor\n",
        "* The whole point of shuffling is to ensure that your model, when TensorFlow is tweaking its values, doesn't skew towards one specific type of data. It'll make more sense in practice."
      ]
    },
    {
      "cell_type": "code",
      "metadata": {
        "colab": {
          "base_uri": "https://localhost:8080/"
        },
        "id": "gCu-Jhhs6ejH",
        "outputId": "c13b6520-28eb-46d5-f24a-c2c99dcae921"
      },
      "source": [
        "# Shuffling a tensor\n",
        "not_shuffled = tf.constant([[10,7],[3,4],[2,5]])\n",
        "not_shuffled.ndim\n",
        "\n",
        "# Shuffle the non-shuffled tensor\n",
        "tf.random.shuffle(not_shuffled, seed=42)"
      ],
      "execution_count": null,
      "outputs": [
        {
          "output_type": "execute_result",
          "data": {
            "text/plain": [
              "<tf.Tensor: shape=(3, 2), dtype=int32, numpy=\n",
              "array([[ 2,  5],\n",
              "       [ 3,  4],\n",
              "       [10,  7]], dtype=int32)>"
            ]
          },
          "metadata": {
            "tags": []
          },
          "execution_count": 19
        }
      ]
    },
    {
      "cell_type": "markdown",
      "metadata": {
        "id": "m0A6m0MA820z"
      },
      "source": [
        "**Excercises**"
      ]
    },
    {
      "cell_type": "code",
      "metadata": {
        "colab": {
          "base_uri": "https://localhost:8080/"
        },
        "id": "jLHYVw8N885d",
        "outputId": "e1c1ed58-a40c-49fe-c8d3-6f0c76f28078"
      },
      "source": [
        "not_shuffled_1 = tf.constant([[1,7],[3,21],[2,3]])\n",
        "not_shuffled_2 = tf.constant([[17,1],[3,5],[2,5]])\n",
        "not_shuffled_3 = tf.constant([[90,7],[3,4],[2,8]])\n",
        "not_shuffled_4 = tf.constant([[21,8],[3,78],[2,2]])\n",
        "not_shuffled_5 = tf.constant([[4,5],[3,90],[2,1]])\n",
        "\n",
        "\n",
        "tf.random.shuffle(not_shuffled_1, seed=2)\n",
        "tf.random.shuffle(not_shuffled_2, seed=7)\n",
        "tf.random.shuffle(not_shuffled_3, seed=52)\n",
        "tf.random.shuffle(not_shuffled_4, seed=10)\n",
        "tf.random.shuffle(not_shuffled_5, seed=4)"
      ],
      "execution_count": null,
      "outputs": [
        {
          "output_type": "execute_result",
          "data": {
            "text/plain": [
              "<tf.Tensor: shape=(3, 2), dtype=int32, numpy=\n",
              "array([[ 3, 90],\n",
              "       [ 2,  1],\n",
              "       [ 4,  5]], dtype=int32)>"
            ]
          },
          "metadata": {
            "tags": []
          },
          "execution_count": 20
        }
      ]
    },
    {
      "cell_type": "markdown",
      "metadata": {
        "id": "rY8lDPPI-JJe"
      },
      "source": [
        "✅ **Takeaway**:\n",
        "\n",
        "If you want the shuffled tensors to be shuffled the same way, the global shuffle `tf.random.set)seed(x)` will ensure reproducibility."
      ]
    },
    {
      "cell_type": "markdown",
      "metadata": {
        "id": "m8KIaX6JESO-"
      },
      "source": [
        "### Other ways to make tensors"
      ]
    },
    {
      "cell_type": "code",
      "metadata": {
        "colab": {
          "base_uri": "https://localhost:8080/"
        },
        "id": "zJhOQeMgEVlS",
        "outputId": "1f041184-3339-427d-d93c-4df6ba06b2ba"
      },
      "source": [
        "# From NumPy: .ones()- creates an array filled with ones.\n",
        "tf.ones([10,7])"
      ],
      "execution_count": null,
      "outputs": [
        {
          "output_type": "execute_result",
          "data": {
            "text/plain": [
              "<tf.Tensor: shape=(10, 7), dtype=float32, numpy=\n",
              "array([[1., 1., 1., 1., 1., 1., 1.],\n",
              "       [1., 1., 1., 1., 1., 1., 1.],\n",
              "       [1., 1., 1., 1., 1., 1., 1.],\n",
              "       [1., 1., 1., 1., 1., 1., 1.],\n",
              "       [1., 1., 1., 1., 1., 1., 1.],\n",
              "       [1., 1., 1., 1., 1., 1., 1.],\n",
              "       [1., 1., 1., 1., 1., 1., 1.],\n",
              "       [1., 1., 1., 1., 1., 1., 1.],\n",
              "       [1., 1., 1., 1., 1., 1., 1.],\n",
              "       [1., 1., 1., 1., 1., 1., 1.]], dtype=float32)>"
            ]
          },
          "metadata": {
            "tags": []
          },
          "execution_count": 21
        }
      ]
    },
    {
      "cell_type": "code",
      "metadata": {
        "id": "_-4Z1EU2Efma",
        "colab": {
          "base_uri": "https://localhost:8080/"
        },
        "outputId": "87e4859a-0f86-437f-d93e-570a75a74873"
      },
      "source": [
        "# Create an array filled with zeros.\n",
        "tf.zeros(shape=(3,4))"
      ],
      "execution_count": null,
      "outputs": [
        {
          "output_type": "execute_result",
          "data": {
            "text/plain": [
              "<tf.Tensor: shape=(3, 4), dtype=float32, numpy=\n",
              "array([[0., 0., 0., 0.],\n",
              "       [0., 0., 0., 0.],\n",
              "       [0., 0., 0., 0.]], dtype=float32)>"
            ]
          },
          "metadata": {
            "tags": []
          },
          "execution_count": 22
        }
      ]
    },
    {
      "cell_type": "code",
      "metadata": {
        "colab": {
          "base_uri": "https://localhost:8080/"
        },
        "id": "uw7xwD1j-quW",
        "outputId": "d14b5068-14d4-4b29-c561-5cd1116fde21"
      },
      "source": [
        "# You can also turn NumPy arrays into tensors\n",
        "import numpy as np\n",
        "\n",
        "numpy_A = np.arange(1,25, dtype=np.int32) # Creates a NumPy array between 1:25.\n",
        "numpy_A\n",
        "\n",
        "# X = tf.constant(some_matrix) # Capital for matrix\n",
        "# y = tf.constant(vector) # lowercase for vector"
      ],
      "execution_count": null,
      "outputs": [
        {
          "output_type": "execute_result",
          "data": {
            "text/plain": [
              "array([ 1,  2,  3,  4,  5,  6,  7,  8,  9, 10, 11, 12, 13, 14, 15, 16, 17,\n",
              "       18, 19, 20, 21, 22, 23, 24], dtype=int32)"
            ]
          },
          "metadata": {
            "tags": []
          },
          "execution_count": 23
        }
      ]
    },
    {
      "cell_type": "markdown",
      "metadata": {
        "id": "7t2d0864_FMb"
      },
      "source": [
        "The main difference betweeb NumPy arrays and Tensorflow is that the tensors can be run on a GPU."
      ]
    },
    {
      "cell_type": "code",
      "metadata": {
        "colab": {
          "base_uri": "https://localhost:8080/"
        },
        "id": "8o4yezKi_Kyi",
        "outputId": "8e809ab6-417f-4716-a1df-7f7e2c1ed3ed"
      },
      "source": [
        "A = tf.constant(numpy_A, shape=(2,3,4))\n",
        "A"
      ],
      "execution_count": null,
      "outputs": [
        {
          "output_type": "execute_result",
          "data": {
            "text/plain": [
              "<tf.Tensor: shape=(2, 3, 4), dtype=int32, numpy=\n",
              "array([[[ 1,  2,  3,  4],\n",
              "        [ 5,  6,  7,  8],\n",
              "        [ 9, 10, 11, 12]],\n",
              "\n",
              "       [[13, 14, 15, 16],\n",
              "        [17, 18, 19, 20],\n",
              "        [21, 22, 23, 24]]], dtype=int32)>"
            ]
          },
          "metadata": {
            "tags": []
          },
          "execution_count": 24
        }
      ]
    },
    {
      "cell_type": "code",
      "metadata": {
        "id": "7TeJWMhqBGLq",
        "colab": {
          "base_uri": "https://localhost:8080/"
        },
        "outputId": "fb932814-9fa4-4046-d57b-eed63f9f9bf6"
      },
      "source": [
        "# Creating a random array in NumPy\n",
        "numpy_B = np.random.rand(1,25)\n",
        "tf.constant(numpy_B, shape=(5,5,1))\n"
      ],
      "execution_count": null,
      "outputs": [
        {
          "output_type": "execute_result",
          "data": {
            "text/plain": [
              "<tf.Tensor: shape=(5, 5, 1), dtype=float64, numpy=\n",
              "array([[[0.68958143],\n",
              "        [0.6785252 ],\n",
              "        [0.68011063],\n",
              "        [0.75386639],\n",
              "        [0.26046596]],\n",
              "\n",
              "       [[0.81437099],\n",
              "        [0.06954139],\n",
              "        [0.47054294],\n",
              "        [0.75027556],\n",
              "        [0.64069035]],\n",
              "\n",
              "       [[0.14150282],\n",
              "        [0.55692655],\n",
              "        [0.34664578],\n",
              "        [0.65381203],\n",
              "        [0.6730201 ]],\n",
              "\n",
              "       [[0.28779618],\n",
              "        [0.47219626],\n",
              "        [0.65008114],\n",
              "        [0.04970666],\n",
              "        [0.10423215]],\n",
              "\n",
              "       [[0.87909588],\n",
              "        [0.08437172],\n",
              "        [0.56982459],\n",
              "        [0.8723653 ],\n",
              "        [0.25040608]]])>"
            ]
          },
          "metadata": {
            "tags": []
          },
          "execution_count": 25
        }
      ]
    },
    {
      "cell_type": "markdown",
      "metadata": {
        "id": "yTaZujJ4CB1o"
      },
      "source": [
        "### Getting Information from Tensors\n",
        "\n",
        "When dealing with tensors, you wan to be aware of the following attributes:\n",
        "\n",
        "* Shape\n",
        "* Rank\n",
        "* Axis or Dimension\n",
        "* Size"
      ]
    },
    {
      "cell_type": "code",
      "metadata": {
        "colab": {
          "base_uri": "https://localhost:8080/"
        },
        "id": "nJA7p3YiBgpr",
        "outputId": "a4e51ec1-ec10-4c24-b556-39edbc82ebea"
      },
      "source": [
        "# Create a fank 4 tensor (4 dimension tensor)\n",
        "rank_4 = tf.zeros(shape=(2,3,4,5))\n",
        "rank_4[0]\n",
        "rank_4.shape, rank_4.ndim, tf.size(rank_4)"
      ],
      "execution_count": null,
      "outputs": [
        {
          "output_type": "execute_result",
          "data": {
            "text/plain": [
              "(TensorShape([2, 3, 4, 5]), 4, <tf.Tensor: shape=(), dtype=int32, numpy=120>)"
            ]
          },
          "metadata": {
            "tags": []
          },
          "execution_count": 26
        }
      ]
    },
    {
      "cell_type": "code",
      "metadata": {
        "colab": {
          "base_uri": "https://localhost:8080/"
        },
        "id": "JqaJx1OpNueq",
        "outputId": "7b429d95-40b8-421d-a69d-84bae8ffc8b8"
      },
      "source": [
        "# Get various attributes of our tensor\n",
        "print(\"Data type of every element:\", rank_4.dtype)\n",
        "print(\"Number of dimensions (rank):\", rank_4.ndim)\n",
        "print(\"Shape of tensor:\", rank_4.shape)\n",
        "print(\"Elements on 0 axis:\", rank_4.shape[0])\n",
        "print(\"Elements on last axis:\", rank_4.shape[-1])\n",
        "print(\"Total elements tensor:\", tf.size(rank_4))\n",
        "print(\"Total elements tensor:\", tf.size(rank_4).numpy())"
      ],
      "execution_count": null,
      "outputs": [
        {
          "output_type": "stream",
          "text": [
            "Data type of every element: <dtype: 'float32'>\n",
            "Number of dimensions (rank): 4\n",
            "Shape of tensor: (2, 3, 4, 5)\n",
            "Elements on 0 axis: 2\n",
            "Elements on last axis: 5\n",
            "Total elements tensor: tf.Tensor(120, shape=(), dtype=int32)\n",
            "Total elements tensor: 120\n"
          ],
          "name": "stdout"
        }
      ]
    },
    {
      "cell_type": "markdown",
      "metadata": {
        "id": "iiABizEhPfsE"
      },
      "source": [
        "### Indexing Tensors\n",
        "- Tensors can be indexed just like Python lists."
      ]
    },
    {
      "cell_type": "code",
      "metadata": {
        "colab": {
          "base_uri": "https://localhost:8080/"
        },
        "id": "ef__TApFPgnK",
        "outputId": "01178e63-eed1-4764-ac13-aeb6cddc6950"
      },
      "source": [
        "# Get the first 2 elements of each dimension\n",
        "rank_4[:1, :1, :1, :]"
      ],
      "execution_count": null,
      "outputs": [
        {
          "output_type": "execute_result",
          "data": {
            "text/plain": [
              "<tf.Tensor: shape=(1, 1, 1, 5), dtype=float32, numpy=array([[[[0., 0., 0., 0., 0.]]]], dtype=float32)>"
            ]
          },
          "metadata": {
            "tags": []
          },
          "execution_count": 28
        }
      ]
    },
    {
      "cell_type": "code",
      "metadata": {
        "colab": {
          "base_uri": "https://localhost:8080/"
        },
        "id": "ayFdvW6Akvja",
        "outputId": "93804e23-1cd9-4e87-e269-cf7a2e317599"
      },
      "source": [
        "# Create a rank 2 tensor\n",
        "rank_2 = tf.constant([[1,2],[3,4]])\n",
        "\n",
        "# Get shape and dimensions \n",
        "rank_2.shape, rank_2.ndim\n",
        "\n",
        "\n",
        "# Get last items of tensor\n",
        "rank_2[:,-2]"
      ],
      "execution_count": null,
      "outputs": [
        {
          "output_type": "execute_result",
          "data": {
            "text/plain": [
              "<tf.Tensor: shape=(2,), dtype=int32, numpy=array([1, 3], dtype=int32)>"
            ]
          },
          "metadata": {
            "tags": []
          },
          "execution_count": 29
        }
      ]
    },
    {
      "cell_type": "markdown",
      "metadata": {
        "id": "lhxVJ7nFmEMB"
      },
      "source": [
        "### Adding another dimension to a tensor\n"
      ]
    },
    {
      "cell_type": "code",
      "metadata": {
        "colab": {
          "base_uri": "https://localhost:8080/"
        },
        "id": "0VT2r3fBlGkB",
        "outputId": "65f6a56f-81a5-45cf-a872-32aad9bbe7ef"
      },
      "source": [
        "rank_3 = rank_2[...,tf.newaxis]\n",
        "rank_3"
      ],
      "execution_count": null,
      "outputs": [
        {
          "output_type": "execute_result",
          "data": {
            "text/plain": [
              "<tf.Tensor: shape=(2, 2, 1), dtype=int32, numpy=\n",
              "array([[[1],\n",
              "        [2]],\n",
              "\n",
              "       [[3],\n",
              "        [4]]], dtype=int32)>"
            ]
          },
          "metadata": {
            "tags": []
          },
          "execution_count": 30
        }
      ]
    },
    {
      "cell_type": "code",
      "metadata": {
        "colab": {
          "base_uri": "https://localhost:8080/"
        },
        "id": "gUtXSCFEmVM7",
        "outputId": "23c44ad3-0954-4d1f-c02c-eb64eb2d34b3"
      },
      "source": [
        "# Alternative to .newaxis\n",
        "tf.expand_dims(rank_2, axis=-1)"
      ],
      "execution_count": null,
      "outputs": [
        {
          "output_type": "execute_result",
          "data": {
            "text/plain": [
              "<tf.Tensor: shape=(2, 2, 1), dtype=int32, numpy=\n",
              "array([[[1],\n",
              "        [2]],\n",
              "\n",
              "       [[3],\n",
              "        [4]]], dtype=int32)>"
            ]
          },
          "metadata": {
            "tags": []
          },
          "execution_count": 31
        }
      ]
    },
    {
      "cell_type": "markdown",
      "metadata": {
        "id": "un3v0FWWnQYp"
      },
      "source": [
        "### Manipulating Tensors"
      ]
    },
    {
      "cell_type": "code",
      "metadata": {
        "colab": {
          "base_uri": "https://localhost:8080/"
        },
        "id": "66zUZ_gnmdCj",
        "outputId": "343fd5a6-6925-41fd-e32f-ae5238f8ac74"
      },
      "source": [
        "# You can add or subtract values to a tensor by using the basic python operators\n",
        "\n",
        "tensor = tf.constant([[1,2],[3,4]])\n",
        "tensor + 10\n",
        "\n",
        "tensor = tf.constant([[1,2],[3,4]])\n",
        "tensor - 10\n",
        "\n",
        "# Multiplication also works\n",
        "tensor = tf.constant([[1,2],[3,4]])\n",
        "tensor * 10"
      ],
      "execution_count": null,
      "outputs": [
        {
          "output_type": "execute_result",
          "data": {
            "text/plain": [
              "<tf.Tensor: shape=(2, 2), dtype=int32, numpy=\n",
              "array([[10, 20],\n",
              "       [30, 40]], dtype=int32)>"
            ]
          },
          "metadata": {
            "tags": []
          },
          "execution_count": 32
        }
      ]
    },
    {
      "cell_type": "code",
      "metadata": {
        "id": "Tf103Z3qnwzU"
      },
      "source": [
        "# We can use the TensorFlow built-in functions as well `tf.multiplY(tensor,value you wantto multiply to the tensor)`"
      ],
      "execution_count": null,
      "outputs": []
    },
    {
      "cell_type": "markdown",
      "metadata": {
        "id": "OR6qM-5soGO9"
      },
      "source": [
        "## Matrix Multiplication\n",
        "* Perhaps one of the most important operations performed in machine learning.\n",
        "\n",
        "* To review how matrix multiplication works: [Link - Math is Fun]('https://www.mathsisfun.com/algebra/matrix-multiplying.html')\n",
        "\n",
        "* There are two rules to Matrix multiplication\n",
        "  1. The inner dimension has to be the same dimensions as the inner diminson.\n",
        "  2. The resulting matrix has the same shape as the inner dimensions.\n",
        "\n",
        "\n"
      ]
    },
    {
      "cell_type": "code",
      "metadata": {
        "colab": {
          "base_uri": "https://localhost:8080/"
        },
        "id": "7RCwbyaGoJEy",
        "outputId": "841e3004-2138-4aa0-8c38-3e9a2e98d2b1"
      },
      "source": [
        "tf.matmul(tensor,tensor)"
      ],
      "execution_count": null,
      "outputs": [
        {
          "output_type": "execute_result",
          "data": {
            "text/plain": [
              "<tf.Tensor: shape=(2, 2), dtype=int32, numpy=\n",
              "array([[ 7, 10],\n",
              "       [15, 22]], dtype=int32)>"
            ]
          },
          "metadata": {
            "tags": []
          },
          "execution_count": 34
        }
      ]
    },
    {
      "cell_type": "code",
      "metadata": {
        "colab": {
          "base_uri": "https://localhost:8080/"
        },
        "id": "2T71OEIHp-Eb",
        "outputId": "4f910b58-55fb-4e22-a9a3-6beb70ced1a4"
      },
      "source": [
        "# Example Tensor Multiuplication\n",
        "tensor_A = tf.constant([[1,2,5],[7,2,1],[3,3,3]])\n",
        "tensor_B = tf.constant([[3,5],[6,7],[1,8]])\n",
        "\n",
        "tf.matmul(tensor_A, tensor_B)"
      ],
      "execution_count": null,
      "outputs": [
        {
          "output_type": "execute_result",
          "data": {
            "text/plain": [
              "<tf.Tensor: shape=(3, 2), dtype=int32, numpy=\n",
              "array([[20, 59],\n",
              "       [34, 57],\n",
              "       [30, 60]], dtype=int32)>"
            ]
          },
          "metadata": {
            "tags": []
          },
          "execution_count": 35
        }
      ]
    },
    {
      "cell_type": "code",
      "metadata": {
        "colab": {
          "base_uri": "https://localhost:8080/"
        },
        "id": "OmunQdFXtxZ8",
        "outputId": "c6bd1d16-ceb2-4e82-d872-6824d0497ff1"
      },
      "source": [
        "# Transforming Matrices/Tensors\n",
        "\n",
        "# .reshape()\n",
        "tf.reshape(tensor_A, shape=(3,3))\n",
        "\n",
        "# .transpose()\n",
        "tf.transpose(tensor_B)"
      ],
      "execution_count": null,
      "outputs": [
        {
          "output_type": "execute_result",
          "data": {
            "text/plain": [
              "<tf.Tensor: shape=(2, 3), dtype=int32, numpy=\n",
              "array([[3, 6, 1],\n",
              "       [5, 7, 8]], dtype=int32)>"
            ]
          },
          "metadata": {
            "tags": []
          },
          "execution_count": 36
        }
      ]
    },
    {
      "cell_type": "markdown",
      "metadata": {
        "id": "iJQsy5E9uhFj"
      },
      "source": [
        "### 🔁 Review: The dot product\n",
        "- also referred to a matrix multiplication\n",
        "- You can perform using\n",
        "  - `tf.matmul()`\n",
        "  - `tf.tensordot()`"
      ]
    },
    {
      "cell_type": "code",
      "metadata": {
        "colab": {
          "base_uri": "https://localhost:8080/"
        },
        "id": "mFhByuepuzeq",
        "outputId": "6228de18-5302-444a-ce66-4f9622c3ce0b"
      },
      "source": [
        "# Perform the dot product on tensor_A and tensor_B\n",
        "# tensor_A,tensor_B\n",
        "\n",
        "tf.tensordot(tf.transpose(tensor_B), tensor_A, axes=1) # axes"
      ],
      "execution_count": null,
      "outputs": [
        {
          "output_type": "execute_result",
          "data": {
            "text/plain": [
              "<tf.Tensor: shape=(2, 3), dtype=int32, numpy=\n",
              "array([[48, 21, 24],\n",
              "       [78, 48, 56]], dtype=int32)>"
            ]
          },
          "metadata": {
            "tags": []
          },
          "execution_count": 37
        }
      ]
    },
    {
      "cell_type": "code",
      "metadata": {
        "colab": {
          "base_uri": "https://localhost:8080/"
        },
        "id": "e-5mCXlgvTVe",
        "outputId": "6282b464-9ceb-4bf6-b00d-a6fb2526e41b"
      },
      "source": [
        "tf.tensordot(tf.reshape(tensor_B, (2,3)),tensor_A, axes=1)"
      ],
      "execution_count": null,
      "outputs": [
        {
          "output_type": "execute_result",
          "data": {
            "text/plain": [
              "<tf.Tensor: shape=(2, 3), dtype=int32, numpy=\n",
              "array([[56, 34, 38],\n",
              "       [38, 40, 60]], dtype=int32)>"
            ]
          },
          "metadata": {
            "tags": []
          },
          "execution_count": 38
        }
      ]
    },
    {
      "cell_type": "markdown",
      "metadata": {
        "id": "R2g1GYydwRgR"
      },
      "source": [
        "#### 💡 When multiplying matrices, .shape() and .transpose() are not the same."
      ]
    },
    {
      "cell_type": "code",
      "metadata": {
        "colab": {
          "base_uri": "https://localhost:8080/"
        },
        "id": "R3iK7hX1wvGx",
        "outputId": "3ba9aef3-6d78-4c6b-d401-8aea8a72737c"
      },
      "source": [
        "print(\"Original tensor\", tensor_B)\n",
        "print(\"\\n\")\n",
        "\n",
        "print(\"Original tensor\", tf.reshape(tensor_B, (2,3)))\n",
        "print(\"\\n\")\n",
        "\n",
        "print(\"Original tensor\", tf.transpose(tensor_B))\n",
        "print(\"\\n\")\n"
      ],
      "execution_count": null,
      "outputs": [
        {
          "output_type": "stream",
          "text": [
            "Original tensor tf.Tensor(\n",
            "[[3 5]\n",
            " [6 7]\n",
            " [1 8]], shape=(3, 2), dtype=int32)\n",
            "\n",
            "\n",
            "Original tensor tf.Tensor(\n",
            "[[3 5 6]\n",
            " [7 1 8]], shape=(2, 3), dtype=int32)\n",
            "\n",
            "\n",
            "Original tensor tf.Tensor(\n",
            "[[3 6 1]\n",
            " [5 7 8]], shape=(2, 3), dtype=int32)\n",
            "\n",
            "\n"
          ],
          "name": "stdout"
        }
      ]
    },
    {
      "cell_type": "markdown",
      "metadata": {
        "id": "JYD3ZcKMye0k"
      },
      "source": [
        "### Aggregating Tensors\n",
        "- Aggregating tensors is equivalent to condensing them from multiple values into a smaller number of values."
      ]
    },
    {
      "cell_type": "code",
      "metadata": {
        "colab": {
          "base_uri": "https://localhost:8080/"
        },
        "id": "VMxSUkSoz-ys",
        "outputId": "1dc0dcf5-af50-4047-aad9-ea2902a6026f"
      },
      "source": [
        "E = tf.constant(np.random.randint(0,100, size=20))\n",
        "print(E)\n",
        "print(tf.reduce_min(E)) # Minimum of the tensor\n",
        "print(tf.reduce_max(E)) # Maximum of the tensor\n",
        "print(tf.reduce_mean(E)) # Mean of the tensor\n",
        "print(tf.reduce_sum(E)) # Sum of the tensor\n",
        "\n",
        "\n",
        "# Bonus\n",
        "print(tf.math.reduce_variance(tf.cast(E, dtype=tf.float32))) # Variance of the tensor\n",
        "print(tf.math.reduce_std(tf.cast(E,dtype=tf.float32))) # Standard deviation of the tensor\n"
      ],
      "execution_count": null,
      "outputs": [
        {
          "output_type": "stream",
          "text": [
            "tf.Tensor([ 3 92 11 66 94 28 39 61 96 36 10 84 32 54 23 42 88  8 68 77], shape=(20,), dtype=int64)\n",
            "tf.Tensor(3, shape=(), dtype=int64)\n",
            "tf.Tensor(96, shape=(), dtype=int64)\n",
            "tf.Tensor(50, shape=(), dtype=int64)\n",
            "tf.Tensor(1012, shape=(), dtype=int64)\n",
            "tf.Tensor(943.34, shape=(), dtype=float32)\n",
            "tf.Tensor(30.71384, shape=(), dtype=float32)\n"
          ],
          "name": "stdout"
        }
      ]
    },
    {
      "cell_type": "markdown",
      "metadata": {
        "id": "xkm4B9Zd5br3"
      },
      "source": [
        "### Finding Positional maximums and minimums of a tensor"
      ]
    },
    {
      "cell_type": "code",
      "metadata": {
        "colab": {
          "base_uri": "https://localhost:8080/"
        },
        "id": "Nrjlhr-dz_Zb",
        "outputId": "dd850676-1652-4af9-d7c2-020e9c72aa37"
      },
      "source": [
        "tf.random.set_seed(14)\n",
        "F = tf.random.uniform(shape=[30])\n",
        "# print(F)\n",
        "\n",
        "# Index of our largest value position (Where in the matrix is the max value?)\n",
        "print(\"Index of largest value position: \",tf.argmax(F).numpy())\n",
        "\n",
        "# Index of our largest value position (Where in the matrix is the max value?)\n",
        "print(\"Largest value of F: \",tf.reduce_max(F).numpy())\n",
        "\n",
        "# Checking for Equality\n",
        "F[tf.argmax(F)] == tf.reduce_max(F)\n",
        "\n"
      ],
      "execution_count": null,
      "outputs": [
        {
          "output_type": "stream",
          "text": [
            "Index of largest value position:  26\n",
            "Largest value of F:  0.9998363\n"
          ],
          "name": "stdout"
        },
        {
          "output_type": "execute_result",
          "data": {
            "text/plain": [
              "<tf.Tensor: shape=(), dtype=bool, numpy=True>"
            ]
          },
          "metadata": {
            "tags": []
          },
          "execution_count": 41
        }
      ]
    },
    {
      "cell_type": "markdown",
      "metadata": {
        "id": "IYPAOauAXlkj"
      },
      "source": [
        "### Squeezing Tensors (removing all single dimensions)"
      ]
    },
    {
      "cell_type": "code",
      "metadata": {
        "colab": {
          "base_uri": "https://localhost:8080/"
        },
        "id": "xHEN2kVJXrqo",
        "outputId": "6cdfe196-36d8-454d-f440-9574ac027654"
      },
      "source": [
        "# Create a tensor to start out\n",
        "tf.random.set_seed(42)\n",
        "S = tf.constant(tf.random.uniform(shape=[50]), shape=(1,1,1,1,50))\n",
        "\n",
        "print(S)\n",
        "\n",
        "print(tf.squeeze(S))\n"
      ],
      "execution_count": null,
      "outputs": [
        {
          "output_type": "stream",
          "text": [
            "tf.Tensor(\n",
            "[[[[[0.6645621  0.44100678 0.3528825  0.46448255 0.03366041 0.68467236\n",
            "     0.74011743 0.8724445  0.22632635 0.22319686 0.3103881  0.7223358\n",
            "     0.13318717 0.5480639  0.5746088  0.8996835  0.00946367 0.5212307\n",
            "     0.6345445  0.1993283  0.72942245 0.54583454 0.10756552 0.6767061\n",
            "     0.6602763  0.33695042 0.60141766 0.21062577 0.8527372  0.44062173\n",
            "     0.9485276  0.23752594 0.81179297 0.5263394  0.494308   0.21612847\n",
            "     0.8457197  0.8718841  0.3083862  0.6868038  0.23764038 0.7817228\n",
            "     0.9671384  0.06870162 0.79873943 0.66028714 0.5871513  0.16461694\n",
            "     0.7381023  0.32054043]]]]], shape=(1, 1, 1, 1, 50), dtype=float32)\n",
            "tf.Tensor(\n",
            "[0.6645621  0.44100678 0.3528825  0.46448255 0.03366041 0.68467236\n",
            " 0.74011743 0.8724445  0.22632635 0.22319686 0.3103881  0.7223358\n",
            " 0.13318717 0.5480639  0.5746088  0.8996835  0.00946367 0.5212307\n",
            " 0.6345445  0.1993283  0.72942245 0.54583454 0.10756552 0.6767061\n",
            " 0.6602763  0.33695042 0.60141766 0.21062577 0.8527372  0.44062173\n",
            " 0.9485276  0.23752594 0.81179297 0.5263394  0.494308   0.21612847\n",
            " 0.8457197  0.8718841  0.3083862  0.6868038  0.23764038 0.7817228\n",
            " 0.9671384  0.06870162 0.79873943 0.66028714 0.5871513  0.16461694\n",
            " 0.7381023  0.32054043], shape=(50,), dtype=float32)\n"
          ],
          "name": "stdout"
        }
      ]
    },
    {
      "cell_type": "markdown",
      "metadata": {
        "id": "4IljLKnkYrIa"
      },
      "source": [
        "### One-Hot Encoding\n",
        "\n",
        "* A form of numerical encoding"
      ]
    },
    {
      "cell_type": "code",
      "metadata": {
        "colab": {
          "base_uri": "https://localhost:8080/"
        },
        "id": "TEm5mZygZHgU",
        "outputId": "463b2c54-1063-4a37-c42a-fa464ed4c8c8"
      },
      "source": [
        "# Create a list of indices\n",
        "\n",
        "some_list = [0,1,2,3]\n",
        "tf.one_hot(some_list, 4)"
      ],
      "execution_count": null,
      "outputs": [
        {
          "output_type": "execute_result",
          "data": {
            "text/plain": [
              "<tf.Tensor: shape=(4, 4), dtype=float32, numpy=\n",
              "array([[1., 0., 0., 0.],\n",
              "       [0., 1., 0., 0.],\n",
              "       [0., 0., 1., 0.],\n",
              "       [0., 0., 0., 1.]], dtype=float32)>"
            ]
          },
          "metadata": {
            "tags": []
          },
          "execution_count": 57
        }
      ]
    },
    {
      "cell_type": "markdown",
      "metadata": {
        "id": "rkHcEdT_V_kF"
      },
      "source": [
        "### Tensors & NumPy\n",
        "* Tensorflow and Numpy work very well together."
      ]
    },
    {
      "cell_type": "code",
      "metadata": {
        "colab": {
          "base_uri": "https://localhost:8080/"
        },
        "id": "ESD7ldbOWNUJ",
        "outputId": "d8eab0b6-556d-4f75-bd8b-3ab1449c29e7"
      },
      "source": [
        "# Create a tensor from a NumPy array\n",
        "J = tf.constant(np.array([3,4,5,6]))\n",
        "J"
      ],
      "execution_count": null,
      "outputs": [
        {
          "output_type": "execute_result",
          "data": {
            "text/plain": [
              "<tf.Tensor: shape=(4,), dtype=int64, numpy=array([3, 4, 5, 6])>"
            ]
          },
          "metadata": {
            "tags": []
          },
          "execution_count": 46
        }
      ]
    },
    {
      "cell_type": "code",
      "metadata": {
        "colab": {
          "base_uri": "https://localhost:8080/"
        },
        "id": "-wTVXxlBWg4u",
        "outputId": "518fd700-fd42-4b44-8ea7-2344eeb2fc14"
      },
      "source": [
        "# Convert Tensor into NumPy array\n",
        "np.array(J), type(np.array(J))"
      ],
      "execution_count": null,
      "outputs": [
        {
          "output_type": "execute_result",
          "data": {
            "text/plain": [
              "(array([3, 4, 5, 6]), numpy.ndarray)"
            ]
          },
          "metadata": {
            "tags": []
          },
          "execution_count": 47
        }
      ]
    },
    {
      "cell_type": "code",
      "metadata": {
        "colab": {
          "base_uri": "https://localhost:8080/"
        },
        "id": "GvhVDE0TXFXk",
        "outputId": "10416825-bfe1-48bb-b7f7-9cf5e05979d6"
      },
      "source": [
        "# Convert tensor J into a NumPy array\n",
        "\n",
        "J.numpy(), type(J.numpy())"
      ],
      "execution_count": null,
      "outputs": [
        {
          "output_type": "execute_result",
          "data": {
            "text/plain": [
              "(array([3, 4, 5, 6]), numpy.ndarray)"
            ]
          },
          "metadata": {
            "tags": []
          },
          "execution_count": 48
        }
      ]
    }
  ]
}